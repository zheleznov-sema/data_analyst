{
 "cells": [
  {
   "cell_type": "markdown",
   "id": "386f2ae7",
   "metadata": {
    "deletable": false,
    "editable": false,
    "id": "386f2ae7"
   },
   "source": [
    "# Исследование надежности заемщиков\n"
   ]
  },
  {
   "cell_type": "markdown",
   "id": "ffe86f65",
   "metadata": {
    "deletable": false,
    "editable": false,
    "id": "ffe86f65"
   },
   "source": [
    "Во второй части проекта вы выполните шаги 3 и 4. Их вручную проверит ревьюер.\n",
    "Чтобы вам не пришлось писать код заново для шагов 1 и 2, мы добавили авторские решения в ячейки с кодом. \n",
    "\n"
   ]
  },
  {
   "cell_type": "markdown",
   "id": "26613308",
   "metadata": {
    "deletable": false,
    "editable": false,
    "id": "26613308"
   },
   "source": [
    "## Откройте таблицу и изучите общую информацию о данных"
   ]
  },
  {
   "cell_type": "markdown",
   "id": "3c9f838e",
   "metadata": {
    "deletable": false,
    "editable": false,
    "id": "3c9f838e"
   },
   "source": [
    "**Задание 1. Импортируйте библиотеку pandas. Считайте данные из csv-файла в датафрейм и сохраните в переменную `data`. Путь к файлу:**\n",
    "\n",
    "`/datasets/data.csv`"
   ]
  },
  {
   "cell_type": "code",
   "execution_count": 2,
   "id": "77a68a90",
   "metadata": {
    "deletable": false,
    "id": "77a68a90"
   },
   "outputs": [],
   "source": [
    "import pandas as pd\n",
    "\n",
    "try:\n",
    "    data = pd.read_csv('/datasets/data.csv')\n",
    "except:\n",
    "    data = pd.read_csv('https://code.s3.yandex.net/datasets/data.csv')"
   ]
  },
  {
   "cell_type": "markdown",
   "id": "45365635",
   "metadata": {
    "deletable": false,
    "editable": false,
    "id": "45365635"
   },
   "source": [
    "**Задание 2. Выведите первые 20 строчек датафрейма `data` на экран.**"
   ]
  },
  {
   "cell_type": "code",
   "execution_count": 3,
   "id": "b0451a9a",
   "metadata": {
    "deletable": false,
    "id": "b0451a9a",
    "outputId": "1a8f3ef2-d323-4ec2-ddf7-89670b5944c4"
   },
   "outputs": [
    {
     "data": {
      "text/html": [
       "<div>\n",
       "<style scoped>\n",
       "    .dataframe tbody tr th:only-of-type {\n",
       "        vertical-align: middle;\n",
       "    }\n",
       "\n",
       "    .dataframe tbody tr th {\n",
       "        vertical-align: top;\n",
       "    }\n",
       "\n",
       "    .dataframe thead th {\n",
       "        text-align: right;\n",
       "    }\n",
       "</style>\n",
       "<table border=\"1\" class=\"dataframe\">\n",
       "  <thead>\n",
       "    <tr style=\"text-align: right;\">\n",
       "      <th></th>\n",
       "      <th>children</th>\n",
       "      <th>days_employed</th>\n",
       "      <th>dob_years</th>\n",
       "      <th>education</th>\n",
       "      <th>education_id</th>\n",
       "      <th>family_status</th>\n",
       "      <th>family_status_id</th>\n",
       "      <th>gender</th>\n",
       "      <th>income_type</th>\n",
       "      <th>debt</th>\n",
       "      <th>total_income</th>\n",
       "      <th>purpose</th>\n",
       "    </tr>\n",
       "  </thead>\n",
       "  <tbody>\n",
       "    <tr>\n",
       "      <th>0</th>\n",
       "      <td>1</td>\n",
       "      <td>-8437.673028</td>\n",
       "      <td>42</td>\n",
       "      <td>высшее</td>\n",
       "      <td>0</td>\n",
       "      <td>женат / замужем</td>\n",
       "      <td>0</td>\n",
       "      <td>F</td>\n",
       "      <td>сотрудник</td>\n",
       "      <td>0</td>\n",
       "      <td>253875.639453</td>\n",
       "      <td>покупка жилья</td>\n",
       "    </tr>\n",
       "    <tr>\n",
       "      <th>1</th>\n",
       "      <td>1</td>\n",
       "      <td>-4024.803754</td>\n",
       "      <td>36</td>\n",
       "      <td>среднее</td>\n",
       "      <td>1</td>\n",
       "      <td>женат / замужем</td>\n",
       "      <td>0</td>\n",
       "      <td>F</td>\n",
       "      <td>сотрудник</td>\n",
       "      <td>0</td>\n",
       "      <td>112080.014102</td>\n",
       "      <td>приобретение автомобиля</td>\n",
       "    </tr>\n",
       "    <tr>\n",
       "      <th>2</th>\n",
       "      <td>0</td>\n",
       "      <td>-5623.422610</td>\n",
       "      <td>33</td>\n",
       "      <td>Среднее</td>\n",
       "      <td>1</td>\n",
       "      <td>женат / замужем</td>\n",
       "      <td>0</td>\n",
       "      <td>M</td>\n",
       "      <td>сотрудник</td>\n",
       "      <td>0</td>\n",
       "      <td>145885.952297</td>\n",
       "      <td>покупка жилья</td>\n",
       "    </tr>\n",
       "    <tr>\n",
       "      <th>3</th>\n",
       "      <td>3</td>\n",
       "      <td>-4124.747207</td>\n",
       "      <td>32</td>\n",
       "      <td>среднее</td>\n",
       "      <td>1</td>\n",
       "      <td>женат / замужем</td>\n",
       "      <td>0</td>\n",
       "      <td>M</td>\n",
       "      <td>сотрудник</td>\n",
       "      <td>0</td>\n",
       "      <td>267628.550329</td>\n",
       "      <td>дополнительное образование</td>\n",
       "    </tr>\n",
       "    <tr>\n",
       "      <th>4</th>\n",
       "      <td>0</td>\n",
       "      <td>340266.072047</td>\n",
       "      <td>53</td>\n",
       "      <td>среднее</td>\n",
       "      <td>1</td>\n",
       "      <td>гражданский брак</td>\n",
       "      <td>1</td>\n",
       "      <td>F</td>\n",
       "      <td>пенсионер</td>\n",
       "      <td>0</td>\n",
       "      <td>158616.077870</td>\n",
       "      <td>сыграть свадьбу</td>\n",
       "    </tr>\n",
       "    <tr>\n",
       "      <th>5</th>\n",
       "      <td>0</td>\n",
       "      <td>-926.185831</td>\n",
       "      <td>27</td>\n",
       "      <td>высшее</td>\n",
       "      <td>0</td>\n",
       "      <td>гражданский брак</td>\n",
       "      <td>1</td>\n",
       "      <td>M</td>\n",
       "      <td>компаньон</td>\n",
       "      <td>0</td>\n",
       "      <td>255763.565419</td>\n",
       "      <td>покупка жилья</td>\n",
       "    </tr>\n",
       "    <tr>\n",
       "      <th>6</th>\n",
       "      <td>0</td>\n",
       "      <td>-2879.202052</td>\n",
       "      <td>43</td>\n",
       "      <td>высшее</td>\n",
       "      <td>0</td>\n",
       "      <td>женат / замужем</td>\n",
       "      <td>0</td>\n",
       "      <td>F</td>\n",
       "      <td>компаньон</td>\n",
       "      <td>0</td>\n",
       "      <td>240525.971920</td>\n",
       "      <td>операции с жильем</td>\n",
       "    </tr>\n",
       "    <tr>\n",
       "      <th>7</th>\n",
       "      <td>0</td>\n",
       "      <td>-152.779569</td>\n",
       "      <td>50</td>\n",
       "      <td>СРЕДНЕЕ</td>\n",
       "      <td>1</td>\n",
       "      <td>женат / замужем</td>\n",
       "      <td>0</td>\n",
       "      <td>M</td>\n",
       "      <td>сотрудник</td>\n",
       "      <td>0</td>\n",
       "      <td>135823.934197</td>\n",
       "      <td>образование</td>\n",
       "    </tr>\n",
       "    <tr>\n",
       "      <th>8</th>\n",
       "      <td>2</td>\n",
       "      <td>-6929.865299</td>\n",
       "      <td>35</td>\n",
       "      <td>ВЫСШЕЕ</td>\n",
       "      <td>0</td>\n",
       "      <td>гражданский брак</td>\n",
       "      <td>1</td>\n",
       "      <td>F</td>\n",
       "      <td>сотрудник</td>\n",
       "      <td>0</td>\n",
       "      <td>95856.832424</td>\n",
       "      <td>на проведение свадьбы</td>\n",
       "    </tr>\n",
       "    <tr>\n",
       "      <th>9</th>\n",
       "      <td>0</td>\n",
       "      <td>-2188.756445</td>\n",
       "      <td>41</td>\n",
       "      <td>среднее</td>\n",
       "      <td>1</td>\n",
       "      <td>женат / замужем</td>\n",
       "      <td>0</td>\n",
       "      <td>M</td>\n",
       "      <td>сотрудник</td>\n",
       "      <td>0</td>\n",
       "      <td>144425.938277</td>\n",
       "      <td>покупка жилья для семьи</td>\n",
       "    </tr>\n",
       "    <tr>\n",
       "      <th>10</th>\n",
       "      <td>2</td>\n",
       "      <td>-4171.483647</td>\n",
       "      <td>36</td>\n",
       "      <td>высшее</td>\n",
       "      <td>0</td>\n",
       "      <td>женат / замужем</td>\n",
       "      <td>0</td>\n",
       "      <td>M</td>\n",
       "      <td>компаньон</td>\n",
       "      <td>0</td>\n",
       "      <td>113943.491460</td>\n",
       "      <td>покупка недвижимости</td>\n",
       "    </tr>\n",
       "    <tr>\n",
       "      <th>11</th>\n",
       "      <td>0</td>\n",
       "      <td>-792.701887</td>\n",
       "      <td>40</td>\n",
       "      <td>среднее</td>\n",
       "      <td>1</td>\n",
       "      <td>женат / замужем</td>\n",
       "      <td>0</td>\n",
       "      <td>F</td>\n",
       "      <td>сотрудник</td>\n",
       "      <td>0</td>\n",
       "      <td>77069.234271</td>\n",
       "      <td>покупка коммерческой недвижимости</td>\n",
       "    </tr>\n",
       "    <tr>\n",
       "      <th>12</th>\n",
       "      <td>0</td>\n",
       "      <td>NaN</td>\n",
       "      <td>65</td>\n",
       "      <td>среднее</td>\n",
       "      <td>1</td>\n",
       "      <td>гражданский брак</td>\n",
       "      <td>1</td>\n",
       "      <td>M</td>\n",
       "      <td>пенсионер</td>\n",
       "      <td>0</td>\n",
       "      <td>NaN</td>\n",
       "      <td>сыграть свадьбу</td>\n",
       "    </tr>\n",
       "    <tr>\n",
       "      <th>13</th>\n",
       "      <td>0</td>\n",
       "      <td>-1846.641941</td>\n",
       "      <td>54</td>\n",
       "      <td>неоконченное высшее</td>\n",
       "      <td>2</td>\n",
       "      <td>женат / замужем</td>\n",
       "      <td>0</td>\n",
       "      <td>F</td>\n",
       "      <td>сотрудник</td>\n",
       "      <td>0</td>\n",
       "      <td>130458.228857</td>\n",
       "      <td>приобретение автомобиля</td>\n",
       "    </tr>\n",
       "    <tr>\n",
       "      <th>14</th>\n",
       "      <td>0</td>\n",
       "      <td>-1844.956182</td>\n",
       "      <td>56</td>\n",
       "      <td>высшее</td>\n",
       "      <td>0</td>\n",
       "      <td>гражданский брак</td>\n",
       "      <td>1</td>\n",
       "      <td>F</td>\n",
       "      <td>компаньон</td>\n",
       "      <td>1</td>\n",
       "      <td>165127.911772</td>\n",
       "      <td>покупка жилой недвижимости</td>\n",
       "    </tr>\n",
       "    <tr>\n",
       "      <th>15</th>\n",
       "      <td>1</td>\n",
       "      <td>-972.364419</td>\n",
       "      <td>26</td>\n",
       "      <td>среднее</td>\n",
       "      <td>1</td>\n",
       "      <td>женат / замужем</td>\n",
       "      <td>0</td>\n",
       "      <td>F</td>\n",
       "      <td>сотрудник</td>\n",
       "      <td>0</td>\n",
       "      <td>116820.904450</td>\n",
       "      <td>строительство собственной недвижимости</td>\n",
       "    </tr>\n",
       "    <tr>\n",
       "      <th>16</th>\n",
       "      <td>0</td>\n",
       "      <td>-1719.934226</td>\n",
       "      <td>35</td>\n",
       "      <td>среднее</td>\n",
       "      <td>1</td>\n",
       "      <td>женат / замужем</td>\n",
       "      <td>0</td>\n",
       "      <td>F</td>\n",
       "      <td>сотрудник</td>\n",
       "      <td>0</td>\n",
       "      <td>289202.704229</td>\n",
       "      <td>недвижимость</td>\n",
       "    </tr>\n",
       "    <tr>\n",
       "      <th>17</th>\n",
       "      <td>0</td>\n",
       "      <td>-2369.999720</td>\n",
       "      <td>33</td>\n",
       "      <td>высшее</td>\n",
       "      <td>0</td>\n",
       "      <td>гражданский брак</td>\n",
       "      <td>1</td>\n",
       "      <td>M</td>\n",
       "      <td>сотрудник</td>\n",
       "      <td>0</td>\n",
       "      <td>90410.586745</td>\n",
       "      <td>строительство недвижимости</td>\n",
       "    </tr>\n",
       "    <tr>\n",
       "      <th>18</th>\n",
       "      <td>0</td>\n",
       "      <td>400281.136913</td>\n",
       "      <td>53</td>\n",
       "      <td>среднее</td>\n",
       "      <td>1</td>\n",
       "      <td>вдовец / вдова</td>\n",
       "      <td>2</td>\n",
       "      <td>F</td>\n",
       "      <td>пенсионер</td>\n",
       "      <td>0</td>\n",
       "      <td>56823.777243</td>\n",
       "      <td>на покупку подержанного автомобиля</td>\n",
       "    </tr>\n",
       "    <tr>\n",
       "      <th>19</th>\n",
       "      <td>0</td>\n",
       "      <td>-10038.818549</td>\n",
       "      <td>48</td>\n",
       "      <td>СРЕДНЕЕ</td>\n",
       "      <td>1</td>\n",
       "      <td>в разводе</td>\n",
       "      <td>3</td>\n",
       "      <td>F</td>\n",
       "      <td>сотрудник</td>\n",
       "      <td>0</td>\n",
       "      <td>242831.107982</td>\n",
       "      <td>на покупку своего автомобиля</td>\n",
       "    </tr>\n",
       "  </tbody>\n",
       "</table>\n",
       "</div>"
      ],
      "text/plain": [
       "    children  days_employed  dob_years            education  education_id  \\\n",
       "0          1   -8437.673028         42               высшее             0   \n",
       "1          1   -4024.803754         36              среднее             1   \n",
       "2          0   -5623.422610         33              Среднее             1   \n",
       "3          3   -4124.747207         32              среднее             1   \n",
       "4          0  340266.072047         53              среднее             1   \n",
       "5          0    -926.185831         27               высшее             0   \n",
       "6          0   -2879.202052         43               высшее             0   \n",
       "7          0    -152.779569         50              СРЕДНЕЕ             1   \n",
       "8          2   -6929.865299         35               ВЫСШЕЕ             0   \n",
       "9          0   -2188.756445         41              среднее             1   \n",
       "10         2   -4171.483647         36               высшее             0   \n",
       "11         0    -792.701887         40              среднее             1   \n",
       "12         0            NaN         65              среднее             1   \n",
       "13         0   -1846.641941         54  неоконченное высшее             2   \n",
       "14         0   -1844.956182         56               высшее             0   \n",
       "15         1    -972.364419         26              среднее             1   \n",
       "16         0   -1719.934226         35              среднее             1   \n",
       "17         0   -2369.999720         33               высшее             0   \n",
       "18         0  400281.136913         53              среднее             1   \n",
       "19         0  -10038.818549         48              СРЕДНЕЕ             1   \n",
       "\n",
       "       family_status  family_status_id gender income_type  debt  \\\n",
       "0    женат / замужем                 0      F   сотрудник     0   \n",
       "1    женат / замужем                 0      F   сотрудник     0   \n",
       "2    женат / замужем                 0      M   сотрудник     0   \n",
       "3    женат / замужем                 0      M   сотрудник     0   \n",
       "4   гражданский брак                 1      F   пенсионер     0   \n",
       "5   гражданский брак                 1      M   компаньон     0   \n",
       "6    женат / замужем                 0      F   компаньон     0   \n",
       "7    женат / замужем                 0      M   сотрудник     0   \n",
       "8   гражданский брак                 1      F   сотрудник     0   \n",
       "9    женат / замужем                 0      M   сотрудник     0   \n",
       "10   женат / замужем                 0      M   компаньон     0   \n",
       "11   женат / замужем                 0      F   сотрудник     0   \n",
       "12  гражданский брак                 1      M   пенсионер     0   \n",
       "13   женат / замужем                 0      F   сотрудник     0   \n",
       "14  гражданский брак                 1      F   компаньон     1   \n",
       "15   женат / замужем                 0      F   сотрудник     0   \n",
       "16   женат / замужем                 0      F   сотрудник     0   \n",
       "17  гражданский брак                 1      M   сотрудник     0   \n",
       "18    вдовец / вдова                 2      F   пенсионер     0   \n",
       "19         в разводе                 3      F   сотрудник     0   \n",
       "\n",
       "     total_income                                 purpose  \n",
       "0   253875.639453                           покупка жилья  \n",
       "1   112080.014102                 приобретение автомобиля  \n",
       "2   145885.952297                           покупка жилья  \n",
       "3   267628.550329              дополнительное образование  \n",
       "4   158616.077870                         сыграть свадьбу  \n",
       "5   255763.565419                           покупка жилья  \n",
       "6   240525.971920                       операции с жильем  \n",
       "7   135823.934197                             образование  \n",
       "8    95856.832424                   на проведение свадьбы  \n",
       "9   144425.938277                 покупка жилья для семьи  \n",
       "10  113943.491460                    покупка недвижимости  \n",
       "11   77069.234271       покупка коммерческой недвижимости  \n",
       "12            NaN                         сыграть свадьбу  \n",
       "13  130458.228857                 приобретение автомобиля  \n",
       "14  165127.911772              покупка жилой недвижимости  \n",
       "15  116820.904450  строительство собственной недвижимости  \n",
       "16  289202.704229                            недвижимость  \n",
       "17   90410.586745              строительство недвижимости  \n",
       "18   56823.777243      на покупку подержанного автомобиля  \n",
       "19  242831.107982            на покупку своего автомобиля  "
      ]
     },
     "execution_count": 3,
     "metadata": {},
     "output_type": "execute_result"
    }
   ],
   "source": [
    "data.head(20)"
   ]
  },
  {
   "cell_type": "markdown",
   "id": "0ed8f27f",
   "metadata": {
    "deletable": false,
    "editable": false,
    "id": "0ed8f27f"
   },
   "source": [
    "**Задание 3. Выведите основную информацию о датафрейме с помощью метода `info()`.**"
   ]
  },
  {
   "cell_type": "code",
   "execution_count": 4,
   "id": "ab3f863b",
   "metadata": {
    "deletable": false,
    "id": "ab3f863b",
    "outputId": "15376089-8dad-46c9-b520-c05248d43158"
   },
   "outputs": [
    {
     "name": "stdout",
     "output_type": "stream",
     "text": [
      "<class 'pandas.core.frame.DataFrame'>\n",
      "RangeIndex: 21525 entries, 0 to 21524\n",
      "Data columns (total 12 columns):\n",
      " #   Column            Non-Null Count  Dtype  \n",
      "---  ------            --------------  -----  \n",
      " 0   children          21525 non-null  int64  \n",
      " 1   days_employed     19351 non-null  float64\n",
      " 2   dob_years         21525 non-null  int64  \n",
      " 3   education         21525 non-null  object \n",
      " 4   education_id      21525 non-null  int64  \n",
      " 5   family_status     21525 non-null  object \n",
      " 6   family_status_id  21525 non-null  int64  \n",
      " 7   gender            21525 non-null  object \n",
      " 8   income_type       21525 non-null  object \n",
      " 9   debt              21525 non-null  int64  \n",
      " 10  total_income      19351 non-null  float64\n",
      " 11  purpose           21525 non-null  object \n",
      "dtypes: float64(2), int64(5), object(5)\n",
      "memory usage: 2.0+ MB\n"
     ]
    }
   ],
   "source": [
    "data.info()"
   ]
  },
  {
   "cell_type": "markdown",
   "id": "60e3e22d",
   "metadata": {
    "deletable": false,
    "editable": false,
    "id": "60e3e22d"
   },
   "source": [
    "## Предобработка данных"
   ]
  },
  {
   "cell_type": "markdown",
   "id": "03dc170c",
   "metadata": {
    "deletable": false,
    "editable": false,
    "id": "03dc170c"
   },
   "source": [
    "### Удаление пропусков"
   ]
  },
  {
   "cell_type": "markdown",
   "id": "a4f54eef",
   "metadata": {
    "deletable": false,
    "editable": false,
    "id": "a4f54eef"
   },
   "source": [
    "**Задание 4. Выведите количество пропущенных значений для каждого столбца. Используйте комбинацию двух методов.**"
   ]
  },
  {
   "cell_type": "code",
   "execution_count": 5,
   "id": "2dc372b2",
   "metadata": {
    "deletable": false,
    "id": "2dc372b2",
    "outputId": "81f4d817-781c-465c-ed15-91ce4446810d"
   },
   "outputs": [
    {
     "data": {
      "text/plain": [
       "children               0\n",
       "days_employed       2174\n",
       "dob_years              0\n",
       "education              0\n",
       "education_id           0\n",
       "family_status          0\n",
       "family_status_id       0\n",
       "gender                 0\n",
       "income_type            0\n",
       "debt                   0\n",
       "total_income        2174\n",
       "purpose                0\n",
       "dtype: int64"
      ]
     },
     "execution_count": 5,
     "metadata": {},
     "output_type": "execute_result"
    }
   ],
   "source": [
    "data.isna().sum()"
   ]
  },
  {
   "cell_type": "markdown",
   "id": "14f011b1",
   "metadata": {
    "deletable": false,
    "editable": false,
    "id": "14f011b1"
   },
   "source": [
    "**Задание 5. В двух столбцах есть пропущенные значения. Один из них — `days_employed`. Пропуски в этом столбце вы обработаете на следующем этапе. Другой столбец с пропущенными значениями — `total_income` — хранит данные о доходах. На сумму дохода сильнее всего влияет тип занятости, поэтому заполнить пропуски в этом столбце нужно медианным значением по каждому типу из столбца `income_type`. Например, у человека с типом занятости `сотрудник` пропуск в столбце `total_income` должен быть заполнен медианным доходом среди всех записей с тем же типом.**"
   ]
  },
  {
   "cell_type": "code",
   "execution_count": 6,
   "id": "bdabfb6e",
   "metadata": {
    "deletable": false,
    "id": "bdabfb6e"
   },
   "outputs": [],
   "source": [
    "for t in data['income_type'].unique():\n",
    "    data.loc[(data['income_type'] == t) & (data['total_income'].isna()), 'total_income'] = \\\n",
    "    data.loc[(data['income_type'] == t), 'total_income'].median()"
   ]
  },
  {
   "cell_type": "markdown",
   "id": "5be34059",
   "metadata": {
    "deletable": false,
    "editable": false,
    "id": "5be34059"
   },
   "source": [
    "### Обработка аномальных значений"
   ]
  },
  {
   "cell_type": "markdown",
   "id": "a87606cb",
   "metadata": {
    "deletable": false,
    "editable": false,
    "id": "a87606cb"
   },
   "source": [
    "**Задание 6. В данных могут встречаться артефакты (аномалии) — значения, которые не отражают действительность и появились по какой-то ошибке. таким артефактом будет отрицательное количество дней трудового стажа в столбце `days_employed`. Для реальных данных это нормально. Обработайте значения в этом столбце: замените все отрицательные значения положительными с помощью метода `abs()`.**"
   ]
  },
  {
   "cell_type": "code",
   "execution_count": 7,
   "id": "020c46cc",
   "metadata": {
    "deletable": false,
    "id": "020c46cc"
   },
   "outputs": [],
   "source": [
    "data['days_employed'] = data['days_employed'].abs()"
   ]
  },
  {
   "cell_type": "markdown",
   "id": "45538a3a",
   "metadata": {
    "deletable": false,
    "editable": false,
    "id": "45538a3a"
   },
   "source": [
    "**Задание 7. Для каждого типа занятости выведите медианное значение трудового стажа `days_employed` в днях.**"
   ]
  },
  {
   "cell_type": "code",
   "execution_count": 8,
   "id": "cd3e6328",
   "metadata": {
    "deletable": false,
    "id": "cd3e6328",
    "outputId": "801ef80e-522b-4668-f34e-565af7432bcf"
   },
   "outputs": [
    {
     "data": {
      "text/plain": [
       "income_type\n",
       "безработный        366413.652744\n",
       "в декрете            3296.759962\n",
       "госслужащий          2689.368353\n",
       "компаньон            1547.382223\n",
       "пенсионер          365213.306266\n",
       "предприниматель       520.848083\n",
       "сотрудник            1574.202821\n",
       "студент               578.751554\n",
       "Name: days_employed, dtype: float64"
      ]
     },
     "execution_count": 8,
     "metadata": {},
     "output_type": "execute_result"
    }
   ],
   "source": [
    "data.groupby('income_type')['days_employed'].agg('median')"
   ]
  },
  {
   "cell_type": "markdown",
   "id": "90c5f058",
   "metadata": {
    "deletable": false,
    "editable": false,
    "id": "90c5f058"
   },
   "source": [
    "У двух типов (безработные и пенсионеры) получатся аномально большие значения. Исправить такие значения сложно, поэтому оставьте их как есть."
   ]
  },
  {
   "cell_type": "markdown",
   "id": "9652e50d",
   "metadata": {
    "deletable": false,
    "editable": false,
    "id": "9652e50d"
   },
   "source": [
    "**Задание 8. Выведите перечень уникальных значений столбца `children`.**"
   ]
  },
  {
   "cell_type": "code",
   "execution_count": 9,
   "id": "dbb37b8e",
   "metadata": {
    "deletable": false,
    "id": "dbb37b8e",
    "outputId": "6975b15c-7f95-4697-d16d-a0c79b657b03"
   },
   "outputs": [
    {
     "data": {
      "text/plain": [
       "array([ 1,  0,  3,  2, -1,  4, 20,  5])"
      ]
     },
     "execution_count": 9,
     "metadata": {},
     "output_type": "execute_result"
    }
   ],
   "source": [
    "data['children'].unique()"
   ]
  },
  {
   "cell_type": "markdown",
   "id": "2b8b0715",
   "metadata": {
    "deletable": false,
    "editable": false,
    "id": "2b8b0715"
   },
   "source": [
    "**Задание 9. В столбце `children` есть два аномальных значения. Удалите строки, в которых встречаются такие аномальные значения из датафрейма `data`.**"
   ]
  },
  {
   "cell_type": "code",
   "execution_count": 10,
   "id": "20009df8",
   "metadata": {
    "deletable": false,
    "id": "20009df8"
   },
   "outputs": [],
   "source": [
    "data = data[(data['children'] != -1) & (data['children'] != 20)]"
   ]
  },
  {
   "cell_type": "markdown",
   "id": "8c6ac9f1",
   "metadata": {
    "deletable": false,
    "editable": false,
    "id": "8c6ac9f1"
   },
   "source": [
    "**Задание 10. Ещё раз выведите перечень уникальных значений столбца `children`, чтобы убедиться, что артефакты удалены.**"
   ]
  },
  {
   "cell_type": "code",
   "execution_count": 11,
   "id": "07337b81",
   "metadata": {
    "deletable": false,
    "id": "07337b81",
    "outputId": "b2097101-d49d-44d9-901b-32a65c9463d1"
   },
   "outputs": [
    {
     "data": {
      "text/plain": [
       "array([1, 0, 3, 2, 4, 5])"
      ]
     },
     "execution_count": 11,
     "metadata": {},
     "output_type": "execute_result"
    }
   ],
   "source": [
    "data['children'].unique()"
   ]
  },
  {
   "cell_type": "markdown",
   "id": "ee3f52d4",
   "metadata": {
    "deletable": false,
    "editable": false,
    "id": "ee3f52d4"
   },
   "source": [
    "### Удаление пропусков (продолжение)"
   ]
  },
  {
   "cell_type": "markdown",
   "id": "a700b0e4",
   "metadata": {
    "deletable": false,
    "editable": false,
    "id": "a700b0e4"
   },
   "source": [
    "**Задание 11. Заполните пропуски в столбце `days_employed` медианными значениями по каждого типа занятости `income_type`.**"
   ]
  },
  {
   "cell_type": "code",
   "execution_count": 12,
   "id": "61946b83",
   "metadata": {
    "deletable": false,
    "id": "61946b83"
   },
   "outputs": [],
   "source": [
    "for t in data['income_type'].unique():\n",
    "    data.loc[(data['income_type'] == t) & (data['days_employed'].isna()), 'days_employed'] = \\\n",
    "    data.loc[(data['income_type'] == t), 'days_employed'].median()"
   ]
  },
  {
   "cell_type": "markdown",
   "id": "550dcd9b",
   "metadata": {
    "deletable": false,
    "editable": false,
    "id": "550dcd9b"
   },
   "source": [
    "**Задание 12. Убедитесь, что все пропуски заполнены. Проверьте себя и ещё раз выведите количество пропущенных значений для каждого столбца с помощью двух методов.**"
   ]
  },
  {
   "cell_type": "code",
   "execution_count": 13,
   "id": "937c7014",
   "metadata": {
    "deletable": false,
    "id": "937c7014",
    "outputId": "8da1e4e1-358e-4e87-98c9-f261bce0a7b2"
   },
   "outputs": [
    {
     "data": {
      "text/plain": [
       "children            0\n",
       "days_employed       0\n",
       "dob_years           0\n",
       "education           0\n",
       "education_id        0\n",
       "family_status       0\n",
       "family_status_id    0\n",
       "gender              0\n",
       "income_type         0\n",
       "debt                0\n",
       "total_income        0\n",
       "purpose             0\n",
       "dtype: int64"
      ]
     },
     "execution_count": 13,
     "metadata": {},
     "output_type": "execute_result"
    }
   ],
   "source": [
    "data.isna().sum()"
   ]
  },
  {
   "cell_type": "markdown",
   "id": "d522e295",
   "metadata": {
    "deletable": false,
    "editable": false,
    "id": "d522e295"
   },
   "source": [
    "### Изменение типов данных"
   ]
  },
  {
   "cell_type": "markdown",
   "id": "c229c581",
   "metadata": {
    "deletable": false,
    "editable": false,
    "id": "c229c581"
   },
   "source": [
    "**Задание 13. Замените вещественный тип данных в столбце `total_income` на целочисленный с помощью метода `astype()`.**"
   ]
  },
  {
   "cell_type": "code",
   "execution_count": 14,
   "id": "31036462",
   "metadata": {
    "deletable": false,
    "id": "31036462"
   },
   "outputs": [],
   "source": [
    "data['total_income'] = data['total_income'].astype(int)"
   ]
  },
  {
   "cell_type": "markdown",
   "id": "b8e3d1d9",
   "metadata": {
    "deletable": false,
    "editable": false,
    "id": "b8e3d1d9"
   },
   "source": [
    "### Обработка дубликатов"
   ]
  },
  {
   "cell_type": "markdown",
   "id": "9be53c49",
   "metadata": {
    "deletable": false,
    "editable": false,
    "id": "9be53c49"
   },
   "source": [
    "**Задание 14. Обработайте неявные дубликаты в столбце `education`. В этом столбце есть одни и те же значения, но записанные по-разному: с использованием заглавных и строчных букв. Приведите их к нижнему регистру.**"
   ]
  },
  {
   "cell_type": "code",
   "execution_count": 15,
   "id": "d89e73e1",
   "metadata": {
    "deletable": false,
    "id": "d89e73e1"
   },
   "outputs": [],
   "source": [
    "data['education'] = data['education'].str.lower()"
   ]
  },
  {
   "cell_type": "markdown",
   "id": "01d4500e",
   "metadata": {
    "deletable": false,
    "editable": false,
    "id": "01d4500e"
   },
   "source": [
    "**Задание 15. Выведите на экран количество строк-дубликатов в данных. Если такие строки присутствуют, удалите их.**"
   ]
  },
  {
   "cell_type": "code",
   "execution_count": 16,
   "id": "e10efb23",
   "metadata": {
    "deletable": false,
    "id": "e10efb23",
    "outputId": "9684deba-1934-42d1-99e1-cda61740f822"
   },
   "outputs": [
    {
     "data": {
      "text/plain": [
       "71"
      ]
     },
     "execution_count": 16,
     "metadata": {},
     "output_type": "execute_result"
    }
   ],
   "source": [
    "data.duplicated().sum()"
   ]
  },
  {
   "cell_type": "code",
   "execution_count": 17,
   "id": "df853f20",
   "metadata": {
    "deletable": false,
    "id": "df853f20"
   },
   "outputs": [],
   "source": [
    "data = data.drop_duplicates()"
   ]
  },
  {
   "cell_type": "markdown",
   "id": "627be38f",
   "metadata": {
    "deletable": false,
    "editable": false,
    "id": "627be38f"
   },
   "source": [
    "### Категоризация данных"
   ]
  },
  {
   "cell_type": "markdown",
   "id": "4684c3e0",
   "metadata": {
    "deletable": false,
    "editable": false,
    "id": "4684c3e0"
   },
   "source": [
    "**Задание 16. На основании диапазонов, указанных ниже, создайте в датафрейме `data` столбец `total_income_category` с категориями:**\n",
    "\n",
    "- 0–30000 — `'E'`;\n",
    "- 30001–50000 — `'D'`;\n",
    "- 50001–200000 — `'C'`;\n",
    "- 200001–1000000 — `'B'`;\n",
    "- 1000001 и выше — `'A'`.\n",
    "\n",
    "\n",
    "**Например, кредитополучателю с доходом 25000 нужно назначить категорию `'E'`, а клиенту, получающему 235000, — `'B'`. Используйте собственную функцию с именем `categorize_income()` и метод `apply()`.**"
   ]
  },
  {
   "cell_type": "code",
   "execution_count": 18,
   "id": "78965238",
   "metadata": {
    "deletable": false,
    "id": "78965238"
   },
   "outputs": [],
   "source": [
    "def categorize_income(income):\n",
    "    try:\n",
    "        if 0 <= income <= 30000:\n",
    "            return 'E'\n",
    "        elif 30001 <= income <= 50000:\n",
    "            return 'D'\n",
    "        elif 50001 <= income <= 200000:\n",
    "            return 'C'\n",
    "        elif 200001 <= income <= 1000000:\n",
    "            return 'B'\n",
    "        elif income >= 1000001:\n",
    "            return 'A'\n",
    "    except:\n",
    "        pass"
   ]
  },
  {
   "cell_type": "code",
   "execution_count": 19,
   "id": "0980ada1",
   "metadata": {
    "deletable": false,
    "id": "0980ada1"
   },
   "outputs": [],
   "source": [
    "data['total_income_category'] = data['total_income'].apply(categorize_income)"
   ]
  },
  {
   "cell_type": "markdown",
   "id": "9917bba0",
   "metadata": {
    "deletable": false,
    "editable": false,
    "id": "9917bba0"
   },
   "source": [
    "**Задание 17. Выведите на экран перечень уникальных целей взятия кредита из столбца `purpose`.**"
   ]
  },
  {
   "cell_type": "code",
   "execution_count": 20,
   "id": "ee07b65e",
   "metadata": {
    "deletable": false,
    "id": "ee07b65e",
    "outputId": "673c12d9-7d7e-4ae0-9812-c622c89dd244"
   },
   "outputs": [
    {
     "data": {
      "text/plain": [
       "array(['покупка жилья', 'приобретение автомобиля',\n",
       "       'дополнительное образование', 'сыграть свадьбу',\n",
       "       'операции с жильем', 'образование', 'на проведение свадьбы',\n",
       "       'покупка жилья для семьи', 'покупка недвижимости',\n",
       "       'покупка коммерческой недвижимости', 'покупка жилой недвижимости',\n",
       "       'строительство собственной недвижимости', 'недвижимость',\n",
       "       'строительство недвижимости', 'на покупку подержанного автомобиля',\n",
       "       'на покупку своего автомобиля',\n",
       "       'операции с коммерческой недвижимостью',\n",
       "       'строительство жилой недвижимости', 'жилье',\n",
       "       'операции со своей недвижимостью', 'автомобили',\n",
       "       'заняться образованием', 'сделка с подержанным автомобилем',\n",
       "       'получение образования', 'автомобиль', 'свадьба',\n",
       "       'получение дополнительного образования', 'покупка своего жилья',\n",
       "       'операции с недвижимостью', 'получение высшего образования',\n",
       "       'свой автомобиль', 'сделка с автомобилем',\n",
       "       'профильное образование', 'высшее образование',\n",
       "       'покупка жилья для сдачи', 'на покупку автомобиля', 'ремонт жилью',\n",
       "       'заняться высшим образованием'], dtype=object)"
      ]
     },
     "execution_count": 20,
     "metadata": {},
     "output_type": "execute_result"
    }
   ],
   "source": [
    "data['purpose'].unique()"
   ]
  },
  {
   "cell_type": "markdown",
   "id": "52b79d56",
   "metadata": {
    "deletable": false,
    "editable": false,
    "id": "52b79d56"
   },
   "source": [
    "**Задание 18. Создайте функцию, которая на основании данных из столбца `purpose` сформирует новый столбец `purpose_category`, в который войдут следующие категории:**\n",
    "\n",
    "- `'операции с автомобилем'`,\n",
    "- `'операции с недвижимостью'`,\n",
    "- `'проведение свадьбы'`,\n",
    "- `'получение образования'`.\n",
    "\n",
    "**Например, если в столбце `purpose` находится подстрока `'на покупку автомобиля'`, то в столбце `purpose_category` должна появиться строка `'операции с автомобилем'`.**\n",
    "\n",
    "**Используйте собственную функцию с именем `categorize_purpose()` и метод `apply()`. Изучите данные в столбце `purpose` и определите, какие подстроки помогут вам правильно определить категорию.**"
   ]
  },
  {
   "cell_type": "code",
   "execution_count": 21,
   "id": "be41da5d",
   "metadata": {
    "deletable": false,
    "id": "be41da5d"
   },
   "outputs": [],
   "source": [
    "def categorize_purpose(row):\n",
    "    try:\n",
    "        if 'автом' in row:\n",
    "            return 'операции с автомобилем'\n",
    "        elif 'жил' in row or 'недвиж' in row:\n",
    "            return 'операции с недвижимостью'\n",
    "        elif 'свад' in row:\n",
    "            return 'проведение свадьбы'\n",
    "        elif 'образов' in row:\n",
    "            return 'получение образования'\n",
    "    except:\n",
    "        return 'нет категории'"
   ]
  },
  {
   "cell_type": "code",
   "execution_count": 22,
   "id": "94c4a19a",
   "metadata": {
    "deletable": false,
    "id": "94c4a19a"
   },
   "outputs": [],
   "source": [
    "data['purpose_category'] = data['purpose'].apply(categorize_purpose)"
   ]
  },
  {
   "cell_type": "markdown",
   "id": "3d596c34",
   "metadata": {
    "deletable": false,
    "editable": false,
    "id": "3d596c34"
   },
   "source": [
    "### Шаг 3. Исследуйте данные и ответьте на вопросы"
   ]
  },
  {
   "cell_type": "markdown",
   "id": "648db036",
   "metadata": {
    "deletable": false,
    "editable": false,
    "id": "648db036"
   },
   "source": [
    "#### 3.1 Есть ли зависимость между количеством детей и возвратом кредита в срок?"
   ]
  },
  {
   "cell_type": "code",
   "execution_count": 23,
   "id": "7fcff25e",
   "metadata": {
    "deletable": false,
    "id": "7fcff25e"
   },
   "outputs": [
    {
     "data": {
      "text/html": [
       "<div>\n",
       "<style scoped>\n",
       "    .dataframe tbody tr th:only-of-type {\n",
       "        vertical-align: middle;\n",
       "    }\n",
       "\n",
       "    .dataframe tbody tr th {\n",
       "        vertical-align: top;\n",
       "    }\n",
       "\n",
       "    .dataframe thead th {\n",
       "        text-align: right;\n",
       "    }\n",
       "</style>\n",
       "<table border=\"1\" class=\"dataframe\">\n",
       "  <thead>\n",
       "    <tr style=\"text-align: right;\">\n",
       "      <th></th>\n",
       "      <th>Общее кол-во займов</th>\n",
       "      <th>Общая сумма должников</th>\n",
       "      <th>Cреднее значение в категории: \"Задолженность по возврату кредитов\"</th>\n",
       "    </tr>\n",
       "    <tr>\n",
       "      <th>Количество детей в семье</th>\n",
       "      <th></th>\n",
       "      <th></th>\n",
       "      <th></th>\n",
       "    </tr>\n",
       "  </thead>\n",
       "  <tbody>\n",
       "    <tr>\n",
       "      <th>0</th>\n",
       "      <td>14091</td>\n",
       "      <td>1063</td>\n",
       "      <td>7.54%</td>\n",
       "    </tr>\n",
       "    <tr>\n",
       "      <th>1</th>\n",
       "      <td>4808</td>\n",
       "      <td>444</td>\n",
       "      <td>9.23%</td>\n",
       "    </tr>\n",
       "    <tr>\n",
       "      <th>2</th>\n",
       "      <td>2052</td>\n",
       "      <td>194</td>\n",
       "      <td>9.45%</td>\n",
       "    </tr>\n",
       "    <tr>\n",
       "      <th>3</th>\n",
       "      <td>330</td>\n",
       "      <td>27</td>\n",
       "      <td>8.18%</td>\n",
       "    </tr>\n",
       "    <tr>\n",
       "      <th>4</th>\n",
       "      <td>41</td>\n",
       "      <td>4</td>\n",
       "      <td>9.76%</td>\n",
       "    </tr>\n",
       "    <tr>\n",
       "      <th>5</th>\n",
       "      <td>9</td>\n",
       "      <td>0</td>\n",
       "      <td>0.00%</td>\n",
       "    </tr>\n",
       "  </tbody>\n",
       "</table>\n",
       "</div>"
      ],
      "text/plain": [
       "                          Общее кол-во займов  Общая сумма должников  \\\n",
       "Количество детей в семье                                               \n",
       "0                                       14091                   1063   \n",
       "1                                        4808                    444   \n",
       "2                                        2052                    194   \n",
       "3                                         330                     27   \n",
       "4                                          41                      4   \n",
       "5                                           9                      0   \n",
       "\n",
       "                         Cреднее значение в категории: \"Задолженность по возврату кредитов\"  \n",
       "Количество детей в семье                                                                     \n",
       "0                                                                     7.54%                  \n",
       "1                                                                     9.23%                  \n",
       "2                                                                     9.45%                  \n",
       "3                                                                     8.18%                  \n",
       "4                                                                     9.76%                  \n",
       "5                                                                     0.00%                  "
      ]
     },
     "execution_count": 23,
     "metadata": {},
     "output_type": "execute_result"
    }
   ],
   "source": [
    "import pandas as pd\n",
    "data_pivot = data.pivot_table(index='children', values = 'debt', aggfunc = ['count', 'sum', 'mean'])\n",
    "data_pivot.columns = ['Общее кол-во займов', 'Общая сумма должников', 'Cреднее значение в категории: \\\"Задолженность по возврату кредитов\"']\n",
    "data_pivot.index.name='Количество детей в семье'\n",
    "data_pivot['Cреднее значение в категории: \\\"Задолженность по возврату кредитов\"'] = [f'{x:,.2%}' for x in data_pivot['Cреднее значение в категории: \\\"Задолженность по возврату кредитов\"']]\n",
    "data_pivot = data_pivot.sort_values('Количество детей в семье', ascending = True)\n",
    "data_pivot.head(10)"
   ]
  },
  {
   "cell_type": "markdown",
   "id": "2eb9088e",
   "metadata": {
    "deletable": false,
    "id": "2eb9088e"
   },
   "source": [
    "**Вывод:** \n",
    "\n",
    "\n",
    "\n",
    "В отношении семей с 0, 1 и 2 детьми прослеживается наглядная зависимость: **чем меньше детей, тем меньше процент просрочки по кредиту.** \n",
    "\n",
    "\n",
    "    \n",
    "Кол-во займов у каждой категории с увеличением кол-ва детей также заметно уменьшается.\n",
    "\n",
    "    \n",
    "    \n",
    "Рассмотрим градацию по пункту \"Проценту просрочки кредита\":\n",
    "\n",
    "1) 2 ребенка в семье - общее кол-во займов: 2052; процент просрочки: 9.45%\n",
    "\n",
    "\n",
    "2) 1 ребенок в семье - общее кол-во займов: 4808; процент просрочки: 9.23%\n",
    "\n",
    "\n",
    "3) О детей в семье - общее кол-во займов: 14091; процент просрочки: 7.54%\n",
    "    \n",
    "    \n",
    "Семьям с 3 детьми, возможно, можеть быть легче выплачивать кредит, в связи с оказываемой поддержкой государства. Т.к. семья с 3\n",
    "\n",
    "    \n",
    "детьми имеет статус многодетной, различные субсидии и выделенные средства могут благоприятно сказываться на выплате кредита в срок.\n",
    "    \n",
    "По семьям с 4 и 5 детьми можно сделать два вывода:\n",
    "    \n",
    "a) Исходя из имеющихся данных, семья с 4 детьми подвергается большой финансовой нагрузке и в результате этого, не справляется с выплатой кредита в срок. \n",
    "    \n",
    "Клиенты, у которых 5 детей, берут кредиты реже, но выполняют обязательства без просрочек, т.к.подходят к вопросу кредитования взвешенно и ответственно.\n",
    "    \n",
    "    \n",
    "b) Для более подробного и объективного анализа необходимо больше данных. Тогда, возможно, итоговые цифры могут поменяться.\n",
    "    \n",
    "\n"
   ]
  },
  {
   "cell_type": "markdown",
   "id": "74c9b3a7",
   "metadata": {
    "deletable": false,
    "editable": false,
    "id": "74c9b3a7"
   },
   "source": [
    "#### 3.2 Есть ли зависимость между семейным положением и возвратом кредита в срок?"
   ]
  },
  {
   "cell_type": "code",
   "execution_count": 24,
   "id": "8098ab3b",
   "metadata": {
    "deletable": false,
    "id": "8098ab3b"
   },
   "outputs": [
    {
     "data": {
      "text/html": [
       "<div>\n",
       "<style scoped>\n",
       "    .dataframe tbody tr th:only-of-type {\n",
       "        vertical-align: middle;\n",
       "    }\n",
       "\n",
       "    .dataframe tbody tr th {\n",
       "        vertical-align: top;\n",
       "    }\n",
       "\n",
       "    .dataframe thead th {\n",
       "        text-align: right;\n",
       "    }\n",
       "</style>\n",
       "<table border=\"1\" class=\"dataframe\">\n",
       "  <thead>\n",
       "    <tr style=\"text-align: right;\">\n",
       "      <th></th>\n",
       "      <th>Общее кол-во займов</th>\n",
       "      <th>Общая сумма должников</th>\n",
       "      <th>Cреднее значение в категории: \"Задолженность по возврату кредитов\"</th>\n",
       "    </tr>\n",
       "    <tr>\n",
       "      <th>Семейное положение</th>\n",
       "      <th></th>\n",
       "      <th></th>\n",
       "      <th></th>\n",
       "    </tr>\n",
       "  </thead>\n",
       "  <tbody>\n",
       "    <tr>\n",
       "      <th>Не женат / не замужем</th>\n",
       "      <td>2796</td>\n",
       "      <td>273</td>\n",
       "      <td>9.76%</td>\n",
       "    </tr>\n",
       "    <tr>\n",
       "      <th>гражданский брак</th>\n",
       "      <td>4134</td>\n",
       "      <td>385</td>\n",
       "      <td>9.31%</td>\n",
       "    </tr>\n",
       "    <tr>\n",
       "      <th>женат / замужем</th>\n",
       "      <td>12261</td>\n",
       "      <td>927</td>\n",
       "      <td>7.56%</td>\n",
       "    </tr>\n",
       "    <tr>\n",
       "      <th>в разводе</th>\n",
       "      <td>1189</td>\n",
       "      <td>84</td>\n",
       "      <td>7.06%</td>\n",
       "    </tr>\n",
       "    <tr>\n",
       "      <th>вдовец / вдова</th>\n",
       "      <td>951</td>\n",
       "      <td>63</td>\n",
       "      <td>6.62%</td>\n",
       "    </tr>\n",
       "  </tbody>\n",
       "</table>\n",
       "</div>"
      ],
      "text/plain": [
       "                       Общее кол-во займов  Общая сумма должников  \\\n",
       "Семейное положение                                                  \n",
       "Не женат / не замужем                 2796                    273   \n",
       "гражданский брак                      4134                    385   \n",
       "женат / замужем                      12261                    927   \n",
       "в разводе                             1189                     84   \n",
       "вдовец / вдова                         951                     63   \n",
       "\n",
       "                      Cреднее значение в категории: \"Задолженность по возврату кредитов\"  \n",
       "Семейное положение                                                                        \n",
       "Не женат / не замужем                                              9.76%                  \n",
       "гражданский брак                                                   9.31%                  \n",
       "женат / замужем                                                    7.56%                  \n",
       "в разводе                                                          7.06%                  \n",
       "вдовец / вдова                                                     6.62%                  "
      ]
     },
     "execution_count": 24,
     "metadata": {},
     "output_type": "execute_result"
    }
   ],
   "source": [
    "import pandas as pd\n",
    "data_pivot_family = data.pivot_table(index='family_status', values = 'debt', aggfunc = ['count', 'sum', 'mean'])\n",
    "data_pivot_family.columns = ['Общее кол-во займов', 'Общая сумма должников', 'Cреднее значение в категории: \\\"Задолженность по возврату кредитов\"']\n",
    "data_pivot_family.index.name='Семейное положение'\n",
    "data_pivot_family['Cреднее значение в категории: \\\"Задолженность по возврату кредитов\"'] = [f'{x:,.2%}' for x in data_pivot_family['Cреднее значение в категории: \\\"Задолженность по возврату кредитов\"']]\n",
    "data_pivot_family = data_pivot_family.sort_values('Cреднее значение в категории: \\\"Задолженность по возврату кредитов\"', ascending = False)\n",
    "data_pivot_family.head(10)"
   ]
  },
  {
   "cell_type": "markdown",
   "id": "c389ca63",
   "metadata": {
    "deletable": false,
    "id": "c389ca63"
   },
   "source": [
    "**Вывод:** \n",
    "В данном случае, **четкая зависимость между семейным положением и возвратом кредита в срок не прослеживается**\n",
    "\n",
    "— На основании данных, можно сделать вывод, что люди, которые состоят в отношениях (женат/замужем) могут иметь большую потребность в кредите, однако процент просрочек может быть как средний, так и высокий (гражданский брак). \n",
    "Об этом говорит среднее значение задолженности и общее кол-во займов. Предполагаю, что связано может быть с тем, что финансовые обязательства можно разделить с партнером.\n",
    "\n",
    "— Категориям без партнера может быть сложнее справляться с разными жизненными обстоятельствами: невыгодные условия кредита, некорректная идентификация собственной покупательской способности, болезнь, потеря работы. В случае, если свои финансовые обязательства не на кого переложить, возможна просрочка кредита.\n",
    "\n",
    "— Примечательно, что у категорий «вдова\\вдовец» и «в разводе» минимальные показатели займов и просрочек. Это может говорит о том, что такие клиенты относятся к кредитам более осторожно и ответственно"
   ]
  },
  {
   "cell_type": "markdown",
   "id": "9529de68",
   "metadata": {
    "deletable": false,
    "editable": false,
    "id": "9529de68"
   },
   "source": [
    "#### 3.3 Есть ли зависимость между уровнем дохода и возвратом кредита в срок?"
   ]
  },
  {
   "cell_type": "code",
   "execution_count": 25,
   "id": "8787f44a",
   "metadata": {
    "deletable": false,
    "id": "8787f44a"
   },
   "outputs": [
    {
     "data": {
      "text/html": [
       "<div>\n",
       "<style scoped>\n",
       "    .dataframe tbody tr th:only-of-type {\n",
       "        vertical-align: middle;\n",
       "    }\n",
       "\n",
       "    .dataframe tbody tr th {\n",
       "        vertical-align: top;\n",
       "    }\n",
       "\n",
       "    .dataframe thead th {\n",
       "        text-align: right;\n",
       "    }\n",
       "</style>\n",
       "<table border=\"1\" class=\"dataframe\">\n",
       "  <thead>\n",
       "    <tr style=\"text-align: right;\">\n",
       "      <th></th>\n",
       "      <th>Общее кол-во займов</th>\n",
       "      <th>Общая сумма должников</th>\n",
       "      <th>Cреднее значение в категории: \"Задолженность по возврату кредитов\"</th>\n",
       "    </tr>\n",
       "    <tr>\n",
       "      <th>Ежемесячный доход в руб.</th>\n",
       "      <th></th>\n",
       "      <th></th>\n",
       "      <th></th>\n",
       "    </tr>\n",
       "  </thead>\n",
       "  <tbody>\n",
       "    <tr>\n",
       "      <th>C</th>\n",
       "      <td>15921</td>\n",
       "      <td>1353</td>\n",
       "      <td>8.50%</td>\n",
       "    </tr>\n",
       "    <tr>\n",
       "      <th>B</th>\n",
       "      <td>5014</td>\n",
       "      <td>354</td>\n",
       "      <td>7.06%</td>\n",
       "    </tr>\n",
       "    <tr>\n",
       "      <th>D</th>\n",
       "      <td>349</td>\n",
       "      <td>21</td>\n",
       "      <td>6.02%</td>\n",
       "    </tr>\n",
       "    <tr>\n",
       "      <th>A</th>\n",
       "      <td>25</td>\n",
       "      <td>2</td>\n",
       "      <td>8.00%</td>\n",
       "    </tr>\n",
       "    <tr>\n",
       "      <th>E</th>\n",
       "      <td>22</td>\n",
       "      <td>2</td>\n",
       "      <td>9.09%</td>\n",
       "    </tr>\n",
       "  </tbody>\n",
       "</table>\n",
       "</div>"
      ],
      "text/plain": [
       "                          Общее кол-во займов  Общая сумма должников  \\\n",
       "Ежемесячный доход в руб.                                               \n",
       "C                                       15921                   1353   \n",
       "B                                        5014                    354   \n",
       "D                                         349                     21   \n",
       "A                                          25                      2   \n",
       "E                                          22                      2   \n",
       "\n",
       "                         Cреднее значение в категории: \"Задолженность по возврату кредитов\"  \n",
       "Ежемесячный доход в руб.                                                                     \n",
       "C                                                                     8.50%                  \n",
       "B                                                                     7.06%                  \n",
       "D                                                                     6.02%                  \n",
       "A                                                                     8.00%                  \n",
       "E                                                                     9.09%                  "
      ]
     },
     "execution_count": 25,
     "metadata": {},
     "output_type": "execute_result"
    }
   ],
   "source": [
    "def categorize_income(income):\n",
    "    try:\n",
    "        if 0 <= income <= 30000:\n",
    "            return 'E'\n",
    "        elif 30001 <= income <= 50000:\n",
    "            return 'D'\n",
    "        elif 50001 <= income <= 200000:\n",
    "            return 'C'\n",
    "        elif 200001 <= income <= 1000000:\n",
    "            return 'B'\n",
    "        elif income >= 1000001:\n",
    "            return 'A'\n",
    "    except:\n",
    "        pass\n",
    "data['total_income_category'] = data['total_income'].apply(categorize_income)\n",
    "data_pivot_income = data['total_income_category']\n",
    "data_pivot_income = data.pivot_table(index='total_income_category', values = 'debt', aggfunc = ['count', 'sum', 'mean'])\n",
    "data_pivot_income.columns = ['Общее кол-во займов', 'Общая сумма должников', 'Cреднее значение в категории: \\\"Задолженность по возврату кредитов\"']\n",
    "data_pivot_income.index.name='Ежемесячный доход в руб.'\n",
    "data_pivot_income['Cреднее значение в категории: \\\"Задолженность по возврату кредитов\"'] = [f'{x:,.2%}' for x in data_pivot_income['Cреднее значение в категории: \\\"Задолженность по возврату кредитов\"']]\n",
    "data_pivot_income = data_pivot_income.sort_values('Общее кол-во займов', ascending =False)\n",
    "data_pivot_income.head(10)"
   ]
  },
  {
   "cell_type": "markdown",
   "id": "6dd14b57",
   "metadata": {
    "deletable": false,
    "id": "6dd14b57"
   },
   "source": [
    "**Вывод:** \n",
    "Условные обозначения ежемесячного дохода:\n",
    "\n",
    "- 0–30000 — `'E'`;\n",
    "- 30001–50000 — `'D'`;\n",
    "- 50001–200000 — `'C'`;\n",
    "- 200001–1000000 — `'B'`;\n",
    "- 1000001 и выше — `'A'`.\n",
    "\n",
    "**Зависимость между уровнем дохода и просрочкой прослеживается слабо. Нельзя утверждать, что тенденция «чем больше доход - тем меньше просрочек по кредиту» или наоборот, подтверждается в указанном примере.**\n",
    "\n",
    "По данным, можно сделать вывод, что гражданам с категорией заработка С и E справляться с возвратом кредита в срок сложнее всего. Вместе с этим, заметно что клиенты, с заработком категории. А также имеют высокий процент просрочки.  Это может говорить о том, что:\n",
    "\n",
    "**1)Для репрезентативной выборки нужно больше данных.** Нельзя делать вывод о категориях граждан Е и А, т.к. в таблице с данными их представляют 22 и 25 человек. Процент может быть высоким из-за изначально маленького кол-ва в категориях.\n",
    "\n",
    "\n",
    "**2)Нам не до конца известны условия кредитования и источники дохода граждан.**\n",
    "\n",
    "\n",
    "**3)Граждане с категорией заработка D справляются с возвратом кредита в срок лучше всего.** Предполагаю, что данная группа кредитуемых меньше всего склонна к импульсным(эмоциональным) покупкам, которые могут подразумевать кредититование.\n",
    "\n",
    "\n",
    "\n",
    "\n",
    "\n",
    "\n",
    "\n",
    "Рассмотрим категории с наибольшими показателями по общему кол-ву займов и проценту просрочек.\n",
    "\n",
    "    \n",
    "Здесь мы видим, что граждане категориями заработка \"B\" и \"C\" обращается к услугам банка чаще всего. Имея при этом высокий процент просрочек кредита. \n",
    "\n",
    "Граждане с категорией заработка D справляются с возвратом кредита в срок лучше всего. Но и кол-во займов у категории \"D\" заметно меньше, чем у остальных.\n",
    "    \n",
    "    \n",
    "Из этого можно сделать вывод, что зависимость между заработком и возвратом кредита в срок есть. Люди имеющие средний заработок чаще берут кредиты и чаще их просрачивают.\n",
    " \n",
    "    \n",
    "Люди, с достатком ниже среднего, возможно, имеют другой взгляд на кредитования как инструмент, поэтому реже обращаются в банк. И если взяли кредит, стараются в срок его выплатить.\n",
    "    \n",
    "    \n",
    "По категориям A и E можно также сделать два вывода:\n",
    "\n",
    "a) Исходя из имеющихся данных, можно предположить, что эти категории не являются целевой аудитории банка. Категории A просто \n",
    "    \n",
    "нет необходимости брать кредит на что-то. Их достаток позволяет им не пользоваться услугами банка. Категория \"E\" наоборот, возможно осознает сумму переплаты в результате кредитования и предпочитают не переплачивать, а совершить покупку позже, накопив средства\n",
    "    \n",
    "b) Данные категориям A и E не являются репрезентативными. Для полноценного анализа этих категорий нужно больше данных.\n"
   ]
  },
  {
   "cell_type": "markdown",
   "id": "1dcc9b12",
   "metadata": {
    "deletable": false,
    "editable": false,
    "id": "1dcc9b12"
   },
   "source": [
    "#### 3.4 Как разные цели кредита влияют на его возврат в срок?"
   ]
  },
  {
   "cell_type": "code",
   "execution_count": 27,
   "id": "c602bc8b",
   "metadata": {
    "deletable": false,
    "id": "c602bc8b"
   },
   "outputs": [
    {
     "data": {
      "text/html": [
       "<div>\n",
       "<style scoped>\n",
       "    .dataframe tbody tr th:only-of-type {\n",
       "        vertical-align: middle;\n",
       "    }\n",
       "\n",
       "    .dataframe tbody tr th {\n",
       "        vertical-align: top;\n",
       "    }\n",
       "\n",
       "    .dataframe thead th {\n",
       "        text-align: right;\n",
       "    }\n",
       "</style>\n",
       "<table border=\"1\" class=\"dataframe\">\n",
       "  <thead>\n",
       "    <tr style=\"text-align: right;\">\n",
       "      <th></th>\n",
       "      <th>Общее кол-во займов</th>\n",
       "      <th>Общая сумма должников</th>\n",
       "      <th>Cреднее значение в категории: \"Задолженность по возврату кредитов\"</th>\n",
       "    </tr>\n",
       "    <tr>\n",
       "      <th>Цель получения кредита</th>\n",
       "      <th></th>\n",
       "      <th></th>\n",
       "      <th></th>\n",
       "    </tr>\n",
       "  </thead>\n",
       "  <tbody>\n",
       "    <tr>\n",
       "      <th>операции с автомобилем</th>\n",
       "      <td>4279</td>\n",
       "      <td>400</td>\n",
       "      <td>9.35%</td>\n",
       "    </tr>\n",
       "    <tr>\n",
       "      <th>получение образования</th>\n",
       "      <td>3988</td>\n",
       "      <td>369</td>\n",
       "      <td>9.25%</td>\n",
       "    </tr>\n",
       "    <tr>\n",
       "      <th>проведение свадьбы</th>\n",
       "      <td>2313</td>\n",
       "      <td>183</td>\n",
       "      <td>7.91%</td>\n",
       "    </tr>\n",
       "    <tr>\n",
       "      <th>операции с недвижимостью</th>\n",
       "      <td>10751</td>\n",
       "      <td>780</td>\n",
       "      <td>7.26%</td>\n",
       "    </tr>\n",
       "  </tbody>\n",
       "</table>\n",
       "</div>"
      ],
      "text/plain": [
       "                          Общее кол-во займов  Общая сумма должников  \\\n",
       "Цель получения кредита                                                 \n",
       "операции с автомобилем                   4279                    400   \n",
       "получение образования                    3988                    369   \n",
       "проведение свадьбы                       2313                    183   \n",
       "операции с недвижимостью                10751                    780   \n",
       "\n",
       "                         Cреднее значение в категории: \"Задолженность по возврату кредитов\"  \n",
       "Цель получения кредита                                                                       \n",
       "операции с автомобилем                                                9.35%                  \n",
       "получение образования                                                 9.25%                  \n",
       "проведение свадьбы                                                    7.91%                  \n",
       "операции с недвижимостью                                              7.26%                  "
      ]
     },
     "execution_count": 27,
     "metadata": {},
     "output_type": "execute_result"
    }
   ],
   "source": [
    "def categorize_purpose(row):\n",
    "    try:\n",
    "        if 'автом' in row:\n",
    "            return 'операции с автомобилем'\n",
    "        elif 'жил' in row or 'недвиж' in row:\n",
    "            return 'операции с недвижимостью'\n",
    "        elif 'свад' in row:\n",
    "            return 'проведение свадьбы'\n",
    "        elif 'образов' in row:\n",
    "            return 'получение образования'\n",
    "    except:\n",
    "        return 'нет категории'\n",
    "    \n",
    "data_pivot_purpose = data['purpose_category']\n",
    "data_pivot_purpose = data.pivot_table(index='purpose_category', values = 'debt', aggfunc = ['count', 'sum', 'mean'])\n",
    "data_pivot_purpose.columns = ['Общее кол-во займов', 'Общая сумма должников', 'Cреднее значение в категории: \"Задолженность по возврату кредитов\"']\n",
    "data_pivot_purpose.index.name='Цель получения кредита'\n",
    "data_pivot_purpose['Cреднее значение в категории: \"Задолженность по возврату кредитов\"'] = [f'{x:,.2%}' for x in data_pivot_purpose['Cреднее значение в категории: \"Задолженность по возврату кредитов\"']]\n",
    "data_pivot_purpose = data_pivot_purpose.sort_values('Cреднее значение в категории: \"Задолженность по возврату кредитов\"', ascending = False)\n",
    "data_pivot_purpose.head(20)"
   ]
  },
  {
   "cell_type": "markdown",
   "id": "cf05ed63",
   "metadata": {
    "deletable": false,
    "id": "cf05ed63"
   },
   "source": [
    "**Вывод:** \n",
    "\n",
    "**Здесь мы видим, что цели на кредит имеют прямое влияние на возврат кредита в срок.**\n",
    "\n",
    "1)**Самый востребованный кредит (кредит на операции с недвижимостью)** имеет самый меньший процент просрочек. Это может быть связано с тем, что к такому виду кредита люди относятся очень серьезно, т.к. это длительный и масштабный кредит, накладывающий серьезные финансовые обязательства. Выплаты на недвижимость люди часто ставят в приоритет.\n",
    "\n",
    "2)**Кредит на проведение свадьбы** также имеет небольшой процент просрочек. Это может быть связано с тем, что полученные со свадьбы средства, чаще всего, покрывают взятый кредит, что способствует возврату денег в установленный срок.\n",
    "\n",
    "3)**Второй по популярности кредит (кредит на операции с автомобилем)** имеет самый высокий процент просрочек. Это может быть связано с тем, что покупка автомобиля является более импульсной покупкой, чем приобретения жилья. Также, просрочке могут способствовать различные факторы, связанные с авто: аварии, ремонт, обслуживание и тд. Это может привести к непредвиденным расходам и помешать выплатить кредит своевременно.\n",
    "\n",
    "4)**Еще одной целью кредитования с большим кол-вом просрочек является кредит на получение опобразования**. Предполагаю, что основная целевая аудитория таких кредитов – студенты или те, кто собирается пойти учиться. Совмещение работы и полноценной учебы может сказаться на выплате кредита в срок. "
   ]
  },
  {
   "cell_type": "markdown",
   "id": "46c1f10b",
   "metadata": {
    "deletable": false,
    "editable": false,
    "id": "46c1f10b"
   },
   "source": [
    "#### 3.5 Приведите возможные причины появления пропусков в исходных данных."
   ]
  },
  {
   "cell_type": "markdown",
   "id": "3697d2a9",
   "metadata": {
    "deletable": false,
    "id": "3697d2a9"
   },
   "source": [
    "**— Человеческий фактор**(данные не ввели случайно или намеренно, либо заполнены с ошибкой. Это может привести к дальнейшему появлению пропусков в других ячейках данных)\n",
    "\n",
    "\n",
    "**— Пропуски могут появится, если в остальных ячейках есть исчерпывающая информация**\n",
    "\n",
    "\n",
    "**— Изначальная ошибка в коде, с помощью которого выгружали исходные данные.** Она также может привести к неточностям в выгрузке исходных данных\n"
   ]
  },
  {
   "cell_type": "markdown",
   "id": "3137d257",
   "metadata": {
    "deletable": false,
    "editable": false,
    "id": "3137d257"
   },
   "source": [
    "#### 3.6 Объясните, почему заполнить пропуски медианным значением — лучшее решение для количественных переменных."
   ]
  },
  {
   "cell_type": "markdown",
   "id": "cf40012a",
   "metadata": {
    "deletable": false,
    "id": "cf40012a"
   },
   "source": [
    "Так как **медиана - это число в выборке, которая меньше одной половины элементов и больше другой, она корректно характеризует данные, в случае, когда некоторые значения сильно выделяются среди большинства.** \n",
    "\n",
    "**Лучше работает в случае заполнения пропусков в количественных переменных** так как **учитывает разброс данных**, в отличие от средней арифметической."
   ]
  },
  {
   "cell_type": "markdown",
   "id": "57bc304e",
   "metadata": {
    "deletable": false,
    "editable": false,
    "id": "57bc304e"
   },
   "source": [
    "### Шаг 4: общий вывод."
   ]
  },
  {
   "cell_type": "markdown",
   "id": "1ab75d1c",
   "metadata": {
    "deletable": false,
    "id": "1ab75d1c"
   },
   "source": [
    "Было проведено исследование на тему надежности заёмщиков на основании статистики о платежеспособности клиентов банка.\n",
    "\n",
    "Что сделано: \n",
    "\n",
    "**1)Изучена общая информации в данных**\n",
    "\n",
    "**2)Обработаны пропуски в данных**\n",
    "\n",
    "**3)Удалены аномальные значения**\n",
    "\n",
    "**4)Изменены типы данных**\n",
    "\n",
    "**5)Проработаны дубликаты**\n",
    "\n",
    "**6)Проведена категоризации данных**\n",
    "\n",
    "На основании данного исследования будет строиться модель кредитного скоринга. Для этого более подробно были изучены следующие факторы, которые могут влиять на платежеспособность клиентов и также зависимости в данных категориях:\n",
    "Кол-во детей\n",
    "Семейное положение\n",
    "Уровень дохода\n",
    "Цель кредитования\n",
    "\n",
    "\n",
    "Рекомендации:\n",
    "\n",
    "\n",
    "**1)Формировать более подробный портрет предполагаемого заемщика.**\n",
    "Для эффективной работы банка, скорингу необходимо сразу отличить «плохого» клиента, которому заявка сразу отклоняется от «хорошего», кому заявка согласовывается.\n",
    "\n",
    "Расширить критерии для анализа клиента. Например, сделать более подробный анализ предоставления кредита другими банками ранее. Сделать более точную детализацию. На данном этапе, в графе `debt` нет информации о причинах просрочек кредита. В данных, на основе которых проводился анализ, не дают в полной мере точно зафиксировать какую-либо зависимость в вышеуказанных категориях.\n",
    "\n",
    "Что нам известно о результатах ислследования зависимоcти возврата кредита в срок и различных факторов:\n",
    "\n",
    "\n",
    "**1)Кол-во детей, в большинстве случаев, влияет на возврат кредита в срок. Как показало исследование, чем меньше детей в семье, тем меньше процент просрочки по кредиту.**\n",
    "\n",
    "\n",
    "**2)Семейное положение также влияет на возврат кредита в срок. В результате исследования данных, мы выяснили, что люди состоящие или состоявшие в браке ответственнее относятся к кредитованию.**\n",
    "\n",
    "\n",
    "**3)Ежемесячынй доход также влияет на возврат кредита в срок. Основная целевая аудитория - средний класс.**\n",
    "\n",
    "\n",
    "**4)Цели на кредит имеют прямое влияние на возврат кредита в срок. В зависимости от цели кредита, кредитуемый, распредиляет приоритеты.**\n",
    "\n",
    "\n",
    "**Учитывая эти данные, попробуем воспроизвести примерный портрет \"хорошых клиентов\" и \"плохих клиентов\":**\n",
    "\n",
    "Кейс с \"хорошим клиентом\": семья с 1 ребенком и средним достатком берет кредит на квартиру. Учитывая факторы выше, они, с высокой вероятностью, вернуть кредит в срок.\n",
    "\n",
    "\n",
    "Кейс с \"плохим клиентом\": семья с 2 детьми и средним достатком берет кредит на машину. Вполне вероятно, что с возвратом кредитра в срок могут возникнуть проблемы.\n",
    "\n",
    "\n",
    "Кейс с \"хорошим клиентом\": вдова\\человек в разводе с низким достатком берет кредит на Iphone или телевизор. Учитывая факторы выше, она(он), скорее всего, вернуть кредит в срок\n",
    "\n",
    "\n",
    "Кейс с \"плохим клиентом\": не женатый клиент имеет средний достаткок и берет кредит на машину. Учитывая выводы выше, возможно, что с возвратом кредитра в срок могут возникнуть проблемы\n",
    "\n",
    "\n",
    "**2)Рассчитывать индивидуальные условия кредита (процент, лимит, срок, график погашения).** По исходным данным, можно предположить, что банк предлагает всем одинаковые условия кредитования и пытается найти закономерность в просрочках. В данном случае, это, предположительно, борьба со следствием, а не с причиной.\n"
   ]
  }
 ],
 "metadata": {
  "ExecuteTimeLog": [
   {
    "duration": 101,
    "start_time": "2023-02-08T18:24:17.764Z"
   },
   {
    "duration": 152,
    "start_time": "2023-02-08T18:29:35.098Z"
   },
   {
    "duration": 110,
    "start_time": "2023-02-08T18:32:31.326Z"
   },
   {
    "duration": 141,
    "start_time": "2023-02-08T18:38:01.769Z"
   },
   {
    "duration": 235,
    "start_time": "2023-02-08T18:38:13.389Z"
   },
   {
    "duration": 92,
    "start_time": "2023-02-08T18:41:20.428Z"
   },
   {
    "duration": 103,
    "start_time": "2023-02-08T18:49:23.927Z"
   },
   {
    "duration": 84,
    "start_time": "2023-02-08T18:49:33.460Z"
   },
   {
    "duration": 103,
    "start_time": "2023-02-08T18:50:40.963Z"
   },
   {
    "duration": 101,
    "start_time": "2023-02-08T18:54:52.431Z"
   },
   {
    "duration": 90,
    "start_time": "2023-02-08T18:55:43.238Z"
   },
   {
    "duration": 82,
    "start_time": "2023-02-08T18:55:55.529Z"
   },
   {
    "duration": 78,
    "start_time": "2023-02-08T18:57:25.249Z"
   },
   {
    "duration": 95,
    "start_time": "2023-02-08T18:57:32.496Z"
   },
   {
    "duration": 76,
    "start_time": "2023-02-08T18:57:41.847Z"
   },
   {
    "duration": 77,
    "start_time": "2023-02-08T19:00:05.729Z"
   },
   {
    "duration": 14,
    "start_time": "2023-02-08T19:20:57.272Z"
   },
   {
    "duration": 26,
    "start_time": "2023-02-08T19:21:43.961Z"
   },
   {
    "duration": 16,
    "start_time": "2023-02-08T19:21:46.334Z"
   },
   {
    "duration": 34,
    "start_time": "2023-02-08T19:22:09.302Z"
   },
   {
    "duration": 27,
    "start_time": "2023-02-08T19:24:32.827Z"
   },
   {
    "duration": 22,
    "start_time": "2023-02-08T19:27:30.936Z"
   },
   {
    "duration": 22,
    "start_time": "2023-02-08T19:35:01.280Z"
   },
   {
    "duration": 13,
    "start_time": "2023-02-08T19:57:46.941Z"
   },
   {
    "duration": 6,
    "start_time": "2023-02-08T19:58:09.045Z"
   },
   {
    "duration": 188,
    "start_time": "2023-02-08T20:06:19.858Z"
   },
   {
    "duration": 128,
    "start_time": "2023-02-08T20:06:28.432Z"
   },
   {
    "duration": 10,
    "start_time": "2023-02-08T20:06:54.664Z"
   },
   {
    "duration": 119,
    "start_time": "2023-02-08T20:07:01.970Z"
   },
   {
    "duration": 41,
    "start_time": "2023-02-08T20:07:28.570Z"
   },
   {
    "duration": 27,
    "start_time": "2023-02-08T20:09:18.970Z"
   },
   {
    "duration": 25,
    "start_time": "2023-02-08T20:09:32.845Z"
   },
   {
    "duration": 30,
    "start_time": "2023-02-08T20:16:23.344Z"
   },
   {
    "duration": 32,
    "start_time": "2023-02-08T20:17:28.686Z"
   },
   {
    "duration": 31,
    "start_time": "2023-02-08T20:17:38.355Z"
   },
   {
    "duration": 466,
    "start_time": "2023-02-08T20:21:45.857Z"
   },
   {
    "duration": 33,
    "start_time": "2023-02-08T20:21:46.337Z"
   },
   {
    "duration": 16,
    "start_time": "2023-02-08T20:21:46.374Z"
   },
   {
    "duration": 33,
    "start_time": "2023-02-08T20:21:46.392Z"
   },
   {
    "duration": 60,
    "start_time": "2023-02-08T20:21:46.426Z"
   },
   {
    "duration": 4,
    "start_time": "2023-02-08T20:21:46.488Z"
   },
   {
    "duration": 66,
    "start_time": "2023-02-08T20:21:46.494Z"
   },
   {
    "duration": 5,
    "start_time": "2023-02-08T20:21:46.561Z"
   },
   {
    "duration": 10,
    "start_time": "2023-02-08T20:21:46.568Z"
   },
   {
    "duration": 5,
    "start_time": "2023-02-08T20:21:46.581Z"
   },
   {
    "duration": 52,
    "start_time": "2023-02-08T20:21:46.587Z"
   },
   {
    "duration": 19,
    "start_time": "2023-02-08T20:21:46.641Z"
   },
   {
    "duration": 12,
    "start_time": "2023-02-08T20:21:46.662Z"
   },
   {
    "duration": 14,
    "start_time": "2023-02-08T20:21:46.676Z"
   },
   {
    "duration": 76,
    "start_time": "2023-02-08T20:21:46.691Z"
   },
   {
    "duration": 19,
    "start_time": "2023-02-08T20:21:46.769Z"
   },
   {
    "duration": 5,
    "start_time": "2023-02-08T20:21:46.790Z"
   },
   {
    "duration": 53,
    "start_time": "2023-02-08T20:21:46.797Z"
   },
   {
    "duration": 13,
    "start_time": "2023-02-08T20:21:46.852Z"
   },
   {
    "duration": 3,
    "start_time": "2023-02-08T20:21:46.867Z"
   },
   {
    "duration": 13,
    "start_time": "2023-02-08T20:21:46.872Z"
   },
   {
    "duration": 60,
    "start_time": "2023-02-08T20:21:46.887Z"
   },
   {
    "duration": 4,
    "start_time": "2023-02-08T20:21:46.949Z"
   },
   {
    "duration": 6,
    "start_time": "2023-02-08T20:21:46.954Z"
   },
   {
    "duration": 16,
    "start_time": "2023-02-08T20:21:46.961Z"
   },
   {
    "duration": 27,
    "start_time": "2023-02-08T20:22:05.352Z"
   },
   {
    "duration": 106,
    "start_time": "2023-02-08T20:26:27.244Z"
   },
   {
    "duration": 163,
    "start_time": "2023-02-08T20:26:56.465Z"
   },
   {
    "duration": 27,
    "start_time": "2023-02-08T20:27:04.770Z"
   },
   {
    "duration": 207,
    "start_time": "2023-02-08T20:37:49.841Z"
   },
   {
    "duration": 114,
    "start_time": "2023-02-08T20:45:26.376Z"
   },
   {
    "duration": 105,
    "start_time": "2023-02-08T20:45:38.269Z"
   },
   {
    "duration": 25,
    "start_time": "2023-02-08T20:47:42.459Z"
   },
   {
    "duration": 28,
    "start_time": "2023-02-08T20:54:54.517Z"
   },
   {
    "duration": 37,
    "start_time": "2023-02-08T21:03:57.960Z"
   },
   {
    "duration": 29,
    "start_time": "2023-02-08T21:04:11.609Z"
   },
   {
    "duration": 29,
    "start_time": "2023-02-08T21:09:15.148Z"
   },
   {
    "duration": 480,
    "start_time": "2023-02-08T21:09:39.497Z"
   },
   {
    "duration": 497,
    "start_time": "2023-02-08T21:12:01.774Z"
   },
   {
    "duration": 523,
    "start_time": "2023-02-08T21:13:35.847Z"
   },
   {
    "duration": 24,
    "start_time": "2023-02-08T21:16:29.172Z"
   },
   {
    "duration": 472,
    "start_time": "2023-02-08T21:18:15.381Z"
   },
   {
    "duration": 28,
    "start_time": "2023-02-08T21:22:00.575Z"
   },
   {
    "duration": 24,
    "start_time": "2023-02-08T21:22:18.084Z"
   },
   {
    "duration": 23,
    "start_time": "2023-02-08T21:23:38.142Z"
   },
   {
    "duration": 25,
    "start_time": "2023-02-08T21:23:54.087Z"
   },
   {
    "duration": 1714,
    "start_time": "2023-02-08T21:24:19.629Z"
   },
   {
    "duration": 1579,
    "start_time": "2023-02-08T21:24:24.087Z"
   },
   {
    "duration": 1543,
    "start_time": "2023-02-08T21:24:34.899Z"
   },
   {
    "duration": 1719,
    "start_time": "2023-02-08T21:25:10.142Z"
   },
   {
    "duration": 1601,
    "start_time": "2023-02-08T21:25:45.001Z"
   },
   {
    "duration": 25,
    "start_time": "2023-02-08T21:26:14.990Z"
   },
   {
    "duration": 533,
    "start_time": "2023-02-09T11:37:20.704Z"
   },
   {
    "duration": 9,
    "start_time": "2023-02-09T11:37:52.205Z"
   },
   {
    "duration": 565,
    "start_time": "2023-02-09T11:39:14.864Z"
   },
   {
    "duration": 24,
    "start_time": "2023-02-09T11:39:15.431Z"
   },
   {
    "duration": 16,
    "start_time": "2023-02-09T11:39:15.457Z"
   },
   {
    "duration": 11,
    "start_time": "2023-02-09T11:39:15.475Z"
   },
   {
    "duration": 59,
    "start_time": "2023-02-09T11:39:15.489Z"
   },
   {
    "duration": 3,
    "start_time": "2023-02-09T11:39:15.550Z"
   },
   {
    "duration": 9,
    "start_time": "2023-02-09T11:39:15.558Z"
   },
   {
    "duration": 8,
    "start_time": "2023-02-09T11:39:15.568Z"
   },
   {
    "duration": 8,
    "start_time": "2023-02-09T11:39:15.577Z"
   },
   {
    "duration": 19,
    "start_time": "2023-02-09T11:39:15.587Z"
   },
   {
    "duration": 59,
    "start_time": "2023-02-09T11:39:15.608Z"
   },
   {
    "duration": 11,
    "start_time": "2023-02-09T11:39:15.669Z"
   },
   {
    "duration": 4,
    "start_time": "2023-02-09T11:39:15.681Z"
   },
   {
    "duration": 13,
    "start_time": "2023-02-09T11:39:15.687Z"
   },
   {
    "duration": 47,
    "start_time": "2023-02-09T11:39:15.702Z"
   },
   {
    "duration": 18,
    "start_time": "2023-02-09T11:39:15.750Z"
   },
   {
    "duration": 4,
    "start_time": "2023-02-09T11:39:15.769Z"
   },
   {
    "duration": 13,
    "start_time": "2023-02-09T11:39:15.774Z"
   },
   {
    "duration": 8,
    "start_time": "2023-02-09T11:39:15.789Z"
   },
   {
    "duration": 42,
    "start_time": "2023-02-09T11:39:15.799Z"
   },
   {
    "duration": 13,
    "start_time": "2023-02-09T11:39:15.843Z"
   },
   {
    "duration": 43,
    "start_time": "2023-02-09T11:39:15.858Z"
   },
   {
    "duration": 98,
    "start_time": "2023-02-09T11:39:15.903Z"
   },
   {
    "duration": 0,
    "start_time": "2023-02-09T11:39:16.003Z"
   },
   {
    "duration": 0,
    "start_time": "2023-02-09T11:39:16.005Z"
   },
   {
    "duration": 35,
    "start_time": "2023-02-09T11:39:23.062Z"
   },
   {
    "duration": 30,
    "start_time": "2023-02-09T11:44:02.221Z"
   },
   {
    "duration": 33,
    "start_time": "2023-02-09T11:48:45.349Z"
   },
   {
    "duration": 62,
    "start_time": "2023-02-09T11:51:10.340Z"
   },
   {
    "duration": 32,
    "start_time": "2023-02-09T11:52:59.138Z"
   },
   {
    "duration": 36,
    "start_time": "2023-02-09T12:24:32.545Z"
   },
   {
    "duration": 493,
    "start_time": "2023-02-09T12:26:08.436Z"
   },
   {
    "duration": 24,
    "start_time": "2023-02-09T12:26:08.931Z"
   },
   {
    "duration": 17,
    "start_time": "2023-02-09T12:26:08.956Z"
   },
   {
    "duration": 11,
    "start_time": "2023-02-09T12:26:08.975Z"
   },
   {
    "duration": 61,
    "start_time": "2023-02-09T12:26:08.988Z"
   },
   {
    "duration": 3,
    "start_time": "2023-02-09T12:26:09.051Z"
   },
   {
    "duration": 14,
    "start_time": "2023-02-09T12:26:09.056Z"
   },
   {
    "duration": 5,
    "start_time": "2023-02-09T12:26:09.073Z"
   },
   {
    "duration": 13,
    "start_time": "2023-02-09T12:26:09.079Z"
   },
   {
    "duration": 5,
    "start_time": "2023-02-09T12:26:09.096Z"
   },
   {
    "duration": 84,
    "start_time": "2023-02-09T12:26:09.103Z"
   },
   {
    "duration": 12,
    "start_time": "2023-02-09T12:26:09.189Z"
   },
   {
    "duration": 15,
    "start_time": "2023-02-09T12:26:09.203Z"
   },
   {
    "duration": 28,
    "start_time": "2023-02-09T12:26:09.220Z"
   },
   {
    "duration": 41,
    "start_time": "2023-02-09T12:26:09.250Z"
   },
   {
    "duration": 26,
    "start_time": "2023-02-09T12:26:09.293Z"
   },
   {
    "duration": 23,
    "start_time": "2023-02-09T12:26:09.321Z"
   },
   {
    "duration": 11,
    "start_time": "2023-02-09T12:26:09.346Z"
   },
   {
    "duration": 14,
    "start_time": "2023-02-09T12:26:09.359Z"
   },
   {
    "duration": 6,
    "start_time": "2023-02-09T12:26:09.375Z"
   },
   {
    "duration": 13,
    "start_time": "2023-02-09T12:26:09.383Z"
   },
   {
    "duration": 43,
    "start_time": "2023-02-09T12:26:09.398Z"
   },
   {
    "duration": 33,
    "start_time": "2023-02-09T12:26:09.442Z"
   },
   {
    "duration": 66,
    "start_time": "2023-02-09T12:26:09.477Z"
   },
   {
    "duration": 109,
    "start_time": "2023-02-09T12:26:09.545Z"
   },
   {
    "duration": 31,
    "start_time": "2023-02-09T12:27:15.952Z"
   },
   {
    "duration": 108,
    "start_time": "2023-02-09T12:27:36.708Z"
   },
   {
    "duration": 34,
    "start_time": "2023-02-09T12:27:50.561Z"
   },
   {
    "duration": 104,
    "start_time": "2023-02-09T12:29:36.056Z"
   },
   {
    "duration": 46,
    "start_time": "2023-02-09T12:30:10.337Z"
   },
   {
    "duration": 36,
    "start_time": "2023-02-09T12:33:25.803Z"
   },
   {
    "duration": 35,
    "start_time": "2023-02-09T12:35:33.664Z"
   },
   {
    "duration": 36,
    "start_time": "2023-02-09T12:38:43.766Z"
   },
   {
    "duration": 58,
    "start_time": "2023-02-09T12:39:23.979Z"
   },
   {
    "duration": 40,
    "start_time": "2023-02-09T12:46:35.136Z"
   },
   {
    "duration": 34,
    "start_time": "2023-02-09T12:46:51.200Z"
   },
   {
    "duration": 37,
    "start_time": "2023-02-09T12:47:02.197Z"
   },
   {
    "duration": 35,
    "start_time": "2023-02-09T12:55:56.458Z"
   },
   {
    "duration": 48,
    "start_time": "2023-02-09T12:56:59.000Z"
   },
   {
    "duration": 34,
    "start_time": "2023-02-09T12:57:16.861Z"
   },
   {
    "duration": 45,
    "start_time": "2023-02-09T12:59:16.612Z"
   },
   {
    "duration": 50,
    "start_time": "2023-02-09T13:00:38.232Z"
   },
   {
    "duration": 35,
    "start_time": "2023-02-09T13:01:11.445Z"
   },
   {
    "duration": 34,
    "start_time": "2023-02-09T13:04:46.896Z"
   },
   {
    "duration": 37,
    "start_time": "2023-02-09T13:06:46.805Z"
   },
   {
    "duration": 109,
    "start_time": "2023-02-09T13:07:35.855Z"
   },
   {
    "duration": 37,
    "start_time": "2023-02-09T13:08:03.933Z"
   },
   {
    "duration": 38,
    "start_time": "2023-02-09T13:13:07.580Z"
   },
   {
    "duration": 41,
    "start_time": "2023-02-09T13:13:30.145Z"
   },
   {
    "duration": 32,
    "start_time": "2023-02-09T13:13:39.705Z"
   },
   {
    "duration": 466,
    "start_time": "2023-02-09T13:14:08.952Z"
   },
   {
    "duration": 37,
    "start_time": "2023-02-09T13:14:44.394Z"
   },
   {
    "duration": 32,
    "start_time": "2023-02-09T13:28:02.942Z"
   },
   {
    "duration": 33,
    "start_time": "2023-02-09T13:40:24.012Z"
   },
   {
    "duration": 31,
    "start_time": "2023-02-09T13:42:09.999Z"
   },
   {
    "duration": 53,
    "start_time": "2023-02-09T14:49:46.495Z"
   },
   {
    "duration": 26,
    "start_time": "2023-02-09T14:51:26.807Z"
   },
   {
    "duration": 28,
    "start_time": "2023-02-09T14:51:49.641Z"
   },
   {
    "duration": 26,
    "start_time": "2023-02-09T14:51:55.858Z"
   },
   {
    "duration": 29,
    "start_time": "2023-02-09T15:09:10.678Z"
   },
   {
    "duration": 38,
    "start_time": "2023-02-09T15:09:27.628Z"
   },
   {
    "duration": 5,
    "start_time": "2023-02-09T15:10:19.474Z"
   },
   {
    "duration": 13,
    "start_time": "2023-02-09T15:10:21.160Z"
   },
   {
    "duration": 51,
    "start_time": "2023-02-09T15:11:25.275Z"
   },
   {
    "duration": 53,
    "start_time": "2023-02-09T15:11:56.088Z"
   },
   {
    "duration": 59,
    "start_time": "2023-02-09T15:14:26.961Z"
   },
   {
    "duration": 61,
    "start_time": "2023-02-09T15:14:54.929Z"
   },
   {
    "duration": 97,
    "start_time": "2023-02-09T15:15:06.225Z"
   },
   {
    "duration": 37,
    "start_time": "2023-02-09T15:16:17.624Z"
   },
   {
    "duration": 79,
    "start_time": "2023-02-09T15:26:01.592Z"
   },
   {
    "duration": 5,
    "start_time": "2023-02-09T15:27:48.268Z"
   },
   {
    "duration": 17,
    "start_time": "2023-02-09T15:27:49.653Z"
   },
   {
    "duration": 31,
    "start_time": "2023-02-09T15:32:09.768Z"
   },
   {
    "duration": 34,
    "start_time": "2023-02-09T15:33:53.676Z"
   },
   {
    "duration": 63,
    "start_time": "2023-02-09T15:35:12.652Z"
   },
   {
    "duration": 74,
    "start_time": "2023-02-09T15:35:30.417Z"
   },
   {
    "duration": 37,
    "start_time": "2023-02-09T15:36:43.117Z"
   },
   {
    "duration": 62,
    "start_time": "2023-02-09T15:37:12.760Z"
   },
   {
    "duration": 60,
    "start_time": "2023-02-09T15:39:58.775Z"
   },
   {
    "duration": 62,
    "start_time": "2023-02-09T15:40:18.803Z"
   },
   {
    "duration": 61,
    "start_time": "2023-02-09T15:40:32.062Z"
   },
   {
    "duration": 89,
    "start_time": "2023-02-09T15:45:08.073Z"
   },
   {
    "duration": 12,
    "start_time": "2023-02-09T15:46:14.672Z"
   },
   {
    "duration": 14,
    "start_time": "2023-02-09T15:46:51.514Z"
   },
   {
    "duration": 64,
    "start_time": "2023-02-09T15:50:23.689Z"
   },
   {
    "duration": 79,
    "start_time": "2023-02-09T15:54:46.693Z"
   },
   {
    "duration": 70,
    "start_time": "2023-02-09T15:55:17.896Z"
   },
   {
    "duration": 54,
    "start_time": "2023-02-09T15:56:30.518Z"
   },
   {
    "duration": 501,
    "start_time": "2023-02-09T18:57:10.830Z"
   },
   {
    "duration": 545,
    "start_time": "2023-02-09T18:57:53.602Z"
   },
   {
    "duration": 32,
    "start_time": "2023-02-09T18:57:54.149Z"
   },
   {
    "duration": 17,
    "start_time": "2023-02-09T18:57:54.183Z"
   },
   {
    "duration": 10,
    "start_time": "2023-02-09T18:57:54.201Z"
   },
   {
    "duration": 57,
    "start_time": "2023-02-09T18:57:54.213Z"
   },
   {
    "duration": 4,
    "start_time": "2023-02-09T18:57:54.271Z"
   },
   {
    "duration": 10,
    "start_time": "2023-02-09T18:57:54.276Z"
   },
   {
    "duration": 5,
    "start_time": "2023-02-09T18:57:54.287Z"
   },
   {
    "duration": 8,
    "start_time": "2023-02-09T18:57:54.294Z"
   },
   {
    "duration": 5,
    "start_time": "2023-02-09T18:57:54.303Z"
   },
   {
    "duration": 66,
    "start_time": "2023-02-09T18:57:54.310Z"
   },
   {
    "duration": 10,
    "start_time": "2023-02-09T18:57:54.378Z"
   },
   {
    "duration": 5,
    "start_time": "2023-02-09T18:57:54.389Z"
   },
   {
    "duration": 19,
    "start_time": "2023-02-09T18:57:54.396Z"
   },
   {
    "duration": 39,
    "start_time": "2023-02-09T18:57:54.416Z"
   },
   {
    "duration": 19,
    "start_time": "2023-02-09T18:57:54.457Z"
   },
   {
    "duration": 5,
    "start_time": "2023-02-09T18:57:54.478Z"
   },
   {
    "duration": 16,
    "start_time": "2023-02-09T18:57:54.485Z"
   },
   {
    "duration": 8,
    "start_time": "2023-02-09T18:57:54.503Z"
   },
   {
    "duration": 4,
    "start_time": "2023-02-09T18:57:54.541Z"
   },
   {
    "duration": 12,
    "start_time": "2023-02-09T18:57:54.546Z"
   },
   {
    "duration": 31,
    "start_time": "2023-02-09T18:57:54.559Z"
   },
   {
    "duration": 50,
    "start_time": "2023-02-09T18:57:54.592Z"
   },
   {
    "duration": 41,
    "start_time": "2023-02-09T18:57:54.644Z"
   },
   {
    "duration": 55,
    "start_time": "2023-02-09T18:57:54.686Z"
   },
   {
    "duration": 29,
    "start_time": "2023-02-09T18:58:12.549Z"
   },
   {
    "duration": 87,
    "start_time": "2023-02-09T20:46:45.085Z"
   },
   {
    "duration": 482,
    "start_time": "2023-02-09T20:47:57.403Z"
   },
   {
    "duration": 24,
    "start_time": "2023-02-09T20:47:57.887Z"
   },
   {
    "duration": 28,
    "start_time": "2023-02-09T20:47:57.913Z"
   },
   {
    "duration": 11,
    "start_time": "2023-02-09T20:47:57.943Z"
   },
   {
    "duration": 44,
    "start_time": "2023-02-09T20:47:57.956Z"
   },
   {
    "duration": 4,
    "start_time": "2023-02-09T20:47:58.002Z"
   },
   {
    "duration": 12,
    "start_time": "2023-02-09T20:47:58.007Z"
   },
   {
    "duration": 4,
    "start_time": "2023-02-09T20:47:58.021Z"
   },
   {
    "duration": 19,
    "start_time": "2023-02-09T20:47:58.026Z"
   },
   {
    "duration": 5,
    "start_time": "2023-02-09T20:47:58.048Z"
   },
   {
    "duration": 39,
    "start_time": "2023-02-09T20:47:58.055Z"
   },
   {
    "duration": 11,
    "start_time": "2023-02-09T20:47:58.095Z"
   },
   {
    "duration": 5,
    "start_time": "2023-02-09T20:47:58.107Z"
   },
   {
    "duration": 31,
    "start_time": "2023-02-09T20:47:58.114Z"
   },
   {
    "duration": 21,
    "start_time": "2023-02-09T20:47:58.147Z"
   },
   {
    "duration": 20,
    "start_time": "2023-02-09T20:47:58.170Z"
   },
   {
    "duration": 4,
    "start_time": "2023-02-09T20:47:58.192Z"
   },
   {
    "duration": 17,
    "start_time": "2023-02-09T20:47:58.198Z"
   },
   {
    "duration": 26,
    "start_time": "2023-02-09T20:47:58.217Z"
   },
   {
    "duration": 3,
    "start_time": "2023-02-09T20:47:58.245Z"
   },
   {
    "duration": 18,
    "start_time": "2023-02-09T20:47:58.250Z"
   },
   {
    "duration": 39,
    "start_time": "2023-02-09T20:47:58.271Z"
   },
   {
    "duration": 0,
    "start_time": "2023-02-09T20:47:58.388Z"
   },
   {
    "duration": 0,
    "start_time": "2023-02-09T20:47:58.390Z"
   },
   {
    "duration": 72,
    "start_time": "2023-02-09T20:48:27.949Z"
   },
   {
    "duration": 17,
    "start_time": "2023-02-09T20:48:28.023Z"
   },
   {
    "duration": 18,
    "start_time": "2023-02-09T20:48:28.042Z"
   },
   {
    "duration": 11,
    "start_time": "2023-02-09T20:48:28.062Z"
   },
   {
    "duration": 39,
    "start_time": "2023-02-09T20:48:28.075Z"
   },
   {
    "duration": 4,
    "start_time": "2023-02-09T20:48:28.141Z"
   },
   {
    "duration": 13,
    "start_time": "2023-02-09T20:48:28.147Z"
   },
   {
    "duration": 15,
    "start_time": "2023-02-09T20:48:28.162Z"
   },
   {
    "duration": 6,
    "start_time": "2023-02-09T20:48:28.179Z"
   },
   {
    "duration": 11,
    "start_time": "2023-02-09T20:48:28.187Z"
   },
   {
    "duration": 72,
    "start_time": "2023-02-09T20:48:28.201Z"
   },
   {
    "duration": 13,
    "start_time": "2023-02-09T20:48:28.275Z"
   },
   {
    "duration": 5,
    "start_time": "2023-02-09T20:48:28.291Z"
   },
   {
    "duration": 15,
    "start_time": "2023-02-09T20:48:28.298Z"
   },
   {
    "duration": 45,
    "start_time": "2023-02-09T20:48:28.315Z"
   },
   {
    "duration": 19,
    "start_time": "2023-02-09T20:48:28.362Z"
   },
   {
    "duration": 4,
    "start_time": "2023-02-09T20:48:28.383Z"
   },
   {
    "duration": 43,
    "start_time": "2023-02-09T20:48:28.389Z"
   },
   {
    "duration": 12,
    "start_time": "2023-02-09T20:48:28.435Z"
   },
   {
    "duration": 20,
    "start_time": "2023-02-09T20:48:28.448Z"
   },
   {
    "duration": 35,
    "start_time": "2023-02-09T20:48:28.470Z"
   },
   {
    "duration": 36,
    "start_time": "2023-02-09T20:48:28.507Z"
   },
   {
    "duration": 38,
    "start_time": "2023-02-09T20:48:28.545Z"
   },
   {
    "duration": 1,
    "start_time": "2023-02-09T20:48:28.584Z"
   },
   {
    "duration": 0,
    "start_time": "2023-02-09T20:48:28.586Z"
   },
   {
    "duration": 37,
    "start_time": "2023-02-09T20:48:48.812Z"
   },
   {
    "duration": 32,
    "start_time": "2023-02-09T21:37:35.209Z"
   },
   {
    "duration": 41,
    "start_time": "2023-02-09T21:38:07.313Z"
   },
   {
    "duration": 38,
    "start_time": "2023-02-09T21:40:22.745Z"
   },
   {
    "duration": 40,
    "start_time": "2023-02-09T21:40:29.942Z"
   },
   {
    "duration": 33,
    "start_time": "2023-02-09T21:42:40.043Z"
   },
   {
    "duration": 52,
    "start_time": "2023-02-10T13:54:41.514Z"
   },
   {
    "duration": 763,
    "start_time": "2023-02-10T13:54:55.590Z"
   },
   {
    "duration": 23,
    "start_time": "2023-02-10T13:54:56.356Z"
   },
   {
    "duration": 16,
    "start_time": "2023-02-10T13:54:56.381Z"
   },
   {
    "duration": 12,
    "start_time": "2023-02-10T13:54:56.399Z"
   },
   {
    "duration": 37,
    "start_time": "2023-02-10T13:54:56.420Z"
   },
   {
    "duration": 3,
    "start_time": "2023-02-10T13:54:56.459Z"
   },
   {
    "duration": 19,
    "start_time": "2023-02-10T13:54:56.464Z"
   },
   {
    "duration": 5,
    "start_time": "2023-02-10T13:54:56.485Z"
   },
   {
    "duration": 31,
    "start_time": "2023-02-10T13:54:56.492Z"
   },
   {
    "duration": 6,
    "start_time": "2023-02-10T13:54:56.525Z"
   },
   {
    "duration": 39,
    "start_time": "2023-02-10T13:54:56.533Z"
   },
   {
    "duration": 11,
    "start_time": "2023-02-10T13:54:56.573Z"
   },
   {
    "duration": 12,
    "start_time": "2023-02-10T13:54:56.586Z"
   },
   {
    "duration": 26,
    "start_time": "2023-02-10T13:54:56.601Z"
   },
   {
    "duration": 24,
    "start_time": "2023-02-10T13:54:56.628Z"
   },
   {
    "duration": 18,
    "start_time": "2023-02-10T13:54:56.654Z"
   },
   {
    "duration": 4,
    "start_time": "2023-02-10T13:54:56.673Z"
   },
   {
    "duration": 15,
    "start_time": "2023-02-10T13:54:56.679Z"
   },
   {
    "duration": 7,
    "start_time": "2023-02-10T13:54:56.721Z"
   },
   {
    "duration": 8,
    "start_time": "2023-02-10T13:54:56.729Z"
   },
   {
    "duration": 13,
    "start_time": "2023-02-10T13:54:56.738Z"
   },
   {
    "duration": 32,
    "start_time": "2023-02-10T13:54:56.752Z"
   },
   {
    "duration": 60,
    "start_time": "2023-02-10T13:54:56.786Z"
   },
   {
    "duration": 40,
    "start_time": "2023-02-10T13:54:56.848Z"
   },
   {
    "duration": 52,
    "start_time": "2023-02-10T13:54:56.890Z"
   },
   {
    "duration": 62,
    "start_time": "2023-02-11T12:32:46.618Z"
   },
   {
    "duration": 573,
    "start_time": "2023-02-11T12:32:57.191Z"
   },
   {
    "duration": 23,
    "start_time": "2023-02-11T12:32:57.766Z"
   },
   {
    "duration": 20,
    "start_time": "2023-02-11T12:32:57.790Z"
   },
   {
    "duration": 36,
    "start_time": "2023-02-11T12:32:57.813Z"
   },
   {
    "duration": 38,
    "start_time": "2023-02-11T12:32:57.850Z"
   },
   {
    "duration": 3,
    "start_time": "2023-02-11T12:32:57.890Z"
   },
   {
    "duration": 13,
    "start_time": "2023-02-11T12:32:57.895Z"
   },
   {
    "duration": 5,
    "start_time": "2023-02-11T12:32:57.909Z"
   },
   {
    "duration": 9,
    "start_time": "2023-02-11T12:32:57.940Z"
   },
   {
    "duration": 5,
    "start_time": "2023-02-11T12:32:57.952Z"
   },
   {
    "duration": 41,
    "start_time": "2023-02-11T12:32:57.959Z"
   },
   {
    "duration": 16,
    "start_time": "2023-02-11T12:32:58.002Z"
   },
   {
    "duration": 3,
    "start_time": "2023-02-11T12:32:58.041Z"
   },
   {
    "duration": 17,
    "start_time": "2023-02-11T12:32:58.046Z"
   },
   {
    "duration": 24,
    "start_time": "2023-02-11T12:32:58.065Z"
   },
   {
    "duration": 19,
    "start_time": "2023-02-11T12:32:58.090Z"
   },
   {
    "duration": 4,
    "start_time": "2023-02-11T12:32:58.111Z"
   },
   {
    "duration": 33,
    "start_time": "2023-02-11T12:32:58.116Z"
   },
   {
    "duration": 8,
    "start_time": "2023-02-11T12:32:58.151Z"
   },
   {
    "duration": 4,
    "start_time": "2023-02-11T12:32:58.161Z"
   },
   {
    "duration": 17,
    "start_time": "2023-02-11T12:32:58.166Z"
   },
   {
    "duration": 63,
    "start_time": "2023-02-11T12:32:58.186Z"
   },
   {
    "duration": 37,
    "start_time": "2023-02-11T12:32:58.251Z"
   },
   {
    "duration": 57,
    "start_time": "2023-02-11T12:32:58.290Z"
   },
   {
    "duration": 34,
    "start_time": "2023-02-11T12:32:58.350Z"
   },
   {
    "duration": 33,
    "start_time": "2023-02-11T12:33:45.064Z"
   },
   {
    "duration": 151,
    "start_time": "2023-02-12T11:55:07.206Z"
   },
   {
    "duration": 119,
    "start_time": "2023-02-12T11:55:16.237Z"
   },
   {
    "duration": 124,
    "start_time": "2023-02-12T11:56:00.215Z"
   },
   {
    "duration": 666,
    "start_time": "2023-02-12T11:56:07.252Z"
   },
   {
    "duration": 27,
    "start_time": "2023-02-12T11:56:07.920Z"
   },
   {
    "duration": 23,
    "start_time": "2023-02-12T11:56:07.949Z"
   },
   {
    "duration": 12,
    "start_time": "2023-02-12T11:56:07.977Z"
   },
   {
    "duration": 64,
    "start_time": "2023-02-12T11:56:07.992Z"
   },
   {
    "duration": 12,
    "start_time": "2023-02-12T11:56:08.058Z"
   },
   {
    "duration": 15,
    "start_time": "2023-02-12T11:56:08.072Z"
   },
   {
    "duration": 5,
    "start_time": "2023-02-12T11:56:08.089Z"
   },
   {
    "duration": 10,
    "start_time": "2023-02-12T11:56:08.095Z"
   },
   {
    "duration": 5,
    "start_time": "2023-02-12T11:56:08.107Z"
   },
   {
    "duration": 64,
    "start_time": "2023-02-12T11:56:08.114Z"
   },
   {
    "duration": 15,
    "start_time": "2023-02-12T11:56:08.179Z"
   },
   {
    "duration": 4,
    "start_time": "2023-02-12T11:56:08.195Z"
   },
   {
    "duration": 18,
    "start_time": "2023-02-12T11:56:08.201Z"
   },
   {
    "duration": 38,
    "start_time": "2023-02-12T11:56:08.220Z"
   },
   {
    "duration": 19,
    "start_time": "2023-02-12T11:56:08.264Z"
   },
   {
    "duration": 4,
    "start_time": "2023-02-12T11:56:08.284Z"
   },
   {
    "duration": 25,
    "start_time": "2023-02-12T11:56:08.289Z"
   },
   {
    "duration": 11,
    "start_time": "2023-02-12T11:56:08.315Z"
   },
   {
    "duration": 8,
    "start_time": "2023-02-12T11:56:08.328Z"
   },
   {
    "duration": 25,
    "start_time": "2023-02-12T11:56:08.338Z"
   },
   {
    "duration": 35,
    "start_time": "2023-02-12T11:56:08.365Z"
   },
   {
    "duration": 554,
    "start_time": "2023-02-12T11:56:20.237Z"
   },
   {
    "duration": 22,
    "start_time": "2023-02-12T11:56:20.794Z"
   },
   {
    "duration": 14,
    "start_time": "2023-02-12T11:56:20.818Z"
   },
   {
    "duration": 35,
    "start_time": "2023-02-12T11:56:20.834Z"
   },
   {
    "duration": 32,
    "start_time": "2023-02-12T11:56:20.873Z"
   },
   {
    "duration": 3,
    "start_time": "2023-02-12T11:56:20.906Z"
   },
   {
    "duration": 9,
    "start_time": "2023-02-12T11:56:20.911Z"
   },
   {
    "duration": 5,
    "start_time": "2023-02-12T11:56:20.921Z"
   },
   {
    "duration": 39,
    "start_time": "2023-02-12T11:56:20.927Z"
   },
   {
    "duration": 5,
    "start_time": "2023-02-12T11:56:20.971Z"
   },
   {
    "duration": 41,
    "start_time": "2023-02-12T11:56:20.978Z"
   },
   {
    "duration": 14,
    "start_time": "2023-02-12T11:56:21.021Z"
   },
   {
    "duration": 5,
    "start_time": "2023-02-12T11:56:21.037Z"
   },
   {
    "duration": 20,
    "start_time": "2023-02-12T11:56:21.053Z"
   },
   {
    "duration": 23,
    "start_time": "2023-02-12T11:56:21.075Z"
   },
   {
    "duration": 24,
    "start_time": "2023-02-12T11:56:21.100Z"
   },
   {
    "duration": 4,
    "start_time": "2023-02-12T11:56:21.126Z"
   },
   {
    "duration": 32,
    "start_time": "2023-02-12T11:56:21.134Z"
   },
   {
    "duration": 9,
    "start_time": "2023-02-12T11:56:21.169Z"
   },
   {
    "duration": 4,
    "start_time": "2023-02-12T11:56:21.179Z"
   },
   {
    "duration": 11,
    "start_time": "2023-02-12T11:56:21.184Z"
   },
   {
    "duration": 37,
    "start_time": "2023-02-12T11:56:21.196Z"
   },
   {
    "duration": 113,
    "start_time": "2023-02-12T11:56:21.235Z"
   },
   {
    "duration": 0,
    "start_time": "2023-02-12T11:56:21.349Z"
   },
   {
    "duration": 0,
    "start_time": "2023-02-12T11:56:21.351Z"
   },
   {
    "duration": 0,
    "start_time": "2023-02-12T11:56:21.352Z"
   },
   {
    "duration": 114,
    "start_time": "2023-02-12T11:58:18.305Z"
   },
   {
    "duration": 138,
    "start_time": "2023-02-12T12:01:10.730Z"
   },
   {
    "duration": 81,
    "start_time": "2023-02-12T12:01:32.538Z"
   },
   {
    "duration": 25,
    "start_time": "2023-02-12T12:01:33.840Z"
   },
   {
    "duration": 15,
    "start_time": "2023-02-12T12:01:34.912Z"
   },
   {
    "duration": 13,
    "start_time": "2023-02-12T12:01:55.675Z"
   },
   {
    "duration": 47,
    "start_time": "2023-02-12T12:01:57.045Z"
   },
   {
    "duration": 5,
    "start_time": "2023-02-12T12:01:59.091Z"
   },
   {
    "duration": 8,
    "start_time": "2023-02-12T12:02:00.140Z"
   },
   {
    "duration": 6,
    "start_time": "2023-02-12T12:02:01.974Z"
   },
   {
    "duration": 7,
    "start_time": "2023-02-12T12:02:03.020Z"
   },
   {
    "duration": 5,
    "start_time": "2023-02-12T12:02:04.141Z"
   },
   {
    "duration": 34,
    "start_time": "2023-02-12T12:02:05.897Z"
   },
   {
    "duration": 16,
    "start_time": "2023-02-12T12:02:06.905Z"
   },
   {
    "duration": 3,
    "start_time": "2023-02-12T12:02:09.025Z"
   },
   {
    "duration": 17,
    "start_time": "2023-02-12T12:02:17.518Z"
   },
   {
    "duration": 20,
    "start_time": "2023-02-12T12:02:18.604Z"
   },
   {
    "duration": 27,
    "start_time": "2023-02-12T12:02:19.175Z"
   },
   {
    "duration": 4,
    "start_time": "2023-02-12T12:02:20.878Z"
   },
   {
    "duration": 30,
    "start_time": "2023-02-12T12:02:21.554Z"
   },
   {
    "duration": 9,
    "start_time": "2023-02-12T12:02:22.489Z"
   },
   {
    "duration": 4,
    "start_time": "2023-02-12T12:02:24.077Z"
   },
   {
    "duration": 9,
    "start_time": "2023-02-12T12:02:24.807Z"
   },
   {
    "duration": 41,
    "start_time": "2023-02-12T12:02:26.453Z"
   },
   {
    "duration": 122,
    "start_time": "2023-02-12T12:02:32.274Z"
   },
   {
    "duration": 108,
    "start_time": "2023-02-12T12:04:00.785Z"
   },
   {
    "duration": 105,
    "start_time": "2023-02-12T12:04:22.344Z"
   },
   {
    "duration": 155,
    "start_time": "2023-02-12T12:12:23.835Z"
   },
   {
    "duration": 115,
    "start_time": "2023-02-12T12:13:25.172Z"
   },
   {
    "duration": 171,
    "start_time": "2023-02-12T12:24:16.117Z"
   },
   {
    "duration": 117,
    "start_time": "2023-02-12T12:24:33.796Z"
   },
   {
    "duration": 24,
    "start_time": "2023-02-12T15:26:53.720Z"
   },
   {
    "duration": 39,
    "start_time": "2023-02-12T15:36:34.983Z"
   },
   {
    "duration": 28,
    "start_time": "2023-02-12T15:38:22.927Z"
   },
   {
    "duration": 34,
    "start_time": "2023-02-12T15:49:38.863Z"
   },
   {
    "duration": 35,
    "start_time": "2023-02-12T15:49:50.134Z"
   },
   {
    "duration": 66,
    "start_time": "2023-02-12T15:56:00.306Z"
   },
   {
    "duration": 21,
    "start_time": "2023-02-12T15:56:00.374Z"
   },
   {
    "duration": 38,
    "start_time": "2023-02-12T15:56:00.396Z"
   },
   {
    "duration": 14,
    "start_time": "2023-02-12T15:56:00.436Z"
   },
   {
    "duration": 54,
    "start_time": "2023-02-12T15:56:00.453Z"
   },
   {
    "duration": 3,
    "start_time": "2023-02-12T15:56:00.509Z"
   },
   {
    "duration": 23,
    "start_time": "2023-02-12T15:56:00.514Z"
   },
   {
    "duration": 21,
    "start_time": "2023-02-12T15:56:00.539Z"
   },
   {
    "duration": 46,
    "start_time": "2023-02-12T15:56:00.562Z"
   },
   {
    "duration": 21,
    "start_time": "2023-02-12T15:56:00.609Z"
   },
   {
    "duration": 52,
    "start_time": "2023-02-12T15:56:00.632Z"
   },
   {
    "duration": 11,
    "start_time": "2023-02-12T15:56:00.686Z"
   },
   {
    "duration": 36,
    "start_time": "2023-02-12T15:56:00.698Z"
   },
   {
    "duration": 46,
    "start_time": "2023-02-12T15:56:00.737Z"
   },
   {
    "duration": 36,
    "start_time": "2023-02-12T15:56:00.785Z"
   },
   {
    "duration": 18,
    "start_time": "2023-02-12T15:56:00.823Z"
   },
   {
    "duration": 15,
    "start_time": "2023-02-12T15:56:00.843Z"
   },
   {
    "duration": 28,
    "start_time": "2023-02-12T15:56:00.860Z"
   },
   {
    "duration": 17,
    "start_time": "2023-02-12T15:56:00.890Z"
   },
   {
    "duration": 11,
    "start_time": "2023-02-12T15:56:00.908Z"
   },
   {
    "duration": 13,
    "start_time": "2023-02-12T15:56:00.921Z"
   },
   {
    "duration": 36,
    "start_time": "2023-02-12T15:56:00.935Z"
   },
   {
    "duration": 29,
    "start_time": "2023-02-12T15:56:00.973Z"
   },
   {
    "duration": 55,
    "start_time": "2023-02-12T15:56:01.003Z"
   },
   {
    "duration": 35,
    "start_time": "2023-02-12T15:56:01.060Z"
   },
   {
    "duration": 30,
    "start_time": "2023-02-12T15:56:13.706Z"
   }
  ],
  "colab": {
   "provenance": []
  },
  "kernelspec": {
   "display_name": "Python 3 (ipykernel)",
   "language": "python",
   "name": "python3"
  },
  "language_info": {
   "codemirror_mode": {
    "name": "ipython",
    "version": 3
   },
   "file_extension": ".py",
   "mimetype": "text/x-python",
   "name": "python",
   "nbconvert_exporter": "python",
   "pygments_lexer": "ipython3",
   "version": "3.9.13"
  },
  "toc": {
   "base_numbering": 1,
   "nav_menu": {},
   "number_sections": true,
   "sideBar": true,
   "skip_h1_title": true,
   "title_cell": "Table of Contents",
   "title_sidebar": "Contents",
   "toc_cell": false,
   "toc_position": {},
   "toc_section_display": true,
   "toc_window_display": false
  }
 },
 "nbformat": 4,
 "nbformat_minor": 5
}
