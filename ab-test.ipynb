{
 "cells": [
  {
   "cell_type": "markdown",
   "metadata": {},
   "source": [
    "# Принятие решений в бизнесе\n",
    "\n",
    "**Цель**\n",
    "\n",
    "* Приоритизировать гипотезы из списка гипотез, предоставленных отделом Маркетинга;\n",
    "\n",
    "* Пронализировать результаты проведенного А/В-тестирования и аргументация решения по результатам теста.\n",
    "\n",
    "**Что известно на данном этапе**\n",
    "\n",
    "* список гипотез (файл hypothesis.csv)\n",
    "\n",
    "* информация о заказах пользователей в интернет-магазине (файл orders.csv.)\n",
    "\n",
    "* информация о посещениях пользователями интернет-магазина (файл visitors.csv)\n",
    "\n",
    "\n",
    "**Что будем делать**\n",
    "\n",
    "\n",
    "Поделим анализ на 3 этапа:\n",
    "\n",
    "1) Обзор и предобработка данных;\n",
    "\n",
    "2) Приоритизация гипотез;\n",
    "\n",
    "\n",
    "3) Анализ А/B теста;\n",
    "\n"
   ]
  },
  {
   "cell_type": "markdown",
   "metadata": {},
   "source": [
    "### Обзор и предобработка данных"
   ]
  },
  {
   "cell_type": "code",
   "execution_count": 1,
   "metadata": {},
   "outputs": [],
   "source": [
    "# импорт библиотек\n",
    "\n",
    "import pandas as pd\n",
    "import numpy as np\n",
    "import matplotlib.pyplot as plt\n",
    "import seaborn as sns\n",
    "import math\n",
    "import datetime as dt\n",
    "import scipy.stats as stats\n",
    "import warnings\n",
    "\n",
    "from scipy import stats as st"
   ]
  },
  {
   "cell_type": "code",
   "execution_count": 2,
   "metadata": {},
   "outputs": [],
   "source": [
    "# чтение файлов с данными и сохранение в df\n",
    "\n",
    "try:\n",
    "    hypothesis, orders, visitors = (\n",
    "        pd.read_csv('/datasets/hypothesis.csv'),\n",
    "        pd.read_csv('/datasets/orders.csv'),\n",
    "        pd.read_csv('/datasets/visitors.csv')\n",
    "    )\n",
    "\n",
    "\n",
    "except:\n",
    "    hypothesis, orders, visitors = (\n",
    "        pd.read_csv('hypothesis.csv'),\n",
    "        pd.read_csv('orders.csv'),\n",
    "        pd.read_csv('visitors.csv')\n",
    "    )"
   ]
  },
  {
   "cell_type": "code",
   "execution_count": 3,
   "metadata": {},
   "outputs": [
    {
     "name": "stdout",
     "output_type": "stream",
     "text": [
      "<class 'pandas.core.frame.DataFrame'>\n",
      "RangeIndex: 9 entries, 0 to 8\n",
      "Data columns (total 5 columns):\n",
      " #   Column      Non-Null Count  Dtype \n",
      "---  ------      --------------  ----- \n",
      " 0   Hypothesis  9 non-null      object\n",
      " 1   Reach       9 non-null      int64 \n",
      " 2   Impact      9 non-null      int64 \n",
      " 3   Confidence  9 non-null      int64 \n",
      " 4   Efforts     9 non-null      int64 \n",
      "dtypes: int64(4), object(1)\n",
      "memory usage: 488.0+ bytes\n"
     ]
    },
    {
     "data": {
      "text/html": [
       "<div>\n",
       "<style scoped>\n",
       "    .dataframe tbody tr th:only-of-type {\n",
       "        vertical-align: middle;\n",
       "    }\n",
       "\n",
       "    .dataframe tbody tr th {\n",
       "        vertical-align: top;\n",
       "    }\n",
       "\n",
       "    .dataframe thead th {\n",
       "        text-align: right;\n",
       "    }\n",
       "</style>\n",
       "<table border=\"1\" class=\"dataframe\">\n",
       "  <thead>\n",
       "    <tr style=\"text-align: right;\">\n",
       "      <th></th>\n",
       "      <th>Hypothesis</th>\n",
       "      <th>Reach</th>\n",
       "      <th>Impact</th>\n",
       "      <th>Confidence</th>\n",
       "      <th>Efforts</th>\n",
       "    </tr>\n",
       "  </thead>\n",
       "  <tbody>\n",
       "    <tr>\n",
       "      <th>0</th>\n",
       "      <td>Добавить два новых канала привлечения трафика, что позволит привлекать на 30% больше пользователей</td>\n",
       "      <td>3</td>\n",
       "      <td>10</td>\n",
       "      <td>8</td>\n",
       "      <td>6</td>\n",
       "    </tr>\n",
       "    <tr>\n",
       "      <th>1</th>\n",
       "      <td>Запустить собственную службу доставки, что сократит срок доставки заказов</td>\n",
       "      <td>2</td>\n",
       "      <td>5</td>\n",
       "      <td>4</td>\n",
       "      <td>10</td>\n",
       "    </tr>\n",
       "    <tr>\n",
       "      <th>2</th>\n",
       "      <td>Добавить блоки рекомендаций товаров на сайт интернет магазина, чтобы повысить конверсию и средний чек заказа</td>\n",
       "      <td>8</td>\n",
       "      <td>3</td>\n",
       "      <td>7</td>\n",
       "      <td>3</td>\n",
       "    </tr>\n",
       "    <tr>\n",
       "      <th>3</th>\n",
       "      <td>Изменить структура категорий, что увеличит конверсию, т.к. пользователи быстрее найдут нужный товар</td>\n",
       "      <td>8</td>\n",
       "      <td>3</td>\n",
       "      <td>3</td>\n",
       "      <td>8</td>\n",
       "    </tr>\n",
       "    <tr>\n",
       "      <th>4</th>\n",
       "      <td>Изменить цвет фона главной страницы, чтобы увеличить вовлеченность пользователей</td>\n",
       "      <td>3</td>\n",
       "      <td>1</td>\n",
       "      <td>1</td>\n",
       "      <td>1</td>\n",
       "    </tr>\n",
       "    <tr>\n",
       "      <th>5</th>\n",
       "      <td>Добавить страницу отзывов клиентов о магазине, что позволит увеличить количество заказов</td>\n",
       "      <td>3</td>\n",
       "      <td>2</td>\n",
       "      <td>2</td>\n",
       "      <td>3</td>\n",
       "    </tr>\n",
       "    <tr>\n",
       "      <th>6</th>\n",
       "      <td>Показать на главной странице баннеры с актуальными акциями и распродажами, чтобы увеличить конверсию</td>\n",
       "      <td>5</td>\n",
       "      <td>3</td>\n",
       "      <td>8</td>\n",
       "      <td>3</td>\n",
       "    </tr>\n",
       "    <tr>\n",
       "      <th>7</th>\n",
       "      <td>Добавить форму подписки на все основные страницы, чтобы собрать базу клиентов для email-рассылок</td>\n",
       "      <td>10</td>\n",
       "      <td>7</td>\n",
       "      <td>8</td>\n",
       "      <td>5</td>\n",
       "    </tr>\n",
       "    <tr>\n",
       "      <th>8</th>\n",
       "      <td>Запустить акцию, дающую скидку на товар в день рождения</td>\n",
       "      <td>1</td>\n",
       "      <td>9</td>\n",
       "      <td>9</td>\n",
       "      <td>5</td>\n",
       "    </tr>\n",
       "  </tbody>\n",
       "</table>\n",
       "</div>"
      ],
      "text/plain": [
       "                                                                                                     Hypothesis  \\\n",
       "0            Добавить два новых канала привлечения трафика, что позволит привлекать на 30% больше пользователей   \n",
       "1                                     Запустить собственную службу доставки, что сократит срок доставки заказов   \n",
       "2  Добавить блоки рекомендаций товаров на сайт интернет магазина, чтобы повысить конверсию и средний чек заказа   \n",
       "3           Изменить структура категорий, что увеличит конверсию, т.к. пользователи быстрее найдут нужный товар   \n",
       "4                              Изменить цвет фона главной страницы, чтобы увеличить вовлеченность пользователей   \n",
       "5                      Добавить страницу отзывов клиентов о магазине, что позволит увеличить количество заказов   \n",
       "6          Показать на главной странице баннеры с актуальными акциями и распродажами, чтобы увеличить конверсию   \n",
       "7              Добавить форму подписки на все основные страницы, чтобы собрать базу клиентов для email-рассылок   \n",
       "8                                                       Запустить акцию, дающую скидку на товар в день рождения   \n",
       "\n",
       "   Reach  Impact  Confidence  Efforts  \n",
       "0      3      10           8        6  \n",
       "1      2       5           4       10  \n",
       "2      8       3           7        3  \n",
       "3      8       3           3        8  \n",
       "4      3       1           1        1  \n",
       "5      3       2           2        3  \n",
       "6      5       3           8        3  \n",
       "7     10       7           8        5  \n",
       "8      1       9           9        5  "
      ]
     },
     "execution_count": 3,
     "metadata": {},
     "output_type": "execute_result"
    }
   ],
   "source": [
    "# снимаем ограничение на количество столбцов\n",
    "pd.set_option('display.max_columns', None)\n",
    "\n",
    "# снимаем ограничение на ширину столбцов\n",
    "pd.set_option('display.max_colwidth', None)\n",
    "\n",
    "# обзор датафрейма hypothesis\n",
    "hypothesis.info()\n",
    "hypothesis"
   ]
  },
  {
   "cell_type": "code",
   "execution_count": 4,
   "metadata": {},
   "outputs": [
    {
     "name": "stdout",
     "output_type": "stream",
     "text": [
      "<class 'pandas.core.frame.DataFrame'>\n",
      "RangeIndex: 1197 entries, 0 to 1196\n",
      "Data columns (total 5 columns):\n",
      " #   Column         Non-Null Count  Dtype \n",
      "---  ------         --------------  ----- \n",
      " 0   transactionId  1197 non-null   int64 \n",
      " 1   visitorId      1197 non-null   int64 \n",
      " 2   date           1197 non-null   object\n",
      " 3   revenue        1197 non-null   int64 \n",
      " 4   group          1197 non-null   object\n",
      "dtypes: int64(3), object(2)\n",
      "memory usage: 46.9+ KB\n"
     ]
    },
    {
     "data": {
      "text/html": [
       "<div>\n",
       "<style scoped>\n",
       "    .dataframe tbody tr th:only-of-type {\n",
       "        vertical-align: middle;\n",
       "    }\n",
       "\n",
       "    .dataframe tbody tr th {\n",
       "        vertical-align: top;\n",
       "    }\n",
       "\n",
       "    .dataframe thead th {\n",
       "        text-align: right;\n",
       "    }\n",
       "</style>\n",
       "<table border=\"1\" class=\"dataframe\">\n",
       "  <thead>\n",
       "    <tr style=\"text-align: right;\">\n",
       "      <th></th>\n",
       "      <th>transactionId</th>\n",
       "      <th>visitorId</th>\n",
       "      <th>date</th>\n",
       "      <th>revenue</th>\n",
       "      <th>group</th>\n",
       "    </tr>\n",
       "  </thead>\n",
       "  <tbody>\n",
       "    <tr>\n",
       "      <th>0</th>\n",
       "      <td>3667963787</td>\n",
       "      <td>3312258926</td>\n",
       "      <td>2019-08-15</td>\n",
       "      <td>1650</td>\n",
       "      <td>B</td>\n",
       "    </tr>\n",
       "    <tr>\n",
       "      <th>1</th>\n",
       "      <td>2804400009</td>\n",
       "      <td>3642806036</td>\n",
       "      <td>2019-08-15</td>\n",
       "      <td>730</td>\n",
       "      <td>B</td>\n",
       "    </tr>\n",
       "    <tr>\n",
       "      <th>2</th>\n",
       "      <td>2961555356</td>\n",
       "      <td>4069496402</td>\n",
       "      <td>2019-08-15</td>\n",
       "      <td>400</td>\n",
       "      <td>A</td>\n",
       "    </tr>\n",
       "    <tr>\n",
       "      <th>3</th>\n",
       "      <td>3797467345</td>\n",
       "      <td>1196621759</td>\n",
       "      <td>2019-08-15</td>\n",
       "      <td>9759</td>\n",
       "      <td>B</td>\n",
       "    </tr>\n",
       "    <tr>\n",
       "      <th>4</th>\n",
       "      <td>2282983706</td>\n",
       "      <td>2322279887</td>\n",
       "      <td>2019-08-15</td>\n",
       "      <td>2308</td>\n",
       "      <td>B</td>\n",
       "    </tr>\n",
       "    <tr>\n",
       "      <th>...</th>\n",
       "      <td>...</td>\n",
       "      <td>...</td>\n",
       "      <td>...</td>\n",
       "      <td>...</td>\n",
       "      <td>...</td>\n",
       "    </tr>\n",
       "    <tr>\n",
       "      <th>1192</th>\n",
       "      <td>2662137336</td>\n",
       "      <td>3733762160</td>\n",
       "      <td>2019-08-14</td>\n",
       "      <td>6490</td>\n",
       "      <td>B</td>\n",
       "    </tr>\n",
       "    <tr>\n",
       "      <th>1193</th>\n",
       "      <td>2203539145</td>\n",
       "      <td>370388673</td>\n",
       "      <td>2019-08-14</td>\n",
       "      <td>3190</td>\n",
       "      <td>A</td>\n",
       "    </tr>\n",
       "    <tr>\n",
       "      <th>1194</th>\n",
       "      <td>1807773912</td>\n",
       "      <td>573423106</td>\n",
       "      <td>2019-08-14</td>\n",
       "      <td>10550</td>\n",
       "      <td>A</td>\n",
       "    </tr>\n",
       "    <tr>\n",
       "      <th>1195</th>\n",
       "      <td>1947021204</td>\n",
       "      <td>1614305549</td>\n",
       "      <td>2019-08-14</td>\n",
       "      <td>100</td>\n",
       "      <td>A</td>\n",
       "    </tr>\n",
       "    <tr>\n",
       "      <th>1196</th>\n",
       "      <td>3936777065</td>\n",
       "      <td>2108080724</td>\n",
       "      <td>2019-08-15</td>\n",
       "      <td>202740</td>\n",
       "      <td>B</td>\n",
       "    </tr>\n",
       "  </tbody>\n",
       "</table>\n",
       "<p>1197 rows × 5 columns</p>\n",
       "</div>"
      ],
      "text/plain": [
       "      transactionId   visitorId        date  revenue group\n",
       "0        3667963787  3312258926  2019-08-15     1650     B\n",
       "1        2804400009  3642806036  2019-08-15      730     B\n",
       "2        2961555356  4069496402  2019-08-15      400     A\n",
       "3        3797467345  1196621759  2019-08-15     9759     B\n",
       "4        2282983706  2322279887  2019-08-15     2308     B\n",
       "...             ...         ...         ...      ...   ...\n",
       "1192     2662137336  3733762160  2019-08-14     6490     B\n",
       "1193     2203539145   370388673  2019-08-14     3190     A\n",
       "1194     1807773912   573423106  2019-08-14    10550     A\n",
       "1195     1947021204  1614305549  2019-08-14      100     A\n",
       "1196     3936777065  2108080724  2019-08-15   202740     B\n",
       "\n",
       "[1197 rows x 5 columns]"
      ]
     },
     "execution_count": 4,
     "metadata": {},
     "output_type": "execute_result"
    }
   ],
   "source": [
    "# обзор датафрейма orders\n",
    "\n",
    "orders.info()\n",
    "orders"
   ]
  },
  {
   "cell_type": "code",
   "execution_count": 5,
   "metadata": {},
   "outputs": [
    {
     "name": "stdout",
     "output_type": "stream",
     "text": [
      "<class 'pandas.core.frame.DataFrame'>\n",
      "RangeIndex: 62 entries, 0 to 61\n",
      "Data columns (total 3 columns):\n",
      " #   Column    Non-Null Count  Dtype \n",
      "---  ------    --------------  ----- \n",
      " 0   date      62 non-null     object\n",
      " 1   group     62 non-null     object\n",
      " 2   visitors  62 non-null     int64 \n",
      "dtypes: int64(1), object(2)\n",
      "memory usage: 1.6+ KB\n"
     ]
    },
    {
     "data": {
      "text/html": [
       "<div>\n",
       "<style scoped>\n",
       "    .dataframe tbody tr th:only-of-type {\n",
       "        vertical-align: middle;\n",
       "    }\n",
       "\n",
       "    .dataframe tbody tr th {\n",
       "        vertical-align: top;\n",
       "    }\n",
       "\n",
       "    .dataframe thead th {\n",
       "        text-align: right;\n",
       "    }\n",
       "</style>\n",
       "<table border=\"1\" class=\"dataframe\">\n",
       "  <thead>\n",
       "    <tr style=\"text-align: right;\">\n",
       "      <th></th>\n",
       "      <th>date</th>\n",
       "      <th>group</th>\n",
       "      <th>visitors</th>\n",
       "    </tr>\n",
       "  </thead>\n",
       "  <tbody>\n",
       "    <tr>\n",
       "      <th>0</th>\n",
       "      <td>2019-08-01</td>\n",
       "      <td>A</td>\n",
       "      <td>719</td>\n",
       "    </tr>\n",
       "    <tr>\n",
       "      <th>1</th>\n",
       "      <td>2019-08-02</td>\n",
       "      <td>A</td>\n",
       "      <td>619</td>\n",
       "    </tr>\n",
       "    <tr>\n",
       "      <th>2</th>\n",
       "      <td>2019-08-03</td>\n",
       "      <td>A</td>\n",
       "      <td>507</td>\n",
       "    </tr>\n",
       "    <tr>\n",
       "      <th>3</th>\n",
       "      <td>2019-08-04</td>\n",
       "      <td>A</td>\n",
       "      <td>717</td>\n",
       "    </tr>\n",
       "    <tr>\n",
       "      <th>4</th>\n",
       "      <td>2019-08-05</td>\n",
       "      <td>A</td>\n",
       "      <td>756</td>\n",
       "    </tr>\n",
       "    <tr>\n",
       "      <th>...</th>\n",
       "      <td>...</td>\n",
       "      <td>...</td>\n",
       "      <td>...</td>\n",
       "    </tr>\n",
       "    <tr>\n",
       "      <th>57</th>\n",
       "      <td>2019-08-27</td>\n",
       "      <td>B</td>\n",
       "      <td>720</td>\n",
       "    </tr>\n",
       "    <tr>\n",
       "      <th>58</th>\n",
       "      <td>2019-08-28</td>\n",
       "      <td>B</td>\n",
       "      <td>654</td>\n",
       "    </tr>\n",
       "    <tr>\n",
       "      <th>59</th>\n",
       "      <td>2019-08-29</td>\n",
       "      <td>B</td>\n",
       "      <td>531</td>\n",
       "    </tr>\n",
       "    <tr>\n",
       "      <th>60</th>\n",
       "      <td>2019-08-30</td>\n",
       "      <td>B</td>\n",
       "      <td>490</td>\n",
       "    </tr>\n",
       "    <tr>\n",
       "      <th>61</th>\n",
       "      <td>2019-08-31</td>\n",
       "      <td>B</td>\n",
       "      <td>718</td>\n",
       "    </tr>\n",
       "  </tbody>\n",
       "</table>\n",
       "<p>62 rows × 3 columns</p>\n",
       "</div>"
      ],
      "text/plain": [
       "          date group  visitors\n",
       "0   2019-08-01     A       719\n",
       "1   2019-08-02     A       619\n",
       "2   2019-08-03     A       507\n",
       "3   2019-08-04     A       717\n",
       "4   2019-08-05     A       756\n",
       "..         ...   ...       ...\n",
       "57  2019-08-27     B       720\n",
       "58  2019-08-28     B       654\n",
       "59  2019-08-29     B       531\n",
       "60  2019-08-30     B       490\n",
       "61  2019-08-31     B       718\n",
       "\n",
       "[62 rows x 3 columns]"
      ]
     },
     "execution_count": 5,
     "metadata": {},
     "output_type": "execute_result"
    }
   ],
   "source": [
    "# обзор датафрейма visitors\n",
    "\n",
    "visitors.info()\n",
    "visitors"
   ]
  },
  {
   "cell_type": "markdown",
   "metadata": {},
   "source": [
    "Вывод:\n",
    "Мы проанализировали исходные данные трех датасетов. Пропусков в датасетах не обнаружено. Но есть несколько вещей, которые стоит поправить, для комфортной  работы:\n",
    "\n",
    "\n",
    "**1)** Тип данных. В некоторых столбцах он не корректный (Пример: столбцы с датами имеют тип object)\n",
    "\n",
    "\n",
    "**2)** Отсутствие единого змеиного стиля\n",
    "\n",
    "\n",
    "**3)** Также проверим датасеты на дубликаты\n",
    "\n",
    "Теперь предобработаем данные"
   ]
  },
  {
   "cell_type": "markdown",
   "metadata": {},
   "source": [
    "#### Предобработка данных"
   ]
  },
  {
   "cell_type": "code",
   "execution_count": 6,
   "metadata": {},
   "outputs": [],
   "source": [
    "# изменим тип данных для столбцов с датами\n",
    "\n",
    "visitors['date'] = pd.to_datetime(visitors['date'])\n",
    "orders['date'] = pd.to_datetime(orders['date'])"
   ]
  },
  {
   "cell_type": "code",
   "execution_count": 7,
   "metadata": {},
   "outputs": [
    {
     "data": {
      "text/plain": [
       "Index(['hypothesis', 'reach', 'impact', 'confidence', 'efforts'], dtype='object')"
      ]
     },
     "metadata": {},
     "output_type": "display_data"
    },
    {
     "data": {
      "text/plain": [
       "Index(['transaction_id', 'visitor_id', 'date', 'revenue', 'group'], dtype='object')"
      ]
     },
     "execution_count": 7,
     "metadata": {},
     "output_type": "execute_result"
    }
   ],
   "source": [
    "# приведем наименования столбцов к хорошему стилю\n",
    "\n",
    "hypothesis.columns = hypothesis.columns.str.lower()\n",
    "orders.columns = [name.replace('Id', '_id') for name in orders.columns]\n",
    "\n",
    "display(hypothesis.columns)\n",
    "orders.columns"
   ]
  },
  {
   "cell_type": "code",
   "execution_count": 8,
   "metadata": {},
   "outputs": [
    {
     "data": {
      "text/plain": [
       "0"
      ]
     },
     "metadata": {},
     "output_type": "display_data"
    },
    {
     "data": {
      "text/plain": [
       "0"
      ]
     },
     "execution_count": 8,
     "metadata": {},
     "output_type": "execute_result"
    }
   ],
   "source": [
    "# проверяем таблицы на наличие дубликатов\n",
    "\n",
    "display(visitors.duplicated().sum())\n",
    "orders.duplicated().sum()"
   ]
  },
  {
   "cell_type": "markdown",
   "metadata": {},
   "source": [
    "### Приоритезация гипотез"
   ]
  },
  {
   "cell_type": "markdown",
   "metadata": {},
   "source": [
    "В нашем распоряжении 9 гипотез, каждая из которых оценена по шкале от 0 до 10\n",
    "\n",
    "Применим фреймворк ICE для приоритизации гипотез. Отсортируем их по убыванию приоритета."
   ]
  },
  {
   "cell_type": "code",
   "execution_count": 9,
   "metadata": {},
   "outputs": [
    {
     "data": {
      "text/html": [
       "<div>\n",
       "<style scoped>\n",
       "    .dataframe tbody tr th:only-of-type {\n",
       "        vertical-align: middle;\n",
       "    }\n",
       "\n",
       "    .dataframe tbody tr th {\n",
       "        vertical-align: top;\n",
       "    }\n",
       "\n",
       "    .dataframe thead th {\n",
       "        text-align: right;\n",
       "    }\n",
       "</style>\n",
       "<table border=\"1\" class=\"dataframe\">\n",
       "  <thead>\n",
       "    <tr style=\"text-align: right;\">\n",
       "      <th></th>\n",
       "      <th>hypothesis</th>\n",
       "      <th>ice</th>\n",
       "    </tr>\n",
       "  </thead>\n",
       "  <tbody>\n",
       "    <tr>\n",
       "      <th>8</th>\n",
       "      <td>Запустить акцию, дающую скидку на товар в день рождения</td>\n",
       "      <td>16.200000</td>\n",
       "    </tr>\n",
       "    <tr>\n",
       "      <th>0</th>\n",
       "      <td>Добавить два новых канала привлечения трафика, что позволит привлекать на 30% больше пользователей</td>\n",
       "      <td>13.333333</td>\n",
       "    </tr>\n",
       "    <tr>\n",
       "      <th>7</th>\n",
       "      <td>Добавить форму подписки на все основные страницы, чтобы собрать базу клиентов для email-рассылок</td>\n",
       "      <td>11.200000</td>\n",
       "    </tr>\n",
       "    <tr>\n",
       "      <th>6</th>\n",
       "      <td>Показать на главной странице баннеры с актуальными акциями и распродажами, чтобы увеличить конверсию</td>\n",
       "      <td>8.000000</td>\n",
       "    </tr>\n",
       "    <tr>\n",
       "      <th>2</th>\n",
       "      <td>Добавить блоки рекомендаций товаров на сайт интернет магазина, чтобы повысить конверсию и средний чек заказа</td>\n",
       "      <td>7.000000</td>\n",
       "    </tr>\n",
       "  </tbody>\n",
       "</table>\n",
       "</div>"
      ],
      "text/plain": [
       "                                                                                                     hypothesis  \\\n",
       "8                                                       Запустить акцию, дающую скидку на товар в день рождения   \n",
       "0            Добавить два новых канала привлечения трафика, что позволит привлекать на 30% больше пользователей   \n",
       "7              Добавить форму подписки на все основные страницы, чтобы собрать базу клиентов для email-рассылок   \n",
       "6          Показать на главной странице баннеры с актуальными акциями и распродажами, чтобы увеличить конверсию   \n",
       "2  Добавить блоки рекомендаций товаров на сайт интернет магазина, чтобы повысить конверсию и средний чек заказа   \n",
       "\n",
       "         ice  \n",
       "8  16.200000  \n",
       "0  13.333333  \n",
       "7  11.200000  \n",
       "6   8.000000  \n",
       "2   7.000000  "
      ]
     },
     "execution_count": 9,
     "metadata": {},
     "output_type": "execute_result"
    }
   ],
   "source": [
    "hypothesis['ice'] = hypothesis['impact'] * hypothesis['confidence'] / hypothesis['efforts']\n",
    "\n",
    "hypothesis[['hypothesis', 'ice']].sort_values(by='ice', ascending=False).head(5)"
   ]
  },
  {
   "cell_type": "code",
   "execution_count": 10,
   "metadata": {},
   "outputs": [
    {
     "data": {
      "image/png": "[encoded data removed]",
      "text/plain": [
       "<Figure size 432x288 with 1 Axes>"
      ]
     },
     "metadata": {
      "needs_background": "light"
     },
     "output_type": "display_data"
    }
   ],
   "source": [
    "ax = (hypothesis[['hypothesis', 'ice']]\n",
    "      .set_index('hypothesis')\n",
    "      .sort_values('ice', ascending=False)\n",
    "      .plot(kind='barh', color='b', alpha=0.5))\n",
    "ax.grid(True)\n",
    "ax.set_xlabel('Приоритет гипотезы')\n",
    "ax.set_ylabel('Гипотеза')\n",
    "ax.set_title('Приоритезация гипотез методом ICE', loc='right')\n",
    "plt.show()"
   ]
  },
  {
   "cell_type": "markdown",
   "metadata": {},
   "source": [
    "Видим 5 наиболее перспективных гипотез, а именно:\n",
    "\n",
    "* Добавить блоки рекомендаций товаров на сайт интернет магазина, чтобы повысить конверсию и средний чек заказа\n",
    "\n",
    "\n",
    "* Показать на главной странице баннеры с актуальными акциями и распродажами, чтобы увеличить конверсию\n",
    "\n",
    "* Добавить форму подписки на все основные страницы, чтобы собрать базу клиентов для email-рассылок\n",
    "\n",
    "* Добавить два новых канала привлечения трафика, что позволит привлекать на 30% больше пользователей\n",
    "\n",
    "* Запустить акцию, дающую скидку на товар в день рождения\n",
    "\n",
    "\n",
    "Теперь применим фреймворк RICE для приоритизации гипотез и отсортируем их по убыванию приоритета. Для этого\n",
    "добавим пользователей, которых затронет изменение (пар. Reach)"
   ]
  },
  {
   "cell_type": "code",
   "execution_count": 11,
   "metadata": {},
   "outputs": [
    {
     "data": {
      "text/html": [
       "<div>\n",
       "<style scoped>\n",
       "    .dataframe tbody tr th:only-of-type {\n",
       "        vertical-align: middle;\n",
       "    }\n",
       "\n",
       "    .dataframe tbody tr th {\n",
       "        vertical-align: top;\n",
       "    }\n",
       "\n",
       "    .dataframe thead th {\n",
       "        text-align: right;\n",
       "    }\n",
       "</style>\n",
       "<table border=\"1\" class=\"dataframe\">\n",
       "  <thead>\n",
       "    <tr style=\"text-align: right;\">\n",
       "      <th></th>\n",
       "      <th>hypothesis</th>\n",
       "      <th>rice</th>\n",
       "    </tr>\n",
       "  </thead>\n",
       "  <tbody>\n",
       "    <tr>\n",
       "      <th>7</th>\n",
       "      <td>Добавить форму подписки на все основные страницы, чтобы собрать базу клиентов для email-рассылок</td>\n",
       "      <td>112.0</td>\n",
       "    </tr>\n",
       "    <tr>\n",
       "      <th>2</th>\n",
       "      <td>Добавить блоки рекомендаций товаров на сайт интернет магазина, чтобы повысить конверсию и средний чек заказа</td>\n",
       "      <td>56.0</td>\n",
       "    </tr>\n",
       "    <tr>\n",
       "      <th>0</th>\n",
       "      <td>Добавить два новых канала привлечения трафика, что позволит привлекать на 30% больше пользователей</td>\n",
       "      <td>40.0</td>\n",
       "    </tr>\n",
       "    <tr>\n",
       "      <th>6</th>\n",
       "      <td>Показать на главной странице баннеры с актуальными акциями и распродажами, чтобы увеличить конверсию</td>\n",
       "      <td>40.0</td>\n",
       "    </tr>\n",
       "    <tr>\n",
       "      <th>8</th>\n",
       "      <td>Запустить акцию, дающую скидку на товар в день рождения</td>\n",
       "      <td>16.2</td>\n",
       "    </tr>\n",
       "  </tbody>\n",
       "</table>\n",
       "</div>"
      ],
      "text/plain": [
       "                                                                                                     hypothesis  \\\n",
       "7              Добавить форму подписки на все основные страницы, чтобы собрать базу клиентов для email-рассылок   \n",
       "2  Добавить блоки рекомендаций товаров на сайт интернет магазина, чтобы повысить конверсию и средний чек заказа   \n",
       "0            Добавить два новых канала привлечения трафика, что позволит привлекать на 30% больше пользователей   \n",
       "6          Показать на главной странице баннеры с актуальными акциями и распродажами, чтобы увеличить конверсию   \n",
       "8                                                       Запустить акцию, дающую скидку на товар в день рождения   \n",
       "\n",
       "    rice  \n",
       "7  112.0  \n",
       "2   56.0  \n",
       "0   40.0  \n",
       "6   40.0  \n",
       "8   16.2  "
      ]
     },
     "execution_count": 11,
     "metadata": {},
     "output_type": "execute_result"
    }
   ],
   "source": [
    "hypothesis['rice'] = hypothesis['reach'] * hypothesis['impact'] * hypothesis['confidence'] / hypothesis['efforts']\n",
    "\n",
    "hypothesis[['hypothesis', 'rice']].sort_values(by='rice', ascending=False).head(5)"
   ]
  },
  {
   "cell_type": "code",
   "execution_count": 12,
   "metadata": {},
   "outputs": [
    {
     "data": {
      "image/png": "[encoded data removed]",
      "text/plain": [
       "<Figure size 432x288 with 1 Axes>"
      ]
     },
     "metadata": {
      "needs_background": "light"
     },
     "output_type": "display_data"
    }
   ],
   "source": [
    "ax = (hypothesis[['hypothesis', 'rice']]\n",
    "      .set_index('hypothesis')\n",
    "      .sort_values('rice', ascending=False)\n",
    "      .plot(kind='barh', color='m', alpha=0.5))\n",
    "ax.grid(True)\n",
    "ax.set_xlabel('Приоритет гипотезы')\n",
    "ax.set_ylabel('Гипотеза')\n",
    "ax.set_title('Приоритезация гипотез методом ICE', loc='right')\n",
    "plt.show()"
   ]
  },
  {
   "cell_type": "markdown",
   "metadata": {},
   "source": [
    "Видим тот же топ-5 гипотез, но в обратном порядке. Предполагаю, так произошло потому что метод RICE учитывает пользователей, а ICE - нет\n",
    "\n",
    "Гипотезы под номерами 7 и 0 выглядят самыми перспективными:\n",
    "\n",
    "* \"Добавить форму подписки на все основные страницы, чтобы собрать базу клиентов для email-рассылок\"\n",
    "\n",
    "* \"Добавить два новых канала привлечения трафика, что позволит привлекать на 30% больше пользователей\"\n",
    "\n",
    "Это учитывая, что 1 гипотеза будет иметь влияние на всех пользователей, а 2, скорее всего, на те самые 30% пользователей"
   ]
  },
  {
   "cell_type": "markdown",
   "metadata": {},
   "source": [
    "###  Анализ A/B-теста"
   ]
  },
  {
   "cell_type": "markdown",
   "metadata": {},
   "source": [
    "Прежде чем создавать графики кумулятивных метрик, соберем агрегирующие данные и проверим, нет ли пользователей, которые угодили в обе группы одновременно"
   ]
  },
  {
   "cell_type": "code",
   "execution_count": 13,
   "metadata": {
    "scrolled": true
   },
   "outputs": [
    {
     "data": {
      "text/plain": [
       "group    58\n",
       "dtype: int64"
      ]
     },
     "execution_count": 13,
     "metadata": {},
     "output_type": "execute_result"
    }
   ],
   "source": [
    "doubles = orders.groupby('visitor_id').agg({'group' : 'nunique'}).query('group>1').count()\n",
    "doubles"
   ]
  },
  {
   "cell_type": "markdown",
   "metadata": {},
   "source": [
    "Нашли 58 пользователей. Создадим список с этим пользователями и оставим только тех, кто состоит либо в группе А, либо в группе Б"
   ]
  },
  {
   "cell_type": "code",
   "execution_count": 14,
   "metadata": {},
   "outputs": [],
   "source": [
    "#создаем список с 58 пользователями\n",
    "doubles_vis = (orders.groupby('visitor_id').agg({'group' : 'nunique'}).reset_index().query('group>1')['visitor_id'].unique())\n",
    "\n",
    "#фильтруем датасет и оставляем только уникальных пользователей\n",
    "orders = orders.query('visitor_id not in @doubles_vis')"
   ]
  },
  {
   "cell_type": "markdown",
   "metadata": {},
   "source": [
    "Теперь создадим массив уникальных пар значений дат и групп теста, а также соберем кумулятивные данные"
   ]
  },
  {
   "cell_type": "code",
   "execution_count": 15,
   "metadata": {},
   "outputs": [
    {
     "data": {
      "text/html": [
       "<div>\n",
       "<style scoped>\n",
       "    .dataframe tbody tr th:only-of-type {\n",
       "        vertical-align: middle;\n",
       "    }\n",
       "\n",
       "    .dataframe tbody tr th {\n",
       "        vertical-align: top;\n",
       "    }\n",
       "\n",
       "    .dataframe thead th {\n",
       "        text-align: right;\n",
       "    }\n",
       "</style>\n",
       "<table border=\"1\" class=\"dataframe\">\n",
       "  <thead>\n",
       "    <tr style=\"text-align: right;\">\n",
       "      <th></th>\n",
       "      <th>date</th>\n",
       "      <th>group</th>\n",
       "      <th>transaction_id</th>\n",
       "      <th>visitor_id</th>\n",
       "      <th>revenue</th>\n",
       "    </tr>\n",
       "  </thead>\n",
       "  <tbody>\n",
       "    <tr>\n",
       "      <th>55</th>\n",
       "      <td>2019-08-01</td>\n",
       "      <td>A</td>\n",
       "      <td>23</td>\n",
       "      <td>19</td>\n",
       "      <td>142779</td>\n",
       "    </tr>\n",
       "    <tr>\n",
       "      <th>66</th>\n",
       "      <td>2019-08-01</td>\n",
       "      <td>B</td>\n",
       "      <td>17</td>\n",
       "      <td>17</td>\n",
       "      <td>59758</td>\n",
       "    </tr>\n",
       "    <tr>\n",
       "      <th>175</th>\n",
       "      <td>2019-08-02</td>\n",
       "      <td>A</td>\n",
       "      <td>42</td>\n",
       "      <td>36</td>\n",
       "      <td>234381</td>\n",
       "    </tr>\n",
       "    <tr>\n",
       "      <th>173</th>\n",
       "      <td>2019-08-02</td>\n",
       "      <td>B</td>\n",
       "      <td>40</td>\n",
       "      <td>39</td>\n",
       "      <td>221801</td>\n",
       "    </tr>\n",
       "    <tr>\n",
       "      <th>291</th>\n",
       "      <td>2019-08-03</td>\n",
       "      <td>A</td>\n",
       "      <td>66</td>\n",
       "      <td>60</td>\n",
       "      <td>346854</td>\n",
       "    </tr>\n",
       "  </tbody>\n",
       "</table>\n",
       "</div>"
      ],
      "text/plain": [
       "          date group  transaction_id  visitor_id  revenue\n",
       "55  2019-08-01     A              23          19   142779\n",
       "66  2019-08-01     B              17          17    59758\n",
       "175 2019-08-02     A              42          36   234381\n",
       "173 2019-08-02     B              40          39   221801\n",
       "291 2019-08-03     A              66          60   346854"
      ]
     },
     "execution_count": 15,
     "metadata": {},
     "output_type": "execute_result"
    }
   ],
   "source": [
    "# создаедим массив уникальных пар значений дат и групп теста\n",
    "date_ogr = orders[['date', 'group']].drop_duplicates()\n",
    "\n",
    "#собираем кумулятивные данные по дням о заказах \n",
    "orders_ogr = date_ogr.apply(\n",
    "    lambda x: orders[\n",
    "        np.logical_and(\n",
    "            orders['date'] <= x['date'], orders['group'] == x['group']\n",
    "        )\n",
    "    ].agg(\n",
    "        {\n",
    "            'date': 'max',\n",
    "            'group': 'max',\n",
    "            'transaction_id': 'nunique',\n",
    "            'visitor_id': 'nunique',\n",
    "            'revenue': 'sum',\n",
    "        }\n",
    "    ),\n",
    "    axis=1,\n",
    ").sort_values(by=['date', 'group'])\n",
    "\n",
    "orders_ogr.head()"
   ]
  },
  {
   "cell_type": "code",
   "execution_count": 16,
   "metadata": {},
   "outputs": [
    {
     "data": {
      "text/html": [
       "<div>\n",
       "<style scoped>\n",
       "    .dataframe tbody tr th:only-of-type {\n",
       "        vertical-align: middle;\n",
       "    }\n",
       "\n",
       "    .dataframe tbody tr th {\n",
       "        vertical-align: top;\n",
       "    }\n",
       "\n",
       "    .dataframe thead th {\n",
       "        text-align: right;\n",
       "    }\n",
       "</style>\n",
       "<table border=\"1\" class=\"dataframe\">\n",
       "  <thead>\n",
       "    <tr style=\"text-align: right;\">\n",
       "      <th></th>\n",
       "      <th>date</th>\n",
       "      <th>group</th>\n",
       "      <th>visitors</th>\n",
       "    </tr>\n",
       "  </thead>\n",
       "  <tbody>\n",
       "    <tr>\n",
       "      <th>55</th>\n",
       "      <td>2019-08-01</td>\n",
       "      <td>A</td>\n",
       "      <td>719</td>\n",
       "    </tr>\n",
       "    <tr>\n",
       "      <th>66</th>\n",
       "      <td>2019-08-01</td>\n",
       "      <td>B</td>\n",
       "      <td>713</td>\n",
       "    </tr>\n",
       "    <tr>\n",
       "      <th>175</th>\n",
       "      <td>2019-08-02</td>\n",
       "      <td>A</td>\n",
       "      <td>1338</td>\n",
       "    </tr>\n",
       "    <tr>\n",
       "      <th>173</th>\n",
       "      <td>2019-08-02</td>\n",
       "      <td>B</td>\n",
       "      <td>1294</td>\n",
       "    </tr>\n",
       "    <tr>\n",
       "      <th>291</th>\n",
       "      <td>2019-08-03</td>\n",
       "      <td>A</td>\n",
       "      <td>1845</td>\n",
       "    </tr>\n",
       "    <tr>\n",
       "      <th>383</th>\n",
       "      <td>2019-08-03</td>\n",
       "      <td>B</td>\n",
       "      <td>1803</td>\n",
       "    </tr>\n",
       "  </tbody>\n",
       "</table>\n",
       "</div>"
      ],
      "text/plain": [
       "          date group  visitors\n",
       "55  2019-08-01     A       719\n",
       "66  2019-08-01     B       713\n",
       "175 2019-08-02     A      1338\n",
       "173 2019-08-02     B      1294\n",
       "291 2019-08-03     A      1845\n",
       "383 2019-08-03     B      1803"
      ]
     },
     "execution_count": 16,
     "metadata": {},
     "output_type": "execute_result"
    }
   ],
   "source": [
    "# получаем агрегированные кумулятивные по дням данные о посетителях интернет-магазина \n",
    "\n",
    "visitors_ogr = date_ogr.apply(\n",
    "    lambda x: visitors[\n",
    "        np.logical_and(\n",
    "            visitors['date'] <= x['date'], visitors['group'] == x['group']\n",
    "        )\n",
    "    ].agg(\n",
    "        {\n",
    "            'date': 'max', \n",
    "            'group': 'max', \n",
    "            'visitors': 'sum'\n",
    "        }\n",
    "    ),\n",
    "    axis=1,\n",
    ").sort_values(by=['date', 'group'])\n",
    "\n",
    "visitors_ogr.head(6)"
   ]
  },
  {
   "cell_type": "code",
   "execution_count": 17,
   "metadata": {
    "scrolled": true
   },
   "outputs": [
    {
     "data": {
      "text/html": [
       "<div>\n",
       "<style scoped>\n",
       "    .dataframe tbody tr th:only-of-type {\n",
       "        vertical-align: middle;\n",
       "    }\n",
       "\n",
       "    .dataframe tbody tr th {\n",
       "        vertical-align: top;\n",
       "    }\n",
       "\n",
       "    .dataframe thead th {\n",
       "        text-align: right;\n",
       "    }\n",
       "</style>\n",
       "<table border=\"1\" class=\"dataframe\">\n",
       "  <thead>\n",
       "    <tr style=\"text-align: right;\">\n",
       "      <th></th>\n",
       "      <th>date</th>\n",
       "      <th>group</th>\n",
       "      <th>orders</th>\n",
       "      <th>buyers</th>\n",
       "      <th>revenue</th>\n",
       "      <th>visitors</th>\n",
       "      <th>conversion</th>\n",
       "    </tr>\n",
       "  </thead>\n",
       "  <tbody>\n",
       "    <tr>\n",
       "      <th>0</th>\n",
       "      <td>2019-08-01</td>\n",
       "      <td>A</td>\n",
       "      <td>23</td>\n",
       "      <td>19</td>\n",
       "      <td>142779</td>\n",
       "      <td>719</td>\n",
       "      <td>0.031989</td>\n",
       "    </tr>\n",
       "    <tr>\n",
       "      <th>1</th>\n",
       "      <td>2019-08-01</td>\n",
       "      <td>B</td>\n",
       "      <td>17</td>\n",
       "      <td>17</td>\n",
       "      <td>59758</td>\n",
       "      <td>713</td>\n",
       "      <td>0.023843</td>\n",
       "    </tr>\n",
       "    <tr>\n",
       "      <th>2</th>\n",
       "      <td>2019-08-02</td>\n",
       "      <td>A</td>\n",
       "      <td>42</td>\n",
       "      <td>36</td>\n",
       "      <td>234381</td>\n",
       "      <td>1338</td>\n",
       "      <td>0.031390</td>\n",
       "    </tr>\n",
       "    <tr>\n",
       "      <th>3</th>\n",
       "      <td>2019-08-02</td>\n",
       "      <td>B</td>\n",
       "      <td>40</td>\n",
       "      <td>39</td>\n",
       "      <td>221801</td>\n",
       "      <td>1294</td>\n",
       "      <td>0.030912</td>\n",
       "    </tr>\n",
       "    <tr>\n",
       "      <th>4</th>\n",
       "      <td>2019-08-03</td>\n",
       "      <td>A</td>\n",
       "      <td>66</td>\n",
       "      <td>60</td>\n",
       "      <td>346854</td>\n",
       "      <td>1845</td>\n",
       "      <td>0.035772</td>\n",
       "    </tr>\n",
       "  </tbody>\n",
       "</table>\n",
       "</div>"
      ],
      "text/plain": [
       "        date group  orders  buyers  revenue  visitors  conversion\n",
       "0 2019-08-01     A      23      19   142779       719    0.031989\n",
       "1 2019-08-01     B      17      17    59758       713    0.023843\n",
       "2 2019-08-02     A      42      36   234381      1338    0.031390\n",
       "3 2019-08-02     B      40      39   221801      1294    0.030912\n",
       "4 2019-08-03     A      66      60   346854      1845    0.035772"
      ]
     },
     "execution_count": 17,
     "metadata": {},
     "output_type": "execute_result"
    }
   ],
   "source": [
    "# склеим кумулятивные данные в одну таблицу и присвоим им понятные наименования\n",
    "\n",
    "cumul_data = orders_ogr.merge(visitors_ogr, left_on=['date', 'group'], right_on=['date', 'group'])\n",
    "\n",
    "cumul_data.columns = ['date', 'group', 'orders', 'buyers', 'revenue', 'visitors']\n",
    "\n",
    "#добавим столбец с конверсией\n",
    "cumul_data['conversion'] = cumul_data['orders'] / cumul_data['visitors']\n",
    "cumul_data.head()"
   ]
  },
  {
   "cell_type": "markdown",
   "metadata": {},
   "source": [
    "#### Построим график кумулятивной выручки по группам."
   ]
  },
  {
   "cell_type": "code",
   "execution_count": 18,
   "metadata": {},
   "outputs": [
    {
     "data": {
      "image/png": "[encoded data removed]",
      "text/plain": [
       "<Figure size 432x288 with 1 Axes>"
      ]
     },
     "metadata": {
      "needs_background": "light"
     },
     "output_type": "display_data"
    }
   ],
   "source": [
    "# датафрейм с кумулятивным количеством заказов и кумулятивной выручкой по дням в группе А\n",
    "cum_rev_a = cumul_data[cumul_data['group']=='A'][['date','revenue', 'orders']]\n",
    "\n",
    "# датафрейм с кумулятивным количеством заказов и кумулятивной выручкой по дням в группе B\n",
    "cum_rev_b = cumul_data[cumul_data['group']=='B'][['date','revenue', 'orders']]\n",
    "\n",
    "plt.plot(cum_rev_a['date'], cum_rev_a['revenue'], label='A')\n",
    "plt.plot(cum_rev_b['date'], cum_rev_b['revenue'], label='B')\n",
    "plt.legend()\n",
    "plt.ylabel(\"Выручка в млн.\")\n",
    "plt.title('Динамика кумулятивной выручки по группам А и В')\n",
    "plt.xticks(rotation=25)\n",
    "plt.show()"
   ]
  },
  {
   "cell_type": "markdown",
   "metadata": {},
   "source": [
    "Выручка в 2х группах увеличивается в течении всего теста. Группа B обладает большей кумулятивной выручкой и имеет наглядный всплеск в районе 18 августа. Это может говорить о:\n",
    "\n",
    "1) Резком увеличении числа самих заказов\n",
    "\n",
    "или \n",
    "\n",
    "\n",
    "2) Резком изменении их кач-ва, в сторону более дорогого сегмента товаров.\n",
    "\n",
    "Группа А также увеличивает кумулятивную выручку, но по сравнению с группой В, довольно линейно."
   ]
  },
  {
   "cell_type": "markdown",
   "metadata": {},
   "source": [
    "#### Построим график кумулятивного среднего чека по группам."
   ]
  },
  {
   "cell_type": "code",
   "execution_count": 19,
   "metadata": {},
   "outputs": [
    {
     "data": {
      "image/png": "[encoded data removed]",
      "text/plain": [
       "<Figure size 432x288 with 1 Axes>"
      ]
     },
     "metadata": {
      "needs_background": "light"
     },
     "output_type": "display_data"
    }
   ],
   "source": [
    "plt.plot(cum_rev_a['date'], cum_rev_a['revenue'] / cum_rev_a['orders'], label='A')\n",
    "\n",
    "plt.plot(cum_rev_b['date'], cum_rev_b['revenue'] / cum_rev_b['orders'], label='B')\n",
    "\n",
    "plt.title('Динамика кумулятивного среднего чека по группам А и В')\n",
    "plt.ylabel(\"Выручка в млн.\")\n",
    "plt.xticks(rotation=25)\n",
    "plt.legend()\n",
    "plt.show()"
   ]
  },
  {
   "cell_type": "markdown",
   "metadata": {},
   "source": [
    "Средний чек в группе A за первые две недели вырос и стабилизировался. В группе B мы наблюдаем резкий рывок и плавное снижение ближе к завершению теста. \n",
    "\n",
    "\n",
    "Судя по среднему чеку, ближе вариант версии о дорогой покупке."
   ]
  },
  {
   "cell_type": "markdown",
   "metadata": {},
   "source": [
    "#### Построим график изменения кумулятивного среднего чека группы В к группе А."
   ]
  },
  {
   "cell_type": "code",
   "execution_count": 20,
   "metadata": {},
   "outputs": [
    {
     "data": {
      "image/png": "[encoded data removed]",
      "text/plain": [
       "<Figure size 432x288 with 1 Axes>"
      ]
     },
     "metadata": {
      "needs_background": "light"
     },
     "output_type": "display_data"
    }
   ],
   "source": [
    "# склеиваем данные в один датафрейм\n",
    "cum_rev_ab = cum_rev_a.merge(cum_rev_b, left_on='date', right_on='date', how='left', suffixes=['_a', '_b'])\n",
    "\n",
    "# отношение средних чеков\n",
    "plt.plot(cum_rev_ab['date'],(cum_rev_ab['revenue_b']/cum_rev_ab['orders_b'])/(cum_rev_ab['revenue_a']/cum_rev_ab['orders_a'])-1)\n",
    "plt.axhline(y=0, color='grey', linestyle='--')\n",
    "plt.title('Относительное изменение кумулятивного среднего чека группы B к группе A')\n",
    "plt.xticks(rotation=25)\n",
    "plt.show()"
   ]
  },
  {
   "cell_type": "markdown",
   "metadata": {},
   "source": [
    "В районе 19-20 августа наблюдается большой скачек. Наверняка, имеют место выбросы. В этот период, определенно, случился какой-то крупный заказ."
   ]
  },
  {
   "cell_type": "markdown",
   "metadata": {},
   "source": [
    "#### Построим график кумулятивного среднего количества заказов на посетителя по группам (конверсия)."
   ]
  },
  {
   "cell_type": "code",
   "execution_count": 21,
   "metadata": {},
   "outputs": [
    {
     "data": {
      "image/png": "[encoded data removed]",
      "text/plain": [
       "<Figure size 432x288 with 1 Axes>"
      ]
     },
     "metadata": {
      "needs_background": "light"
     },
     "output_type": "display_data"
    }
   ],
   "source": [
    "#данные по группе а\n",
    "cum_data_a = cumul_data[cumul_data['group']=='A']\n",
    "\n",
    "#данные по группе b\n",
    "cum_data_b = cumul_data[cumul_data['group']=='B']\n",
    "\n",
    "plt.plot(cum_data_a['date'], cum_data_a['conversion'], label='A')\n",
    "plt.plot(cum_data_b['date'], cum_data_b['conversion'], label='B')\n",
    "plt.legend()\n",
    "plt.title('Кумулятивная конверсия по группам')\n",
    "plt.ylabel(\"Конверсия\")\n",
    "plt.xticks(rotation=25)\n",
    "plt.show()"
   ]
  },
  {
   "cell_type": "markdown",
   "metadata": {},
   "source": [
    "Очень наглядно видно, что группы начинали с разных значений, однако A постепенно просела, не смотря на большие изначальные показатели, а группа B стабилизировалась и показывает цифры больше, чем группа A.\n",
    "\n",
    "Также видно, как конверсия довольно быстро стала более \"спокойной\". В самом начале видно колебания."
   ]
  },
  {
   "cell_type": "markdown",
   "metadata": {},
   "source": [
    "#### Построим график относительного изменения кумулятивного среднего количества заказов на посетителя группы B к группе A."
   ]
  },
  {
   "cell_type": "code",
   "execution_count": 22,
   "metadata": {},
   "outputs": [
    {
     "data": {
      "image/png": "[encoded data removed]",
      "text/plain": [
       "<Figure size 432x288 with 1 Axes>"
      ]
     },
     "metadata": {
      "needs_background": "light"
     },
     "output_type": "display_data"
    }
   ],
   "source": [
    "#клеим таблицу\n",
    "cum_con_ab = (cum_data_a[['date','conversion']].merge(cum_data_b[['date','conversion']], left_on='date', right_on='date', how='left', suffixes=['_a', '_b']))\n",
    "\n",
    "\n",
    "plt.plot(cum_con_ab['date'], cum_con_ab['conversion_b']/cum_con_ab['conversion_a']-1)\n",
    "plt.axhline(y=0, color='grey', linestyle='--')\n",
    "plt.title('Относительный прирост конверсии группы B относительно группы A')\n",
    "plt.xticks(rotation=30)\n",
    "plt.show()"
   ]
  },
  {
   "cell_type": "markdown",
   "metadata": {},
   "source": [
    "В начале теста группа В уступала группе А, однако затем вырвалась в лидеры. Ее конверсия росла, далее последовал медленный спад. Теперь конверсия грвуппы В снова растет.\n",
    "\n",
    "Но надо держать в уме графики выше, которые нам сигналили о наличии крупных заказов."
   ]
  },
  {
   "cell_type": "markdown",
   "metadata": {},
   "source": [
    "**Вывод**\n",
    "\n",
    "Анализ графиков кумулятивных метрик дает возможность предполагать, что среди заказов в группе B есть аномально большие, которые влияют на прирост среднего чека.\n",
    "\n",
    "\n",
    "Конверсия в группах к концу теста стабилизировалась."
   ]
  },
  {
   "cell_type": "markdown",
   "metadata": {},
   "source": [
    "#### Распределение заказов по пользователям"
   ]
  },
  {
   "cell_type": "markdown",
   "metadata": {},
   "source": [
    "Посмотрим точечный график кол-ва заказов по пользователям"
   ]
  },
  {
   "cell_type": "code",
   "execution_count": 23,
   "metadata": {},
   "outputs": [
    {
     "data": {
      "image/png": "[encoded data removed]",
      "text/plain": [
       "<Figure size 432x288 with 1 Axes>"
      ]
     },
     "metadata": {
      "needs_background": "light"
     },
     "output_type": "display_data"
    }
   ],
   "source": [
    "ord_by_us = (orders.groupby('visitor_id', as_index=False).agg({'transaction_id': 'nunique'}))\n",
    "ord_by_us.columns =  ['visitor_id', 'orders']\n",
    "\n",
    "x_values = pd.Series(range(0,len(ord_by_us)))\n",
    "\n",
    "# строим точечную диаграмму\n",
    "plt.scatter(x_values, ord_by_us['orders'], alpha=0.5)\n",
    "plt.title('Распределение количества заказов по пользователям')\n",
    "plt.xlabel('Кол-во пользователей')\n",
    "plt.ylabel('Кол-во заказов')\n",
    "plt.show()"
   ]
  },
  {
   "cell_type": "markdown",
   "metadata": {},
   "source": [
    "Пользователи, которые совершили более 1 заказа встречаются редко. Поэтому, чтобы понять, аноималия  это или нет, посчитаем 95-й и 99-й перцентили кол-ва заказов на пользователя."
   ]
  },
  {
   "cell_type": "markdown",
   "metadata": {},
   "source": [
    "#### Посчитаем 95-й и 99-й перцентили количества заказов на пользователя. Выберем границу для определения аномальных пользователей."
   ]
  },
  {
   "cell_type": "code",
   "execution_count": 24,
   "metadata": {},
   "outputs": [
    {
     "data": {
      "text/plain": [
       "array([1., 2.])"
      ]
     },
     "execution_count": 24,
     "metadata": {},
     "output_type": "execute_result"
    }
   ],
   "source": [
    "np.percentile(ord_by_us['orders'], [95, 99])"
   ]
  },
  {
   "cell_type": "markdown",
   "metadata": {},
   "source": [
    "Не более 5% пользователей совершали более 1-й покупки и не более 1% - две и более. \n",
    "\n",
    "Аномальными будем считать пользователей совершивших более 1 заказа."
   ]
  },
  {
   "cell_type": "markdown",
   "metadata": {},
   "source": [
    "#### Построим точечный график стоимостей заказов."
   ]
  },
  {
   "cell_type": "code",
   "execution_count": 25,
   "metadata": {},
   "outputs": [
    {
     "data": {
      "image/png": "[encoded data removed]",
      "text/plain": [
       "<Figure size 432x288 with 1 Axes>"
      ]
     },
     "metadata": {
      "needs_background": "light"
     },
     "output_type": "display_data"
    }
   ],
   "source": [
    "x_values = pd.Series(range(0,len(orders['revenue'])))\n",
    "\n",
    "# строим точечную диаграмму\n",
    "plt.scatter(x_values, orders['revenue'], alpha=0.5)\n",
    "plt.title('Стоимость заказов по пользователям')\n",
    "plt.xlabel('Кол-во пользователей')\n",
    "plt.ylabel('Стоимость заказов')\n",
    "plt.show()"
   ]
  },
  {
   "cell_type": "markdown",
   "metadata": {},
   "source": [
    "Видим заказ более чем на 1,2 млн. рублей. Это, однозначно, выброс. Похоже, он как раз и повлиял на графики кумулятивных метрик, справоцировав всплеск.\n",
    "\n",
    "\n",
    "Попробуем посмотреть, как распределяется стомость \"снизу\" графика. Аномалия мешает рассмотреть более детально."
   ]
  },
  {
   "cell_type": "code",
   "execution_count": 26,
   "metadata": {},
   "outputs": [
    {
     "data": {
      "image/png": "[encoded data removed]",
      "text/plain": [
       "<Figure size 432x288 with 1 Axes>"
      ]
     },
     "metadata": {
      "needs_background": "light"
     },
     "output_type": "display_data"
    }
   ],
   "source": [
    "plt.scatter(x_values, orders['revenue'], alpha=0.5)\n",
    "plt.ylim(0, 120000)\n",
    "plt.title('Распределение стоимости заказов по пользователям')\n",
    "plt.xlabel('Кол-во пользователей')\n",
    "plt.ylabel('Стоимость заказов')\n",
    "plt.show()"
   ]
  },
  {
   "cell_type": "markdown",
   "metadata": {},
   "source": [
    "Преобладающее кол-во заказов не превышает 20 тысяч рублей"
   ]
  },
  {
   "cell_type": "markdown",
   "metadata": {},
   "source": [
    "#### Посчитаем 95-й и 99-й перцентили стоимости заказов. Выберем границу для определения аномальных заказов."
   ]
  },
  {
   "cell_type": "code",
   "execution_count": 27,
   "metadata": {},
   "outputs": [
    {
     "data": {
      "text/plain": [
       "array([26785., 53904.])"
      ]
     },
     "execution_count": 27,
     "metadata": {},
     "output_type": "execute_result"
    }
   ],
   "source": [
    "np.percentile(orders['revenue'], [95, 99])"
   ]
  },
  {
   "cell_type": "markdown",
   "metadata": {},
   "source": [
    "Не более 5% пользователей совершали заказ на сумму более чем 26785 руб. и не более 1% - на сумму более 53904 руб.\n",
    "\n",
    "Аномальными будем считать заказы на сумму более 27000 руб."
   ]
  },
  {
   "cell_type": "markdown",
   "metadata": {},
   "source": [
    "#### Посчитаем статистическую значимость различий в среднем количестве заказов на посетителя между группами по «сырым» данным."
   ]
  },
  {
   "cell_type": "markdown",
   "metadata": {},
   "source": [
    "Посчитаем статистическую значимость различий в конверсии между группами по «сырым» данным, т.е. без удаления аномальных пользователей.\n",
    "\n",
    "\n",
    "Введем основную и альтернативные гипотезы:\n",
    "\n",
    "* **H0**: различий в конверсии между группами нет\n",
    "\n",
    "* **H1**: различий в конверсии между группами есть\n",
    "\n",
    "Уровень значимости поставим **0.05**"
   ]
  },
  {
   "cell_type": "markdown",
   "metadata": {},
   "source": [
    "Для проверки гипотез будем использовать непараметрический тест Уилкоксона-Манна-Уитни, так как подобные данные с нормальным распределением - явление редкое.\n",
    "Для уровеня значимости оставим стандартный уровень статистической значимости: 0.05.\n",
    "\n",
    "Подготовим данные"
   ]
  },
  {
   "cell_type": "code",
   "execution_count": 28,
   "metadata": {},
   "outputs": [
    {
     "data": {
      "text/html": [
       "<div>\n",
       "<style scoped>\n",
       "    .dataframe tbody tr th:only-of-type {\n",
       "        vertical-align: middle;\n",
       "    }\n",
       "\n",
       "    .dataframe tbody tr th {\n",
       "        vertical-align: top;\n",
       "    }\n",
       "\n",
       "    .dataframe thead th {\n",
       "        text-align: right;\n",
       "    }\n",
       "</style>\n",
       "<table border=\"1\" class=\"dataframe\">\n",
       "  <thead>\n",
       "    <tr style=\"text-align: right;\">\n",
       "      <th></th>\n",
       "      <th>date</th>\n",
       "      <th>ord_daily_a</th>\n",
       "      <th>revenue_per_date_a</th>\n",
       "      <th>ord_daily_b</th>\n",
       "      <th>revenue_per_date_b</th>\n",
       "      <th>ord_cum_a</th>\n",
       "      <th>revenue_cummulative_a</th>\n",
       "      <th>ord_cum_b</th>\n",
       "      <th>revenue_cummulative_b</th>\n",
       "      <th>vis_date_a</th>\n",
       "      <th>vis_date_b</th>\n",
       "      <th>vis_cum_a</th>\n",
       "      <th>vis_cum_b</th>\n",
       "    </tr>\n",
       "  </thead>\n",
       "  <tbody>\n",
       "    <tr>\n",
       "      <th>0</th>\n",
       "      <td>2019-08-01</td>\n",
       "      <td>23</td>\n",
       "      <td>142779</td>\n",
       "      <td>17</td>\n",
       "      <td>59758</td>\n",
       "      <td>23</td>\n",
       "      <td>142779</td>\n",
       "      <td>17</td>\n",
       "      <td>59758</td>\n",
       "      <td>719</td>\n",
       "      <td>713</td>\n",
       "      <td>719</td>\n",
       "      <td>713</td>\n",
       "    </tr>\n",
       "    <tr>\n",
       "      <th>1</th>\n",
       "      <td>2019-08-02</td>\n",
       "      <td>19</td>\n",
       "      <td>91602</td>\n",
       "      <td>23</td>\n",
       "      <td>162043</td>\n",
       "      <td>42</td>\n",
       "      <td>234381</td>\n",
       "      <td>40</td>\n",
       "      <td>221801</td>\n",
       "      <td>619</td>\n",
       "      <td>581</td>\n",
       "      <td>1338</td>\n",
       "      <td>1294</td>\n",
       "    </tr>\n",
       "    <tr>\n",
       "      <th>2</th>\n",
       "      <td>2019-08-03</td>\n",
       "      <td>24</td>\n",
       "      <td>112473</td>\n",
       "      <td>14</td>\n",
       "      <td>67049</td>\n",
       "      <td>66</td>\n",
       "      <td>346854</td>\n",
       "      <td>54</td>\n",
       "      <td>288850</td>\n",
       "      <td>507</td>\n",
       "      <td>509</td>\n",
       "      <td>1845</td>\n",
       "      <td>1803</td>\n",
       "    </tr>\n",
       "    <tr>\n",
       "      <th>3</th>\n",
       "      <td>2019-08-04</td>\n",
       "      <td>11</td>\n",
       "      <td>41176</td>\n",
       "      <td>14</td>\n",
       "      <td>96890</td>\n",
       "      <td>77</td>\n",
       "      <td>388030</td>\n",
       "      <td>68</td>\n",
       "      <td>385740</td>\n",
       "      <td>717</td>\n",
       "      <td>770</td>\n",
       "      <td>2562</td>\n",
       "      <td>2573</td>\n",
       "    </tr>\n",
       "    <tr>\n",
       "      <th>4</th>\n",
       "      <td>2019-08-05</td>\n",
       "      <td>22</td>\n",
       "      <td>86383</td>\n",
       "      <td>21</td>\n",
       "      <td>89908</td>\n",
       "      <td>99</td>\n",
       "      <td>474413</td>\n",
       "      <td>89</td>\n",
       "      <td>475648</td>\n",
       "      <td>756</td>\n",
       "      <td>707</td>\n",
       "      <td>3318</td>\n",
       "      <td>3280</td>\n",
       "    </tr>\n",
       "  </tbody>\n",
       "</table>\n",
       "</div>"
      ],
      "text/plain": [
       "        date  ord_daily_a  revenue_per_date_a  ord_daily_b  \\\n",
       "0 2019-08-01           23              142779           17   \n",
       "1 2019-08-02           19               91602           23   \n",
       "2 2019-08-03           24              112473           14   \n",
       "3 2019-08-04           11               41176           14   \n",
       "4 2019-08-05           22               86383           21   \n",
       "\n",
       "   revenue_per_date_b  ord_cum_a  revenue_cummulative_a  ord_cum_b  \\\n",
       "0               59758         23                 142779         17   \n",
       "1              162043         42                 234381         40   \n",
       "2               67049         66                 346854         54   \n",
       "3               96890         77                 388030         68   \n",
       "4               89908         99                 474413         89   \n",
       "\n",
       "   revenue_cummulative_b  vis_date_a  vis_date_b  vis_cum_a  vis_cum_b  \n",
       "0                  59758         719         713        719        713  \n",
       "1                 221801         619         581       1338       1294  \n",
       "2                 288850         507         509       1845       1803  \n",
       "3                 385740         717         770       2562       2573  \n",
       "4                 475648         756         707       3318       3280  "
      ]
     },
     "execution_count": 28,
     "metadata": {},
     "output_type": "execute_result"
    }
   ],
   "source": [
    "#количество пользователей в выбранную дату в группе A\n",
    "vis_daily_a = visitors[visitors['group'] == 'A'][['date', 'visitors']]\n",
    "vis_daily_a.columns = ['date', 'vis_date_a']\n",
    "\n",
    "#количество пользователей до выбранной даты включительно в группе A\n",
    "vis_cum_a = vis_daily_a.apply(lambda x: vis_daily_a[vis_daily_a['date'] <= x['date']].agg({'date': 'max', 'vis_date_a': 'sum'}),axis=1)\n",
    "vis_cum_a.columns = ['date', 'vis_cum_a']\n",
    "\n",
    "#количество пользователей в выбранную дату в группе B\n",
    "vis_daily_b = visitors[visitors['group'] == 'B'][['date', 'visitors']]\n",
    "vis_daily_b.columns = ['date', 'vis_date_b']\n",
    "\n",
    "#количество пользователей до выбранной даты включительно в группе B\n",
    "vis_cum_b = vis_daily_b.apply(lambda x: vis_daily_b[vis_daily_b['date'] <= x['date']].agg({'date': 'max', 'vis_date_b': 'sum'}),axis=1)\n",
    "vis_cum_b.columns = ['date', 'vis_cum_b']\n",
    "\n",
    "#суммарная выручка в выбранную дату в группе A\n",
    "ord_daily_a = (orders[orders['group'] == 'A'][['date', 'transaction_id', 'visitor_id', 'revenue']].groupby('date', as_index=False).agg({'transaction_id': pd.Series.nunique, 'revenue': 'sum'}))\n",
    "ord_daily_a.columns = ['date', 'ord_daily_a', 'revenue_per_date_a']\n",
    "\n",
    "#суммарное количество заказов до выбранной даты включительно в группе A\n",
    "ord_cum_a = ord_daily_a.apply(lambda x: ord_daily_a[ord_daily_a['date'] <= x['date']].agg({'date': 'max', 'ord_daily_a': 'sum', 'revenue_per_date_a': 'sum'}),axis=1,).sort_values(by=['date'])\n",
    "\n",
    "ord_cum_a.columns = ['date','ord_cum_a','revenue_cummulative_a']\n",
    "\n",
    "# количество заказов в выбранную дату в группе B\n",
    "ord_daily_b = (orders[orders['group'] == 'B'][['date', 'transaction_id', 'visitor_id', 'revenue']].groupby('date', as_index=False).agg({'transaction_id': pd.Series.nunique, 'revenue': 'sum'}))\n",
    "ord_daily_b.columns = ['date', 'ord_daily_b', 'revenue_per_date_b']\n",
    "\n",
    "#суммарное количество заказов до выбранной даты включительно в группе B\n",
    "ord_cum_b = ord_daily_b.apply(lambda x: ord_daily_b[ord_daily_b['date'] <= x['date']].agg({'date': 'max', 'ord_daily_b': 'sum', 'revenue_per_date_b': 'sum'}),axis=1,).sort_values(by=['date'])\n",
    "\n",
    "ord_cum_b.columns = ['date','ord_cum_b','revenue_cummulative_b']\n",
    "\n",
    "\n",
    "data = (\n",
    "    ord_daily_a.merge(\n",
    "        ord_daily_b, left_on='date', right_on='date', how='left'\n",
    "    )\n",
    "    .merge(ord_cum_a, left_on='date', right_on='date', how='left')\n",
    "    .merge(ord_cum_b, left_on='date', right_on='date', how='left')\n",
    "    .merge(vis_daily_a, left_on='date', right_on='date', how='left')\n",
    "    .merge(vis_daily_b, left_on='date', right_on='date', how='left')\n",
    "    .merge(vis_cum_a, left_on='date', right_on='date', how='left')\n",
    "    .merge(vis_cum_b, left_on='date', right_on='date', how='left')\n",
    ")\n",
    "\n",
    "data.head()"
   ]
  },
  {
   "cell_type": "code",
   "execution_count": 29,
   "metadata": {},
   "outputs": [],
   "source": [
    "#смотрим пользователей, которые совершили хотя бы 1 заказ\n",
    "orders_use_a = (orders[orders['group'] == 'A'].groupby('visitor_id', as_index=False).agg({'transaction_id': pd.Series.nunique}))\n",
    "orders_use_a.columns = ['visitor_id', 'orders']\n",
    "\n",
    "orders_use_b = (orders[orders['group'] == 'B'].groupby('visitor_id', as_index=False).agg({'transaction_id': pd.Series.nunique}))\n",
    "orders_use_b.columns = ['visitor_id', 'orders']"
   ]
  },
  {
   "cell_type": "code",
   "execution_count": 30,
   "metadata": {},
   "outputs": [],
   "source": [
    "#подготовим выборки к проверке методом Манна-Уитни. Создадим переменные sample_a и sample_b\n",
    "\n",
    "sample_a = pd.concat([orders_use_a['orders'], pd.Series(0, index=np.arange(data['vis_date_a'].sum() - len(orders_use_a['orders'])), name='orders')],axis=0)\n",
    "\n",
    "sample_b = pd.concat([orders_use_b['orders'],pd.Series(0, index=np.arange(data['vis_date_b'].sum() - len(orders_use_b['orders'])), name='orders')],axis=0)\n"
   ]
  },
  {
   "cell_type": "code",
   "execution_count": 31,
   "metadata": {},
   "outputs": [
    {
     "name": "stdout",
     "output_type": "stream",
     "text": [
      "P-value: 0.011\n",
      "Отвергаем нулевую гипотезу: разница статистически значима\n"
     ]
    }
   ],
   "source": [
    "alpha = 0.05\n",
    "p_value = stats.mannwhitneyu(sample_a, sample_b)[1]\n",
    "print(\"P-value: {0:.3f}\".format(p_value))\n",
    "\n",
    "if (p_value < alpha):\n",
    "    print('Отвергаем нулевую гипотезу: разница статистически значима')\n",
    "else:\n",
    "    print('Не получилось отвергнуть нулевую гипотезу, вывод о различии сделать нельзя')"
   ]
  },
  {
   "cell_type": "markdown",
   "metadata": {},
   "source": [
    "Также посмотрим прирост группы В относительно группы А"
   ]
  },
  {
   "cell_type": "code",
   "execution_count": 32,
   "metadata": {
    "scrolled": true
   },
   "outputs": [
    {
     "name": "stdout",
     "output_type": "stream",
     "text": [
      "Разница в приросте группы В к группе А равен: 15.980%\n"
     ]
    }
   ],
   "source": [
    "print(\"Разница в приросте группы В к группе А равен: {0:.3%}\".format(sample_b.mean() / sample_a.mean()-1))"
   ]
  },
  {
   "cell_type": "markdown",
   "metadata": {},
   "source": [
    "По \"сырым\" данным различия в конверсии между группами есть.\n",
    "\n",
    "P-value = 0.011, что меньше 0.05. \n",
    "\n",
    "\n",
    "Соответсвенно, нулевую гипотезу о том, что статистически значимых различий в конверсии нет, между группами, смело отвергаем. \n",
    "\n",
    "Разница в приросте группы В к группе А равна 16%"
   ]
  },
  {
   "cell_type": "markdown",
   "metadata": {},
   "source": [
    "#### Посчитаем статистическую значимость различий в среднем чеке заказа между группами по «сырым» данным."
   ]
  },
  {
   "cell_type": "markdown",
   "metadata": {},
   "source": [
    "Посчитаем статистическую значимость различий в среднем чеке между группами по «сырым» данным, т.е. без удаления аномальных пользователей.\n",
    "\n",
    "\n",
    "Введем основную и альтернативные гипотезы:\n",
    "\n",
    "* **H0**: различий в среднем чеке между группами нет\n",
    "\n",
    "* **H1**: различий в среднем чеке между группами есть\n",
    "\n",
    "Уровень значимости поставим **0.05**"
   ]
  },
  {
   "cell_type": "code",
   "execution_count": 33,
   "metadata": {
    "scrolled": true
   },
   "outputs": [
    {
     "name": "stdout",
     "output_type": "stream",
     "text": [
      "P-value: 0.829\n",
      "Не получилось отвергнуть нулевую гипотезу, вывод о различии сделать нельзя\n"
     ]
    }
   ],
   "source": [
    "alpha = 0.05\n",
    "p_value = stats.mannwhitneyu(orders[orders['group']=='A']['revenue'],orders[orders['group']=='B']['revenue'])[1]\n",
    "print(\"P-value: {0:.3f}\".format(p_value))\n",
    "\n",
    "if (p_value < alpha):\n",
    "    print('Отвергаем нулевую гипотезу: разница статистически значима')\n",
    "else:\n",
    "    print('Не получилось отвергнуть нулевую гипотезу, вывод о различии сделать нельзя')"
   ]
  },
  {
   "cell_type": "markdown",
   "metadata": {},
   "source": [
    "Также посмотрим прирост группы В относительно группы А"
   ]
  },
  {
   "cell_type": "code",
   "execution_count": 34,
   "metadata": {},
   "outputs": [
    {
     "name": "stdout",
     "output_type": "stream",
     "text": [
      "Разница в приросте группы В к группе А равен: 28.660%\n"
     ]
    }
   ],
   "source": [
    "print(\"Разница в приросте группы В к группе А равен: {0:.3%}\".format(orders[orders['group']=='B']['revenue'].mean() / orders[orders['group']=='A']['revenue'].mean()-1))"
   ]
  },
  {
   "cell_type": "markdown",
   "metadata": {},
   "source": [
    "P-value намного выше обозначенного порога в 0.05. Следовательно, отвергать нулевую гипотезу и полагать, что в среднем чеке есть различия, мы не можем. Одновременно с этим, мы видим, что средний чек группы B выше среднего чека группы A практически на 29%"
   ]
  },
  {
   "cell_type": "markdown",
   "metadata": {},
   "source": [
    "#### Посчитаем статистическую значимость различий в среднем количестве заказов на посетителя между группами по «очищенным» данным. "
   ]
  },
  {
   "cell_type": "markdown",
   "metadata": {},
   "source": [
    "Ранее мы условились, что за аномальных пользователей будем принимать тех, кто совершил более 1 заказа или совершил заказ дороже 27000 рублей.\n",
    "\n",
    "Составим список таких пользователей"
   ]
  },
  {
   "cell_type": "code",
   "execution_count": 35,
   "metadata": {},
   "outputs": [
    {
     "name": "stdout",
     "output_type": "stream",
     "text": [
      "Всего аномальных пользователей: 86\n",
      "0    249864742\n",
      "1    366673373\n",
      "2    406208401\n",
      "3    522292794\n",
      "4    611059232\n",
      "Name: visitors_id, dtype: int64\n"
     ]
    }
   ],
   "source": [
    "# пользователи с 2 и более заказами\n",
    "\n",
    "big_orders = orders.groupby('visitor_id')['transaction_id'].count().reset_index()\n",
    "big_orders = big_orders[big_orders['transaction_id'] > 1]['visitor_id']\n",
    "\n",
    "# пользователи с дорогими заказами\n",
    "\n",
    "expensive_orders = orders[orders['revenue'] > 27000]['visitor_id'].reset_index(drop=True)\n",
    "\n",
    "#склеиваем в общую таблицу\n",
    "abnormal_users = pd.Series((list(big_orders) + list(expensive_orders)), name='visitors_id').drop_duplicates()\n",
    "print('Всего аномальных пользователей:', len(abnormal_users))\n",
    "print(abnormal_users.head())"
   ]
  },
  {
   "cell_type": "markdown",
   "metadata": {},
   "source": [
    "На выходе получили 86 пользователей. Посмотрим, как они влияли на иследования конверсии. Создадим отфильтрованные переменных sample_a и sample_b"
   ]
  },
  {
   "cell_type": "code",
   "execution_count": 36,
   "metadata": {},
   "outputs": [],
   "source": [
    "sample_a_filt = pd.concat([orders_use_a[np.logical_not(orders_use_a['visitor_id'].isin(abnormal_users))\n",
    "        ]['orders'],\n",
    "        pd.Series(\n",
    "            0,\n",
    "            index=np.arange(\n",
    "                data['vis_date_a'].sum() - len(orders_use_a['orders'])\n",
    "            ), name='orders')], axis=0)\n",
    "\n",
    "sample_b_filt = pd.concat([orders_use_b[np.logical_not(orders_use_b['visitor_id'].isin(abnormal_users))\n",
    "        ]['orders'],\n",
    "        pd.Series(\n",
    "            0,\n",
    "            index=np.arange(\n",
    "                data['vis_date_b'].sum() - len(orders_use_b['orders'])\n",
    "            ), name='orders')], axis=0)"
   ]
  },
  {
   "cell_type": "code",
   "execution_count": 37,
   "metadata": {},
   "outputs": [
    {
     "name": "stdout",
     "output_type": "stream",
     "text": [
      "P-value: 0.016\n",
      "Отвергаем нулевую гипотезу: разница статистически значима\n"
     ]
    }
   ],
   "source": [
    "alpha = 0.05\n",
    "p_value = stats.mannwhitneyu(sample_a_filt, sample_b_filt)[1]\n",
    "print(\"P-value: {0:.3f}\".format(p_value))\n",
    "\n",
    "if (p_value < alpha):\n",
    "    print('Отвергаем нулевую гипотезу: разница статистически значима')\n",
    "else:\n",
    "    print('Не получилось отвергнуть нулевую гипотезу, вывод о различии сделать нельзя')"
   ]
  },
  {
   "cell_type": "code",
   "execution_count": 38,
   "metadata": {},
   "outputs": [
    {
     "name": "stdout",
     "output_type": "stream",
     "text": [
      "Разница в приросте группы В к группе А равен: 17.393%\n"
     ]
    }
   ],
   "source": [
    "print(\"Разница в приросте группы В к группе А равен: {0:.3%}\".format(sample_b_filt.mean() / sample_a_filt.mean()-1))"
   ]
  },
  {
   "cell_type": "markdown",
   "metadata": {},
   "source": [
    "На чистых данных разница в конверсии присутствует между группами. \n",
    "\n",
    "\n",
    "Относительный прирост конверсии группы В отнистельно А увеличился на 17.4%."
   ]
  },
  {
   "cell_type": "markdown",
   "metadata": {},
   "source": [
    "#### Посчитаем статистическую значимость различий в среднем чеке заказа между группами по «очищенным» данным. "
   ]
  },
  {
   "cell_type": "code",
   "execution_count": 39,
   "metadata": {},
   "outputs": [
    {
     "name": "stdout",
     "output_type": "stream",
     "text": [
      "P-value: 0.727\n",
      "Не получилось отвергнуть нулевую гипотезу, вывод о различии сделать нельзя\n"
     ]
    }
   ],
   "source": [
    "alpha = 0.05\n",
    "p_value = st.mannwhitneyu(orders.query('group == \"A\" and not visitor_id in @abnormal_users')['revenue'], \n",
    "                                      orders.query('group == \"B\" and not visitor_id in @abnormal_users')['revenue'])[1]\n",
    "\n",
    "print(\"P-value: {0:.3f}\".format(p_value))\n",
    "\n",
    "if (p_value < alpha):\n",
    "    print('Отвергаем нулевую гипотезу: разница статистически значима')\n",
    "else:\n",
    "    print('Не получилось отвергнуть нулевую гипотезу, вывод о различии сделать нельзя')\n"
   ]
  },
  {
   "cell_type": "code",
   "execution_count": 40,
   "metadata": {},
   "outputs": [
    {
     "name": "stdout",
     "output_type": "stream",
     "text": [
      "Разница в приросте группы В к группе А равен: -3.373%\n"
     ]
    }
   ],
   "source": [
    "print(\"Разница в приросте группы В к группе А равен: {0:.3%}\".format(orders.query('group == \"B\" and not visitor_id in @abnormal_users')['revenue'].mean() / \n",
    "                       orders.query('group == \"A\" and not visitor_id in @abnormal_users')['revenue'].mean() - 1))"
   ]
  },
  {
   "cell_type": "markdown",
   "metadata": {},
   "source": [
    "P-value больше 0.05. Значит, причин отвергать нулевую гипотезу и полагать, что в среднем чеке есть различия, нет. \n",
    "\n",
    "\n",
    "Разница средних чеков между группами отрицательная, так что, можно сказать, различий практически нет."
   ]
  },
  {
   "cell_type": "markdown",
   "metadata": {},
   "source": [
    "## Вывод"
   ]
  },
  {
   "cell_type": "markdown",
   "metadata": {},
   "source": [
    "На основании данных, предоставленных интернет-магазином и проделанных иссследований, рекомендации следующие:\n",
    "\n",
    "**В плане приоритизации гипотез, из предоставленного списка, в первую очередь стоит обратить внимание на гипотезы:**\n",
    "\n",
    "1) \"Запустить акцию, дающую скидку на товар в день рождения\"\n",
    "\n",
    "\n",
    "2) \"Добавить два новых канала привлечения трафика, что позволит привлекать на 30% больше пользователей\"\n",
    "\n",
    "\n",
    "3) Добавить форму подписки на все основные страницы, чтобы собрать базу клиентов для email-рассылок\"\n",
    "\n",
    "\n",
    "Если не учитывать охват пользователей, то данные гипотезы выглядят наиболее перспективными.\n",
    "\n",
    "\n",
    "**Если учитывать**\n",
    "\n",
    "1) \"Добавить форму подписки на все основные страницы, чтобы собрать базу клиентов для email-рассылок\"\n",
    "\n",
    "\n",
    "2) \"Добавить блоки рекомендаций товаров на сайт интернет магазина, чтобы повысить конверсию и средний чек заказа\"\n",
    "\n",
    "\n",
    "3) \"Добавить два новых канала привлечения трафика, что позволит привлекать на 30% больше пользователей\"\n",
    "\n",
    "\n",
    "**А также**\n",
    "\n",
    "\n",
    "* Есть статистически значимое различие конверсии между группами как по сырым данным, так и по отфильтрованным от аномалий.\n",
    "\n",
    "* График различия конверсии между группами показывает, что группа B конвертируется результативнее группы A.\n",
    "\n",
    "\n",
    "* Статистически значимого различия по среднему чеку между группами нет. Ни по «сырым», ни по данным после фильтрации аномалий.\n",
    "\n",
    "\n",
    "* График различия среднего чека после фильтрации постепенно стабилизировался около 0 - значимых различий между средними чеками в разных группах нет.\n",
    "\n",
    "\n",
    "На основании написанного выше, я бы рекомендовал остановить тест, отдав победу группе В. Ее конверсия выше, чем у группы А"
   ]
  },
  {
   "cell_type": "code",
   "execution_count": null,
   "metadata": {},
   "outputs": [],
   "source": []
  }
 ],
 "metadata": {
  "ExecuteTimeLog": [
   {
    "duration": 1367,
    "start_time": "2023-05-18T11:37:13.879Z"
   },
   {
    "duration": 200,
    "start_time": "2023-05-18T11:37:49.585Z"
   },
   {
    "duration": 21,
    "start_time": "2023-05-18T11:37:59.209Z"
   },
   {
    "duration": 16,
    "start_time": "2023-05-18T11:38:51.796Z"
   },
   {
    "duration": 16,
    "start_time": "2023-05-18T11:39:08.038Z"
   },
   {
    "duration": 21,
    "start_time": "2023-05-18T11:39:32.407Z"
   },
   {
    "duration": 18,
    "start_time": "2023-05-18T11:39:46.046Z"
   },
   {
    "duration": 7,
    "start_time": "2023-05-18T11:50:09.437Z"
   },
   {
    "duration": 6,
    "start_time": "2023-05-18T11:50:09.877Z"
   },
   {
    "duration": 9,
    "start_time": "2023-05-18T11:50:19.692Z"
   },
   {
    "duration": 12,
    "start_time": "2023-05-18T11:57:07.533Z"
   },
   {
    "duration": 282,
    "start_time": "2023-05-18T12:04:18.933Z"
   },
   {
    "duration": 277,
    "start_time": "2023-05-18T12:04:29.357Z"
   },
   {
    "duration": 289,
    "start_time": "2023-05-18T12:05:06.953Z"
   },
   {
    "duration": 278,
    "start_time": "2023-05-18T12:05:48.297Z"
   },
   {
    "duration": 292,
    "start_time": "2023-05-18T12:06:46.433Z"
   },
   {
    "duration": 265,
    "start_time": "2023-05-18T12:06:53.883Z"
   },
   {
    "duration": 218,
    "start_time": "2023-05-18T12:07:06.884Z"
   },
   {
    "duration": 120,
    "start_time": "2023-05-18T12:07:16.484Z"
   },
   {
    "duration": 366,
    "start_time": "2023-05-18T12:07:23.187Z"
   },
   {
    "duration": 270,
    "start_time": "2023-05-18T12:15:04.886Z"
   },
   {
    "duration": 299,
    "start_time": "2023-05-18T12:17:09.988Z"
   },
   {
    "duration": 287,
    "start_time": "2023-05-18T12:17:22.155Z"
   },
   {
    "duration": 275,
    "start_time": "2023-05-18T12:18:07.637Z"
   },
   {
    "duration": 12,
    "start_time": "2023-05-18T12:24:36.661Z"
   },
   {
    "duration": 16,
    "start_time": "2023-05-18T12:24:58.890Z"
   },
   {
    "duration": 298,
    "start_time": "2023-05-18T12:25:21.889Z"
   },
   {
    "duration": 377,
    "start_time": "2023-05-18T12:27:59.374Z"
   },
   {
    "duration": 1212,
    "start_time": "2023-05-18T12:44:19.173Z"
   },
   {
    "duration": 82,
    "start_time": "2023-05-18T12:44:20.387Z"
   },
   {
    "duration": 21,
    "start_time": "2023-05-18T12:44:20.471Z"
   },
   {
    "duration": 46,
    "start_time": "2023-05-18T12:44:20.494Z"
   },
   {
    "duration": 30,
    "start_time": "2023-05-18T12:44:20.542Z"
   },
   {
    "duration": 8,
    "start_time": "2023-05-18T12:44:20.573Z"
   },
   {
    "duration": 20,
    "start_time": "2023-05-18T12:44:20.582Z"
   },
   {
    "duration": 32,
    "start_time": "2023-05-18T12:44:20.604Z"
   },
   {
    "duration": 16,
    "start_time": "2023-05-18T12:44:20.638Z"
   },
   {
    "duration": 310,
    "start_time": "2023-05-18T12:44:20.655Z"
   },
   {
    "duration": 13,
    "start_time": "2023-05-18T12:44:20.966Z"
   },
   {
    "duration": 303,
    "start_time": "2023-05-18T12:44:20.980Z"
   },
   {
    "duration": 190,
    "start_time": "2023-05-18T13:16:37.069Z"
   },
   {
    "duration": 105,
    "start_time": "2023-05-18T13:18:44.390Z"
   },
   {
    "duration": 136,
    "start_time": "2023-05-18T13:18:57.901Z"
   },
   {
    "duration": 8,
    "start_time": "2023-05-18T13:32:49.800Z"
   },
   {
    "duration": 13,
    "start_time": "2023-05-18T13:33:15.767Z"
   },
   {
    "duration": 12,
    "start_time": "2023-05-18T13:33:59.361Z"
   },
   {
    "duration": 13,
    "start_time": "2023-05-18T13:34:43.617Z"
   },
   {
    "duration": 14,
    "start_time": "2023-05-18T13:35:17.957Z"
   },
   {
    "duration": 14,
    "start_time": "2023-05-18T13:35:42.493Z"
   },
   {
    "duration": 10,
    "start_time": "2023-05-18T13:37:38.585Z"
   },
   {
    "duration": 9,
    "start_time": "2023-05-18T13:41:59.353Z"
   },
   {
    "duration": 10,
    "start_time": "2023-05-18T13:43:58.496Z"
   },
   {
    "duration": 182,
    "start_time": "2023-05-18T13:44:01.546Z"
   },
   {
    "duration": 11,
    "start_time": "2023-05-18T13:45:01.649Z"
   },
   {
    "duration": 193,
    "start_time": "2023-05-18T13:45:55.558Z"
   },
   {
    "duration": 7,
    "start_time": "2023-05-18T14:50:20.808Z"
   },
   {
    "duration": 15,
    "start_time": "2023-05-18T14:51:40.478Z"
   },
   {
    "duration": 287,
    "start_time": "2023-05-18T15:40:45.575Z"
   },
   {
    "duration": 212,
    "start_time": "2023-05-18T15:41:08.199Z"
   },
   {
    "duration": 203,
    "start_time": "2023-05-18T15:41:15.698Z"
   },
   {
    "duration": 213,
    "start_time": "2023-05-18T15:41:56.609Z"
   },
   {
    "duration": 289,
    "start_time": "2023-05-18T15:42:21.852Z"
   },
   {
    "duration": 195,
    "start_time": "2023-05-18T15:45:19.622Z"
   },
   {
    "duration": 284,
    "start_time": "2023-05-18T15:46:05.387Z"
   },
   {
    "duration": 296,
    "start_time": "2023-05-18T15:46:26.203Z"
   },
   {
    "duration": 274,
    "start_time": "2023-05-18T15:47:03.519Z"
   },
   {
    "duration": 301,
    "start_time": "2023-05-18T15:47:37.147Z"
   },
   {
    "duration": 304,
    "start_time": "2023-05-18T15:47:47.847Z"
   },
   {
    "duration": 12,
    "start_time": "2023-05-18T16:24:19.618Z"
   },
   {
    "duration": 293,
    "start_time": "2023-05-18T16:24:56.086Z"
   },
   {
    "duration": 363,
    "start_time": "2023-05-18T16:25:12.350Z"
   },
   {
    "duration": 286,
    "start_time": "2023-05-18T16:25:20.449Z"
   },
   {
    "duration": 261,
    "start_time": "2023-05-18T16:25:34.717Z"
   },
   {
    "duration": 368,
    "start_time": "2023-05-18T16:27:25.708Z"
   },
   {
    "duration": 23,
    "start_time": "2023-05-18T16:37:40.205Z"
   },
   {
    "duration": 1203,
    "start_time": "2023-05-18T16:41:06.045Z"
   },
   {
    "duration": 74,
    "start_time": "2023-05-18T16:43:20.782Z"
   },
   {
    "duration": 400,
    "start_time": "2023-05-18T16:44:57.132Z"
   },
   {
    "duration": 357,
    "start_time": "2023-05-18T16:47:03.760Z"
   },
   {
    "duration": 369,
    "start_time": "2023-05-18T16:48:06.857Z"
   },
   {
    "duration": 290,
    "start_time": "2023-05-18T17:09:21.618Z"
   },
   {
    "duration": 277,
    "start_time": "2023-05-18T17:09:49.408Z"
   },
   {
    "duration": 15,
    "start_time": "2023-05-18T17:20:08.582Z"
   },
   {
    "duration": 389,
    "start_time": "2023-05-18T17:20:22.548Z"
   },
   {
    "duration": 322,
    "start_time": "2023-05-18T17:21:25.789Z"
   },
   {
    "duration": 407,
    "start_time": "2023-05-18T17:22:02.218Z"
   },
   {
    "duration": 378,
    "start_time": "2023-05-18T17:22:13.419Z"
   },
   {
    "duration": 189,
    "start_time": "2023-05-18T17:38:49.444Z"
   },
   {
    "duration": 178,
    "start_time": "2023-05-18T17:38:59.289Z"
   },
   {
    "duration": 272,
    "start_time": "2023-05-18T17:40:19.356Z"
   },
   {
    "duration": 368,
    "start_time": "2023-05-18T17:41:29.389Z"
   },
   {
    "duration": 13,
    "start_time": "2023-05-18T17:42:55.693Z"
   },
   {
    "duration": 199,
    "start_time": "2023-05-18T17:43:07.021Z"
   },
   {
    "duration": 1211,
    "start_time": "2023-05-18T17:44:20.857Z"
   },
   {
    "duration": 81,
    "start_time": "2023-05-18T17:44:22.070Z"
   },
   {
    "duration": 21,
    "start_time": "2023-05-18T17:44:22.153Z"
   },
   {
    "duration": 22,
    "start_time": "2023-05-18T17:44:22.176Z"
   },
   {
    "duration": 33,
    "start_time": "2023-05-18T17:44:22.200Z"
   },
   {
    "duration": 15,
    "start_time": "2023-05-18T17:44:22.235Z"
   },
   {
    "duration": 23,
    "start_time": "2023-05-18T17:44:22.252Z"
   },
   {
    "duration": 29,
    "start_time": "2023-05-18T17:44:22.277Z"
   },
   {
    "duration": 27,
    "start_time": "2023-05-18T17:44:22.310Z"
   },
   {
    "duration": 340,
    "start_time": "2023-05-18T17:44:22.339Z"
   },
   {
    "duration": 12,
    "start_time": "2023-05-18T17:44:22.681Z"
   },
   {
    "duration": 298,
    "start_time": "2023-05-18T17:44:22.695Z"
   },
   {
    "duration": 11,
    "start_time": "2023-05-18T17:44:22.996Z"
   },
   {
    "duration": 13,
    "start_time": "2023-05-18T17:44:23.009Z"
   },
   {
    "duration": 216,
    "start_time": "2023-05-18T17:44:23.025Z"
   },
   {
    "duration": 157,
    "start_time": "2023-05-18T17:44:23.246Z"
   },
   {
    "duration": 18,
    "start_time": "2023-05-18T17:44:23.405Z"
   },
   {
    "duration": 282,
    "start_time": "2023-05-18T17:44:23.424Z"
   },
   {
    "duration": 202,
    "start_time": "2023-05-18T17:44:23.708Z"
   },
   {
    "duration": 317,
    "start_time": "2023-05-18T17:44:23.911Z"
   },
   {
    "duration": 218,
    "start_time": "2023-05-18T17:44:24.230Z"
   },
   {
    "duration": 285,
    "start_time": "2023-05-18T17:44:24.450Z"
   },
   {
    "duration": 243,
    "start_time": "2023-05-18T17:44:24.737Z"
   },
   {
    "duration": 236,
    "start_time": "2023-05-18T17:47:27.327Z"
   },
   {
    "duration": 17,
    "start_time": "2023-05-18T17:48:19.425Z"
   },
   {
    "duration": 149,
    "start_time": "2023-05-18T17:48:36.756Z"
   },
   {
    "duration": 19,
    "start_time": "2023-05-18T17:52:09.909Z"
   },
   {
    "duration": 145,
    "start_time": "2023-05-18T17:52:25.801Z"
   },
   {
    "duration": 137,
    "start_time": "2023-05-18T17:55:57.245Z"
   },
   {
    "duration": 5,
    "start_time": "2023-05-18T17:57:15.570Z"
   },
   {
    "duration": 1194,
    "start_time": "2023-05-18T17:58:23.631Z"
   },
   {
    "duration": 82,
    "start_time": "2023-05-18T17:58:24.827Z"
   },
   {
    "duration": 20,
    "start_time": "2023-05-18T17:58:24.911Z"
   },
   {
    "duration": 34,
    "start_time": "2023-05-18T17:58:24.933Z"
   },
   {
    "duration": 23,
    "start_time": "2023-05-18T17:58:24.969Z"
   },
   {
    "duration": 33,
    "start_time": "2023-05-18T17:58:24.994Z"
   },
   {
    "duration": 32,
    "start_time": "2023-05-18T17:58:25.029Z"
   },
   {
    "duration": 38,
    "start_time": "2023-05-18T17:58:25.063Z"
   },
   {
    "duration": 11,
    "start_time": "2023-05-18T17:58:25.103Z"
   },
   {
    "duration": 297,
    "start_time": "2023-05-18T17:58:25.115Z"
   },
   {
    "duration": 11,
    "start_time": "2023-05-18T17:58:25.414Z"
   },
   {
    "duration": 289,
    "start_time": "2023-05-18T17:58:25.427Z"
   },
   {
    "duration": 11,
    "start_time": "2023-05-18T17:58:25.718Z"
   },
   {
    "duration": 29,
    "start_time": "2023-05-18T17:58:25.732Z"
   },
   {
    "duration": 184,
    "start_time": "2023-05-18T17:58:25.762Z"
   },
   {
    "duration": 137,
    "start_time": "2023-05-18T17:58:25.948Z"
   },
   {
    "duration": 15,
    "start_time": "2023-05-18T17:58:26.086Z"
   },
   {
    "duration": 276,
    "start_time": "2023-05-18T17:58:26.103Z"
   },
   {
    "duration": 212,
    "start_time": "2023-05-18T17:58:26.382Z"
   },
   {
    "duration": 282,
    "start_time": "2023-05-18T17:58:26.596Z"
   },
   {
    "duration": 208,
    "start_time": "2023-05-18T17:58:26.881Z"
   },
   {
    "duration": 283,
    "start_time": "2023-05-18T17:58:27.091Z"
   },
   {
    "duration": 226,
    "start_time": "2023-05-18T17:58:27.376Z"
   },
   {
    "duration": 5,
    "start_time": "2023-05-18T17:58:27.605Z"
   },
   {
    "duration": 137,
    "start_time": "2023-05-18T18:10:13.709Z"
   },
   {
    "duration": 129,
    "start_time": "2023-05-18T18:10:24.993Z"
   },
   {
    "duration": 114,
    "start_time": "2023-05-18T18:13:15.454Z"
   },
   {
    "duration": 81,
    "start_time": "2023-05-18T18:14:44.763Z"
   },
   {
    "duration": 129,
    "start_time": "2023-05-18T18:16:50.689Z"
   },
   {
    "duration": 129,
    "start_time": "2023-05-18T18:18:19.721Z"
   },
   {
    "duration": 132,
    "start_time": "2023-05-18T18:18:51.595Z"
   },
   {
    "duration": 4,
    "start_time": "2023-05-18T18:21:51.440Z"
   },
   {
    "duration": 5,
    "start_time": "2023-05-18T18:21:54.891Z"
   },
   {
    "duration": 58,
    "start_time": "2023-05-19T10:52:57.229Z"
   },
   {
    "duration": 1282,
    "start_time": "2023-05-19T10:53:21.749Z"
   },
   {
    "duration": 179,
    "start_time": "2023-05-19T10:53:23.034Z"
   },
   {
    "duration": 30,
    "start_time": "2023-05-19T10:53:23.215Z"
   },
   {
    "duration": 19,
    "start_time": "2023-05-19T10:53:23.246Z"
   },
   {
    "duration": 17,
    "start_time": "2023-05-19T10:53:23.267Z"
   },
   {
    "duration": 23,
    "start_time": "2023-05-19T10:53:23.286Z"
   },
   {
    "duration": 22,
    "start_time": "2023-05-19T10:53:23.310Z"
   },
   {
    "duration": 14,
    "start_time": "2023-05-19T10:53:23.334Z"
   },
   {
    "duration": 11,
    "start_time": "2023-05-19T10:53:23.350Z"
   },
   {
    "duration": 300,
    "start_time": "2023-05-19T10:53:23.363Z"
   },
   {
    "duration": 13,
    "start_time": "2023-05-19T10:53:23.665Z"
   },
   {
    "duration": 291,
    "start_time": "2023-05-19T10:53:23.679Z"
   },
   {
    "duration": 10,
    "start_time": "2023-05-19T10:53:23.972Z"
   },
   {
    "duration": 9,
    "start_time": "2023-05-19T10:53:23.985Z"
   },
   {
    "duration": 197,
    "start_time": "2023-05-19T10:53:23.996Z"
   },
   {
    "duration": 135,
    "start_time": "2023-05-19T10:53:24.195Z"
   },
   {
    "duration": 16,
    "start_time": "2023-05-19T10:53:24.332Z"
   },
   {
    "duration": 300,
    "start_time": "2023-05-19T10:53:24.350Z"
   },
   {
    "duration": 198,
    "start_time": "2023-05-19T10:53:24.652Z"
   },
   {
    "duration": 310,
    "start_time": "2023-05-19T10:53:24.852Z"
   },
   {
    "duration": 190,
    "start_time": "2023-05-19T10:53:25.163Z"
   },
   {
    "duration": 243,
    "start_time": "2023-05-19T10:53:25.354Z"
   },
   {
    "duration": 206,
    "start_time": "2023-05-19T10:53:25.599Z"
   },
   {
    "duration": 5,
    "start_time": "2023-05-19T10:53:25.806Z"
   },
   {
    "duration": 117,
    "start_time": "2023-05-19T10:53:25.825Z"
   },
   {
    "duration": 128,
    "start_time": "2023-05-19T10:53:25.943Z"
   },
   {
    "duration": 5,
    "start_time": "2023-05-19T10:53:26.073Z"
   },
   {
    "duration": 234,
    "start_time": "2023-05-19T10:53:26.080Z"
   },
   {
    "duration": 120,
    "start_time": "2023-05-19T10:54:59.363Z"
   },
   {
    "duration": 174,
    "start_time": "2023-05-19T10:55:42.070Z"
   },
   {
    "duration": 200,
    "start_time": "2023-05-19T10:56:13.266Z"
   },
   {
    "duration": 208,
    "start_time": "2023-05-19T10:56:30.910Z"
   },
   {
    "duration": 201,
    "start_time": "2023-05-19T10:57:04.177Z"
   },
   {
    "duration": 201,
    "start_time": "2023-05-19T11:09:38.972Z"
   },
   {
    "duration": 208,
    "start_time": "2023-05-19T11:12:38.694Z"
   },
   {
    "duration": 257,
    "start_time": "2023-05-19T11:12:44.780Z"
   },
   {
    "duration": 216,
    "start_time": "2023-05-19T11:13:06.167Z"
   },
   {
    "duration": 204,
    "start_time": "2023-05-19T11:13:27.842Z"
   },
   {
    "duration": 202,
    "start_time": "2023-05-19T11:13:53.246Z"
   },
   {
    "duration": 199,
    "start_time": "2023-05-19T11:14:03.263Z"
   },
   {
    "duration": 65,
    "start_time": "2023-05-19T11:22:35.300Z"
   },
   {
    "duration": 120,
    "start_time": "2023-05-19T11:22:53.345Z"
   },
   {
    "duration": 11,
    "start_time": "2023-05-19T11:26:43.145Z"
   },
   {
    "duration": 1976,
    "start_time": "2023-05-19T11:27:11.912Z"
   },
   {
    "duration": 7,
    "start_time": "2023-05-19T11:29:14.608Z"
   },
   {
    "duration": 82,
    "start_time": "2023-05-19T11:30:45.824Z"
   },
   {
    "duration": 80,
    "start_time": "2023-05-19T11:31:26.487Z"
   },
   {
    "duration": 74,
    "start_time": "2023-05-19T11:31:37.478Z"
   },
   {
    "duration": 34,
    "start_time": "2023-05-19T11:32:40.566Z"
   },
   {
    "duration": 96,
    "start_time": "2023-05-19T11:35:19.691Z"
   },
   {
    "duration": 86,
    "start_time": "2023-05-19T11:36:08.842Z"
   },
   {
    "duration": 87,
    "start_time": "2023-05-19T11:37:24.439Z"
   },
   {
    "duration": 30,
    "start_time": "2023-05-19T11:37:30.370Z"
   },
   {
    "duration": 37,
    "start_time": "2023-05-19T11:37:53.202Z"
   },
   {
    "duration": 75,
    "start_time": "2023-05-19T11:42:50.369Z"
   },
   {
    "duration": 22,
    "start_time": "2023-05-19T11:42:59.704Z"
   },
   {
    "duration": 21,
    "start_time": "2023-05-19T11:43:35.851Z"
   },
   {
    "duration": 12,
    "start_time": "2023-05-19T11:45:50.855Z"
   },
   {
    "duration": 3,
    "start_time": "2023-05-19T11:46:16.847Z"
   },
   {
    "duration": 13,
    "start_time": "2023-05-19T12:09:34.555Z"
   },
   {
    "duration": 9,
    "start_time": "2023-05-19T12:12:36.033Z"
   },
   {
    "duration": 6,
    "start_time": "2023-05-19T12:14:16.609Z"
   },
   {
    "duration": 13,
    "start_time": "2023-05-19T12:28:18.373Z"
   },
   {
    "duration": 81,
    "start_time": "2023-05-19T12:30:16.642Z"
   },
   {
    "duration": 109,
    "start_time": "2023-05-19T12:30:29.319Z"
   },
   {
    "duration": 104,
    "start_time": "2023-05-19T12:30:40.260Z"
   },
   {
    "duration": 95,
    "start_time": "2023-05-19T12:31:05.172Z"
   },
   {
    "duration": 9,
    "start_time": "2023-05-19T12:31:16.861Z"
   },
   {
    "duration": 14,
    "start_time": "2023-05-19T12:31:24.795Z"
   },
   {
    "duration": 12,
    "start_time": "2023-05-19T12:31:46.550Z"
   },
   {
    "duration": 12,
    "start_time": "2023-05-19T12:31:53.969Z"
   },
   {
    "duration": 11,
    "start_time": "2023-05-19T12:36:13.057Z"
   },
   {
    "duration": 1119,
    "start_time": "2023-05-19T12:37:49.917Z"
   },
   {
    "duration": 19,
    "start_time": "2023-05-19T12:43:26.153Z"
   },
   {
    "duration": 11,
    "start_time": "2023-05-19T12:44:44.413Z"
   },
   {
    "duration": 82,
    "start_time": "2023-05-19T12:47:12.292Z"
   },
   {
    "duration": 137,
    "start_time": "2023-05-19T12:47:21.164Z"
   },
   {
    "duration": 79,
    "start_time": "2023-05-19T12:47:38.978Z"
   },
   {
    "duration": 141,
    "start_time": "2023-05-19T12:47:45.384Z"
   },
   {
    "duration": 10,
    "start_time": "2023-05-19T12:47:59.355Z"
   },
   {
    "duration": 9,
    "start_time": "2023-05-19T12:49:19.100Z"
   },
   {
    "duration": 7,
    "start_time": "2023-05-19T12:49:32.884Z"
   },
   {
    "duration": 22,
    "start_time": "2023-05-19T12:49:34.713Z"
   },
   {
    "duration": 23,
    "start_time": "2023-05-19T12:50:56.617Z"
   },
   {
    "duration": 5,
    "start_time": "2023-05-19T13:04:23.070Z"
   },
   {
    "duration": 5,
    "start_time": "2023-05-19T13:31:53.938Z"
   },
   {
    "duration": 8,
    "start_time": "2023-05-19T13:32:16.155Z"
   },
   {
    "duration": 15,
    "start_time": "2023-05-19T13:35:46.002Z"
   },
   {
    "duration": 20,
    "start_time": "2023-05-19T13:37:23.084Z"
   },
   {
    "duration": 14,
    "start_time": "2023-05-19T13:38:24.470Z"
   },
   {
    "duration": 26,
    "start_time": "2023-05-19T13:38:54.428Z"
   },
   {
    "duration": 10,
    "start_time": "2023-05-19T13:39:56.040Z"
   },
   {
    "duration": 6,
    "start_time": "2023-05-19T13:41:14.534Z"
   },
   {
    "duration": 25,
    "start_time": "2023-05-19T13:41:30.196Z"
   },
   {
    "duration": 1254,
    "start_time": "2023-05-19T14:25:03.476Z"
   },
   {
    "duration": 76,
    "start_time": "2023-05-19T14:25:04.735Z"
   },
   {
    "duration": 29,
    "start_time": "2023-05-19T14:25:04.814Z"
   },
   {
    "duration": 65,
    "start_time": "2023-05-19T14:25:04.845Z"
   },
   {
    "duration": 54,
    "start_time": "2023-05-19T14:25:04.914Z"
   },
   {
    "duration": 23,
    "start_time": "2023-05-19T14:25:04.970Z"
   },
   {
    "duration": 30,
    "start_time": "2023-05-19T14:25:04.995Z"
   },
   {
    "duration": 39,
    "start_time": "2023-05-19T14:25:05.027Z"
   },
   {
    "duration": 16,
    "start_time": "2023-05-19T14:25:05.068Z"
   },
   {
    "duration": 347,
    "start_time": "2023-05-19T14:25:05.086Z"
   },
   {
    "duration": 15,
    "start_time": "2023-05-19T14:25:05.435Z"
   },
   {
    "duration": 359,
    "start_time": "2023-05-19T14:25:05.452Z"
   },
   {
    "duration": 11,
    "start_time": "2023-05-19T14:25:05.816Z"
   },
   {
    "duration": 17,
    "start_time": "2023-05-19T14:25:05.830Z"
   },
   {
    "duration": 228,
    "start_time": "2023-05-19T14:25:05.848Z"
   },
   {
    "duration": 154,
    "start_time": "2023-05-19T14:25:06.079Z"
   },
   {
    "duration": 21,
    "start_time": "2023-05-19T14:25:06.235Z"
   },
   {
    "duration": 288,
    "start_time": "2023-05-19T14:25:06.258Z"
   },
   {
    "duration": 202,
    "start_time": "2023-05-19T14:25:06.548Z"
   },
   {
    "duration": 272,
    "start_time": "2023-05-19T14:25:06.751Z"
   },
   {
    "duration": 226,
    "start_time": "2023-05-19T14:25:07.025Z"
   },
   {
    "duration": 253,
    "start_time": "2023-05-19T14:25:07.253Z"
   },
   {
    "duration": 213,
    "start_time": "2023-05-19T14:25:07.508Z"
   },
   {
    "duration": 6,
    "start_time": "2023-05-19T14:25:07.723Z"
   },
   {
    "duration": 177,
    "start_time": "2023-05-19T14:25:07.732Z"
   },
   {
    "duration": 171,
    "start_time": "2023-05-19T14:25:07.911Z"
   },
   {
    "duration": 7,
    "start_time": "2023-05-19T14:25:08.084Z"
   },
   {
    "duration": 264,
    "start_time": "2023-05-19T14:25:08.092Z"
   },
   {
    "duration": 172,
    "start_time": "2023-05-19T14:25:08.358Z"
   },
   {
    "duration": 11,
    "start_time": "2023-05-19T14:25:08.531Z"
   },
   {
    "duration": 50,
    "start_time": "2023-05-19T14:25:08.544Z"
   },
   {
    "duration": 5,
    "start_time": "2023-05-19T14:25:08.597Z"
   },
   {
    "duration": 23,
    "start_time": "2023-05-19T14:25:08.603Z"
   },
   {
    "duration": 8,
    "start_time": "2023-05-19T14:25:08.629Z"
   },
   {
    "duration": 11,
    "start_time": "2023-05-19T14:25:08.638Z"
   },
   {
    "duration": 14,
    "start_time": "2023-05-19T14:25:08.650Z"
   },
   {
    "duration": 59,
    "start_time": "2023-05-19T14:25:08.665Z"
   },
   {
    "duration": 4,
    "start_time": "2023-05-19T14:25:08.727Z"
   },
   {
    "duration": 51,
    "start_time": "2023-05-19T14:25:08.733Z"
   },
   {
    "duration": 11,
    "start_time": "2023-05-19T14:25:08.786Z"
   },
   {
    "duration": 1210,
    "start_time": "2023-05-20T08:52:19.116Z"
   },
   {
    "duration": 75,
    "start_time": "2023-05-20T08:52:20.328Z"
   },
   {
    "duration": 22,
    "start_time": "2023-05-20T08:52:20.405Z"
   },
   {
    "duration": 33,
    "start_time": "2023-05-20T08:52:20.430Z"
   },
   {
    "duration": 49,
    "start_time": "2023-05-20T08:52:20.465Z"
   },
   {
    "duration": 41,
    "start_time": "2023-05-20T08:52:20.516Z"
   },
   {
    "duration": 27,
    "start_time": "2023-05-20T08:52:20.559Z"
   },
   {
    "duration": 37,
    "start_time": "2023-05-20T08:52:20.588Z"
   },
   {
    "duration": 29,
    "start_time": "2023-05-20T08:52:20.627Z"
   },
   {
    "duration": 448,
    "start_time": "2023-05-20T08:52:20.660Z"
   },
   {
    "duration": 23,
    "start_time": "2023-05-20T08:52:21.110Z"
   },
   {
    "duration": 411,
    "start_time": "2023-05-20T08:52:21.135Z"
   },
   {
    "duration": 12,
    "start_time": "2023-05-20T08:52:21.548Z"
   },
   {
    "duration": 71,
    "start_time": "2023-05-20T08:52:21.561Z"
   },
   {
    "duration": 281,
    "start_time": "2023-05-20T08:52:21.634Z"
   },
   {
    "duration": 215,
    "start_time": "2023-05-20T08:52:21.917Z"
   },
   {
    "duration": 38,
    "start_time": "2023-05-20T08:52:22.135Z"
   },
   {
    "duration": 277,
    "start_time": "2023-05-20T08:52:22.175Z"
   },
   {
    "duration": 194,
    "start_time": "2023-05-20T08:52:22.455Z"
   },
   {
    "duration": 301,
    "start_time": "2023-05-20T08:52:22.652Z"
   },
   {
    "duration": 224,
    "start_time": "2023-05-20T08:52:22.955Z"
   },
   {
    "duration": 295,
    "start_time": "2023-05-20T08:52:23.180Z"
   },
   {
    "duration": 207,
    "start_time": "2023-05-20T08:52:23.476Z"
   },
   {
    "duration": 6,
    "start_time": "2023-05-20T08:52:23.685Z"
   },
   {
    "duration": 143,
    "start_time": "2023-05-20T08:52:23.693Z"
   },
   {
    "duration": 138,
    "start_time": "2023-05-20T08:52:23.838Z"
   },
   {
    "duration": 5,
    "start_time": "2023-05-20T08:52:23.978Z"
   },
   {
    "duration": 276,
    "start_time": "2023-05-20T08:52:23.986Z"
   },
   {
    "duration": 130,
    "start_time": "2023-05-20T08:52:24.267Z"
   },
   {
    "duration": 6,
    "start_time": "2023-05-20T08:52:24.398Z"
   },
   {
    "duration": 36,
    "start_time": "2023-05-20T08:52:24.407Z"
   },
   {
    "duration": 5,
    "start_time": "2023-05-20T08:52:24.444Z"
   },
   {
    "duration": 55,
    "start_time": "2023-05-20T08:52:24.451Z"
   },
   {
    "duration": 9,
    "start_time": "2023-05-20T08:52:24.508Z"
   },
   {
    "duration": 19,
    "start_time": "2023-05-20T08:52:24.519Z"
   },
   {
    "duration": 17,
    "start_time": "2023-05-20T08:52:24.540Z"
   },
   {
    "duration": 30,
    "start_time": "2023-05-20T08:52:24.559Z"
   },
   {
    "duration": 4,
    "start_time": "2023-05-20T08:52:24.590Z"
   },
   {
    "duration": 16,
    "start_time": "2023-05-20T08:52:24.596Z"
   },
   {
    "duration": 14,
    "start_time": "2023-05-20T08:52:24.614Z"
   },
   {
    "duration": 1222,
    "start_time": "2023-05-20T09:33:29.060Z"
   },
   {
    "duration": 74,
    "start_time": "2023-05-20T09:33:30.285Z"
   },
   {
    "duration": 22,
    "start_time": "2023-05-20T09:33:30.361Z"
   },
   {
    "duration": 33,
    "start_time": "2023-05-20T09:33:30.386Z"
   },
   {
    "duration": 39,
    "start_time": "2023-05-20T09:33:30.421Z"
   },
   {
    "duration": 39,
    "start_time": "2023-05-20T09:33:30.462Z"
   },
   {
    "duration": 48,
    "start_time": "2023-05-20T09:33:30.503Z"
   },
   {
    "duration": 42,
    "start_time": "2023-05-20T09:33:30.553Z"
   },
   {
    "duration": 54,
    "start_time": "2023-05-20T09:33:30.597Z"
   },
   {
    "duration": 337,
    "start_time": "2023-05-20T09:33:30.654Z"
   },
   {
    "duration": 15,
    "start_time": "2023-05-20T09:33:30.993Z"
   },
   {
    "duration": 333,
    "start_time": "2023-05-20T09:33:31.025Z"
   },
   {
    "duration": 14,
    "start_time": "2023-05-20T09:33:31.361Z"
   },
   {
    "duration": 29,
    "start_time": "2023-05-20T09:33:31.377Z"
   },
   {
    "duration": 216,
    "start_time": "2023-05-20T09:33:31.411Z"
   },
   {
    "duration": 165,
    "start_time": "2023-05-20T09:33:31.629Z"
   },
   {
    "duration": 34,
    "start_time": "2023-05-20T09:33:31.796Z"
   },
   {
    "duration": 374,
    "start_time": "2023-05-20T09:33:31.832Z"
   },
   {
    "duration": 218,
    "start_time": "2023-05-20T09:33:32.207Z"
   },
   {
    "duration": 287,
    "start_time": "2023-05-20T09:33:32.427Z"
   },
   {
    "duration": 228,
    "start_time": "2023-05-20T09:33:32.716Z"
   },
   {
    "duration": 300,
    "start_time": "2023-05-20T09:33:32.947Z"
   },
   {
    "duration": 232,
    "start_time": "2023-05-20T09:33:33.249Z"
   },
   {
    "duration": 7,
    "start_time": "2023-05-20T09:33:33.483Z"
   },
   {
    "duration": 222,
    "start_time": "2023-05-20T09:33:33.493Z"
   },
   {
    "duration": 160,
    "start_time": "2023-05-20T09:33:33.717Z"
   },
   {
    "duration": 5,
    "start_time": "2023-05-20T09:33:33.879Z"
   },
   {
    "duration": 264,
    "start_time": "2023-05-20T09:33:33.887Z"
   },
   {
    "duration": 154,
    "start_time": "2023-05-20T09:33:34.153Z"
   },
   {
    "duration": 19,
    "start_time": "2023-05-20T09:33:34.309Z"
   },
   {
    "duration": 25,
    "start_time": "2023-05-20T09:33:34.330Z"
   },
   {
    "duration": 4,
    "start_time": "2023-05-20T09:33:34.357Z"
   },
   {
    "duration": 26,
    "start_time": "2023-05-20T09:33:34.363Z"
   },
   {
    "duration": 12,
    "start_time": "2023-05-20T09:33:34.391Z"
   },
   {
    "duration": 28,
    "start_time": "2023-05-20T09:33:34.405Z"
   },
   {
    "duration": 10,
    "start_time": "2023-05-20T09:33:34.435Z"
   },
   {
    "duration": 54,
    "start_time": "2023-05-20T09:33:34.448Z"
   },
   {
    "duration": 5,
    "start_time": "2023-05-20T09:33:34.504Z"
   },
   {
    "duration": 22,
    "start_time": "2023-05-20T09:33:34.511Z"
   },
   {
    "duration": 13,
    "start_time": "2023-05-20T09:33:34.535Z"
   },
   {
    "duration": 11,
    "start_time": "2023-05-20T10:04:28.252Z"
   },
   {
    "duration": 9,
    "start_time": "2023-05-20T10:04:54.173Z"
   },
   {
    "duration": 1137,
    "start_time": "2023-05-20T10:11:32.406Z"
   },
   {
    "duration": 72,
    "start_time": "2023-05-20T10:11:33.545Z"
   },
   {
    "duration": 20,
    "start_time": "2023-05-20T10:11:33.619Z"
   },
   {
    "duration": 32,
    "start_time": "2023-05-20T10:11:33.641Z"
   },
   {
    "duration": 19,
    "start_time": "2023-05-20T10:11:33.675Z"
   },
   {
    "duration": 13,
    "start_time": "2023-05-20T10:11:33.696Z"
   },
   {
    "duration": 30,
    "start_time": "2023-05-20T10:11:33.710Z"
   },
   {
    "duration": 13,
    "start_time": "2023-05-20T10:11:33.742Z"
   },
   {
    "duration": 15,
    "start_time": "2023-05-20T10:11:33.756Z"
   },
   {
    "duration": 291,
    "start_time": "2023-05-20T10:11:33.773Z"
   },
   {
    "duration": 11,
    "start_time": "2023-05-20T10:11:34.066Z"
   },
   {
    "duration": 256,
    "start_time": "2023-05-20T10:11:34.079Z"
   },
   {
    "duration": 10,
    "start_time": "2023-05-20T10:11:34.337Z"
   },
   {
    "duration": 10,
    "start_time": "2023-05-20T10:11:34.350Z"
   },
   {
    "duration": 187,
    "start_time": "2023-05-20T10:11:34.361Z"
   },
   {
    "duration": 130,
    "start_time": "2023-05-20T10:11:34.549Z"
   },
   {
    "duration": 24,
    "start_time": "2023-05-20T10:11:34.680Z"
   },
   {
    "duration": 319,
    "start_time": "2023-05-20T10:11:34.705Z"
   },
   {
    "duration": 197,
    "start_time": "2023-05-20T10:11:35.027Z"
   },
   {
    "duration": 292,
    "start_time": "2023-05-20T10:11:35.226Z"
   },
   {
    "duration": 197,
    "start_time": "2023-05-20T10:11:35.524Z"
   },
   {
    "duration": 280,
    "start_time": "2023-05-20T10:11:35.722Z"
   },
   {
    "duration": 230,
    "start_time": "2023-05-20T10:11:36.003Z"
   },
   {
    "duration": 5,
    "start_time": "2023-05-20T10:11:36.235Z"
   },
   {
    "duration": 184,
    "start_time": "2023-05-20T10:11:36.242Z"
   },
   {
    "duration": 127,
    "start_time": "2023-05-20T10:11:36.428Z"
   },
   {
    "duration": 5,
    "start_time": "2023-05-20T10:11:36.556Z"
   },
   {
    "duration": 233,
    "start_time": "2023-05-20T10:11:36.562Z"
   },
   {
    "duration": 114,
    "start_time": "2023-05-20T10:11:36.797Z"
   },
   {
    "duration": 11,
    "start_time": "2023-05-20T10:11:36.913Z"
   },
   {
    "duration": 32,
    "start_time": "2023-05-20T10:11:36.926Z"
   },
   {
    "duration": 5,
    "start_time": "2023-05-20T10:11:36.960Z"
   },
   {
    "duration": 34,
    "start_time": "2023-05-20T10:11:36.966Z"
   },
   {
    "duration": 10,
    "start_time": "2023-05-20T10:11:37.002Z"
   },
   {
    "duration": 31,
    "start_time": "2023-05-20T10:11:37.014Z"
   },
   {
    "duration": 19,
    "start_time": "2023-05-20T10:11:37.047Z"
   },
   {
    "duration": 46,
    "start_time": "2023-05-20T10:11:37.068Z"
   },
   {
    "duration": 6,
    "start_time": "2023-05-20T10:11:37.116Z"
   },
   {
    "duration": 21,
    "start_time": "2023-05-20T10:11:37.123Z"
   },
   {
    "duration": 18,
    "start_time": "2023-05-20T10:11:37.146Z"
   },
   {
    "duration": 51,
    "start_time": "2023-05-20T10:55:06.314Z"
   },
   {
    "duration": 1349,
    "start_time": "2023-05-20T10:55:15.365Z"
   },
   {
    "duration": 190,
    "start_time": "2023-05-20T10:55:16.716Z"
   },
   {
    "duration": 19,
    "start_time": "2023-05-20T10:55:16.907Z"
   },
   {
    "duration": 32,
    "start_time": "2023-05-20T10:55:16.928Z"
   },
   {
    "duration": 36,
    "start_time": "2023-05-20T10:55:16.962Z"
   },
   {
    "duration": 11,
    "start_time": "2023-05-20T10:55:16.999Z"
   },
   {
    "duration": 29,
    "start_time": "2023-05-20T10:55:17.011Z"
   },
   {
    "duration": 29,
    "start_time": "2023-05-20T10:55:17.041Z"
   },
   {
    "duration": 23,
    "start_time": "2023-05-20T10:55:17.071Z"
   },
   {
    "duration": 294,
    "start_time": "2023-05-20T10:55:17.095Z"
   },
   {
    "duration": 10,
    "start_time": "2023-05-20T10:55:17.391Z"
   },
   {
    "duration": 272,
    "start_time": "2023-05-20T10:55:17.402Z"
   },
   {
    "duration": 9,
    "start_time": "2023-05-20T10:55:17.676Z"
   },
   {
    "duration": 28,
    "start_time": "2023-05-20T10:55:17.687Z"
   },
   {
    "duration": 183,
    "start_time": "2023-05-20T10:55:17.717Z"
   },
   {
    "duration": 122,
    "start_time": "2023-05-20T10:55:17.902Z"
   },
   {
    "duration": 15,
    "start_time": "2023-05-20T10:55:18.026Z"
   },
   {
    "duration": 267,
    "start_time": "2023-05-20T10:55:18.043Z"
   },
   {
    "duration": 178,
    "start_time": "2023-05-20T10:55:18.312Z"
   },
   {
    "duration": 345,
    "start_time": "2023-05-20T10:55:18.492Z"
   },
   {
    "duration": 173,
    "start_time": "2023-05-20T10:55:18.839Z"
   },
   {
    "duration": 274,
    "start_time": "2023-05-20T10:55:19.017Z"
   },
   {
    "duration": 190,
    "start_time": "2023-05-20T10:55:19.293Z"
   },
   {
    "duration": 5,
    "start_time": "2023-05-20T10:55:19.484Z"
   },
   {
    "duration": 121,
    "start_time": "2023-05-20T10:55:19.490Z"
   },
   {
    "duration": 122,
    "start_time": "2023-05-20T10:55:19.618Z"
   },
   {
    "duration": 4,
    "start_time": "2023-05-20T10:55:19.742Z"
   },
   {
    "duration": 211,
    "start_time": "2023-05-20T10:55:19.748Z"
   },
   {
    "duration": 129,
    "start_time": "2023-05-20T10:55:19.960Z"
   },
   {
    "duration": 5,
    "start_time": "2023-05-20T10:55:20.091Z"
   },
   {
    "duration": 47,
    "start_time": "2023-05-20T10:55:20.098Z"
   },
   {
    "duration": 15,
    "start_time": "2023-05-20T10:55:20.146Z"
   },
   {
    "duration": 24,
    "start_time": "2023-05-20T10:55:20.162Z"
   },
   {
    "duration": 32,
    "start_time": "2023-05-20T10:55:20.188Z"
   },
   {
    "duration": 22,
    "start_time": "2023-05-20T10:55:20.221Z"
   },
   {
    "duration": 10,
    "start_time": "2023-05-20T10:55:20.244Z"
   },
   {
    "duration": 46,
    "start_time": "2023-05-20T10:55:20.256Z"
   },
   {
    "duration": 3,
    "start_time": "2023-05-20T10:55:20.304Z"
   },
   {
    "duration": 20,
    "start_time": "2023-05-20T10:55:20.309Z"
   },
   {
    "duration": 23,
    "start_time": "2023-05-20T10:55:20.331Z"
   },
   {
    "duration": 132,
    "start_time": "2023-05-20T10:56:29.629Z"
   },
   {
    "duration": 125,
    "start_time": "2023-05-20T10:57:11.763Z"
   },
   {
    "duration": 152,
    "start_time": "2023-05-20T10:57:38.034Z"
   },
   {
    "duration": 131,
    "start_time": "2023-05-20T10:57:44.948Z"
   },
   {
    "duration": 139,
    "start_time": "2023-05-20T10:57:57.872Z"
   },
   {
    "duration": 130,
    "start_time": "2023-05-20T10:58:08.647Z"
   },
   {
    "duration": 9,
    "start_time": "2023-05-20T11:02:40.421Z"
   },
   {
    "duration": 8,
    "start_time": "2023-05-20T11:03:54.954Z"
   },
   {
    "duration": 86,
    "start_time": "2023-05-20T11:04:40.490Z"
   },
   {
    "duration": 78,
    "start_time": "2023-05-20T11:04:54.074Z"
   },
   {
    "duration": 110,
    "start_time": "2023-05-20T11:05:44.428Z"
   },
   {
    "duration": 7,
    "start_time": "2023-05-20T11:06:15.472Z"
   },
   {
    "duration": 66,
    "start_time": "2023-05-20T11:16:05.368Z"
   },
   {
    "duration": 85,
    "start_time": "2023-05-20T11:16:38.719Z"
   },
   {
    "duration": 83,
    "start_time": "2023-05-20T11:18:22.539Z"
   },
   {
    "duration": 1043,
    "start_time": "2023-05-20T11:18:48.967Z"
   },
   {
    "duration": 76,
    "start_time": "2023-05-20T11:18:50.012Z"
   },
   {
    "duration": 21,
    "start_time": "2023-05-20T11:18:50.089Z"
   },
   {
    "duration": 28,
    "start_time": "2023-05-20T11:18:50.112Z"
   },
   {
    "duration": 38,
    "start_time": "2023-05-20T11:18:50.141Z"
   },
   {
    "duration": 21,
    "start_time": "2023-05-20T11:18:50.181Z"
   },
   {
    "duration": 20,
    "start_time": "2023-05-20T11:18:50.203Z"
   },
   {
    "duration": 31,
    "start_time": "2023-05-20T11:18:50.224Z"
   },
   {
    "duration": 24,
    "start_time": "2023-05-20T11:18:50.257Z"
   },
   {
    "duration": 267,
    "start_time": "2023-05-20T11:18:50.283Z"
   },
   {
    "duration": 11,
    "start_time": "2023-05-20T11:18:50.552Z"
   },
   {
    "duration": 262,
    "start_time": "2023-05-20T11:18:50.565Z"
   },
   {
    "duration": 11,
    "start_time": "2023-05-20T11:18:50.829Z"
   },
   {
    "duration": 35,
    "start_time": "2023-05-20T11:18:50.842Z"
   },
   {
    "duration": 192,
    "start_time": "2023-05-20T11:18:50.879Z"
   },
   {
    "duration": 117,
    "start_time": "2023-05-20T11:18:51.073Z"
   },
   {
    "duration": 12,
    "start_time": "2023-05-20T11:18:51.192Z"
   },
   {
    "duration": 261,
    "start_time": "2023-05-20T11:18:51.205Z"
   },
   {
    "duration": 174,
    "start_time": "2023-05-20T11:18:51.467Z"
   },
   {
    "duration": 255,
    "start_time": "2023-05-20T11:18:51.643Z"
   },
   {
    "duration": 182,
    "start_time": "2023-05-20T11:18:51.899Z"
   },
   {
    "duration": 289,
    "start_time": "2023-05-20T11:18:52.082Z"
   },
   {
    "duration": 204,
    "start_time": "2023-05-20T11:18:52.373Z"
   },
   {
    "duration": 4,
    "start_time": "2023-05-20T11:18:52.579Z"
   },
   {
    "duration": 134,
    "start_time": "2023-05-20T11:18:52.585Z"
   },
   {
    "duration": 133,
    "start_time": "2023-05-20T11:18:52.721Z"
   },
   {
    "duration": 5,
    "start_time": "2023-05-20T11:18:52.855Z"
   },
   {
    "duration": 227,
    "start_time": "2023-05-20T11:18:52.863Z"
   },
   {
    "duration": 127,
    "start_time": "2023-05-20T11:18:53.092Z"
   },
   {
    "duration": 6,
    "start_time": "2023-05-20T11:18:53.221Z"
   },
   {
    "duration": 27,
    "start_time": "2023-05-20T11:18:53.229Z"
   },
   {
    "duration": 4,
    "start_time": "2023-05-20T11:18:53.257Z"
   },
   {
    "duration": 19,
    "start_time": "2023-05-20T11:18:53.262Z"
   },
   {
    "duration": 41,
    "start_time": "2023-05-20T11:18:53.283Z"
   },
   {
    "duration": 19,
    "start_time": "2023-05-20T11:18:53.325Z"
   },
   {
    "duration": 12,
    "start_time": "2023-05-20T11:18:53.346Z"
   },
   {
    "duration": 36,
    "start_time": "2023-05-20T11:18:53.360Z"
   },
   {
    "duration": 4,
    "start_time": "2023-05-20T11:18:53.398Z"
   },
   {
    "duration": 30,
    "start_time": "2023-05-20T11:18:53.403Z"
   },
   {
    "duration": 25,
    "start_time": "2023-05-20T11:18:53.434Z"
   },
   {
    "duration": 87,
    "start_time": "2023-05-20T11:22:43.891Z"
   },
   {
    "duration": 1259,
    "start_time": "2023-05-20T13:15:53.835Z"
   },
   {
    "duration": 75,
    "start_time": "2023-05-20T13:15:55.096Z"
   },
   {
    "duration": 22,
    "start_time": "2023-05-20T13:15:55.173Z"
   },
   {
    "duration": 19,
    "start_time": "2023-05-20T13:15:55.197Z"
   },
   {
    "duration": 20,
    "start_time": "2023-05-20T13:15:55.218Z"
   },
   {
    "duration": 5,
    "start_time": "2023-05-20T13:15:55.240Z"
   },
   {
    "duration": 14,
    "start_time": "2023-05-20T13:15:55.247Z"
   },
   {
    "duration": 14,
    "start_time": "2023-05-20T13:15:55.263Z"
   },
   {
    "duration": 20,
    "start_time": "2023-05-20T13:15:55.279Z"
   },
   {
    "duration": 326,
    "start_time": "2023-05-20T13:15:55.301Z"
   },
   {
    "duration": 11,
    "start_time": "2023-05-20T13:15:55.629Z"
   },
   {
    "duration": 281,
    "start_time": "2023-05-20T13:15:55.642Z"
   },
   {
    "duration": 11,
    "start_time": "2023-05-20T13:15:55.926Z"
   },
   {
    "duration": 9,
    "start_time": "2023-05-20T13:15:55.940Z"
   },
   {
    "duration": 177,
    "start_time": "2023-05-20T13:15:55.950Z"
   },
   {
    "duration": 127,
    "start_time": "2023-05-20T13:15:56.128Z"
   },
   {
    "duration": 12,
    "start_time": "2023-05-20T13:15:56.257Z"
   },
   {
    "duration": 257,
    "start_time": "2023-05-20T13:15:56.271Z"
   },
   {
    "duration": 181,
    "start_time": "2023-05-20T13:15:56.529Z"
   },
   {
    "duration": 317,
    "start_time": "2023-05-20T13:15:56.712Z"
   },
   {
    "duration": 217,
    "start_time": "2023-05-20T13:15:57.031Z"
   },
   {
    "duration": 261,
    "start_time": "2023-05-20T13:15:57.250Z"
   },
   {
    "duration": 219,
    "start_time": "2023-05-20T13:15:57.513Z"
   },
   {
    "duration": 4,
    "start_time": "2023-05-20T13:15:57.734Z"
   },
   {
    "duration": 153,
    "start_time": "2023-05-20T13:15:57.740Z"
   },
   {
    "duration": 142,
    "start_time": "2023-05-20T13:15:57.895Z"
   },
   {
    "duration": 4,
    "start_time": "2023-05-20T13:15:58.039Z"
   },
   {
    "duration": 230,
    "start_time": "2023-05-20T13:15:58.045Z"
   },
   {
    "duration": 159,
    "start_time": "2023-05-20T13:15:58.276Z"
   },
   {
    "duration": 11,
    "start_time": "2023-05-20T13:15:58.436Z"
   },
   {
    "duration": 66,
    "start_time": "2023-05-20T13:15:58.449Z"
   },
   {
    "duration": 4,
    "start_time": "2023-05-20T13:15:58.517Z"
   },
   {
    "duration": 35,
    "start_time": "2023-05-20T13:15:58.523Z"
   },
   {
    "duration": 8,
    "start_time": "2023-05-20T13:15:58.560Z"
   },
   {
    "duration": 27,
    "start_time": "2023-05-20T13:15:58.569Z"
   },
   {
    "duration": 17,
    "start_time": "2023-05-20T13:15:58.598Z"
   },
   {
    "duration": 25,
    "start_time": "2023-05-20T13:15:58.616Z"
   },
   {
    "duration": 5,
    "start_time": "2023-05-20T13:15:58.643Z"
   },
   {
    "duration": 33,
    "start_time": "2023-05-20T13:15:58.650Z"
   },
   {
    "duration": 25,
    "start_time": "2023-05-20T13:15:58.685Z"
   },
   {
    "duration": 1278,
    "start_time": "2023-05-20T13:20:28.623Z"
   },
   {
    "duration": 82,
    "start_time": "2023-05-20T13:20:29.903Z"
   },
   {
    "duration": 20,
    "start_time": "2023-05-20T13:20:29.986Z"
   },
   {
    "duration": 59,
    "start_time": "2023-05-20T13:20:30.008Z"
   },
   {
    "duration": 49,
    "start_time": "2023-05-20T13:20:30.070Z"
   },
   {
    "duration": 57,
    "start_time": "2023-05-20T13:20:30.121Z"
   },
   {
    "duration": 41,
    "start_time": "2023-05-20T13:20:30.180Z"
   },
   {
    "duration": 37,
    "start_time": "2023-05-20T13:20:30.223Z"
   },
   {
    "duration": 43,
    "start_time": "2023-05-20T13:20:30.262Z"
   },
   {
    "duration": 355,
    "start_time": "2023-05-20T13:20:30.307Z"
   },
   {
    "duration": 10,
    "start_time": "2023-05-20T13:20:30.664Z"
   },
   {
    "duration": 293,
    "start_time": "2023-05-20T13:20:30.676Z"
   },
   {
    "duration": 13,
    "start_time": "2023-05-20T13:20:30.971Z"
   },
   {
    "duration": 43,
    "start_time": "2023-05-20T13:20:30.988Z"
   },
   {
    "duration": 193,
    "start_time": "2023-05-20T13:20:31.033Z"
   },
   {
    "duration": 143,
    "start_time": "2023-05-20T13:20:31.228Z"
   },
   {
    "duration": 13,
    "start_time": "2023-05-20T13:20:31.373Z"
   },
   {
    "duration": 381,
    "start_time": "2023-05-20T13:20:31.387Z"
   },
   {
    "duration": 210,
    "start_time": "2023-05-20T13:20:31.770Z"
   },
   {
    "duration": 270,
    "start_time": "2023-05-20T13:20:31.982Z"
   },
   {
    "duration": 204,
    "start_time": "2023-05-20T13:20:32.254Z"
   },
   {
    "duration": 272,
    "start_time": "2023-05-20T13:20:32.460Z"
   },
   {
    "duration": 226,
    "start_time": "2023-05-20T13:20:32.734Z"
   },
   {
    "duration": 5,
    "start_time": "2023-05-20T13:20:32.962Z"
   },
   {
    "duration": 165,
    "start_time": "2023-05-20T13:20:32.969Z"
   },
   {
    "duration": 162,
    "start_time": "2023-05-20T13:20:33.137Z"
   },
   {
    "duration": 5,
    "start_time": "2023-05-20T13:20:33.301Z"
   },
   {
    "duration": 259,
    "start_time": "2023-05-20T13:20:33.324Z"
   },
   {
    "duration": 140,
    "start_time": "2023-05-20T13:20:33.585Z"
   },
   {
    "duration": 10,
    "start_time": "2023-05-20T13:20:33.727Z"
   },
   {
    "duration": 39,
    "start_time": "2023-05-20T13:20:33.739Z"
   },
   {
    "duration": 4,
    "start_time": "2023-05-20T13:20:33.780Z"
   },
   {
    "duration": 22,
    "start_time": "2023-05-20T13:20:33.786Z"
   },
   {
    "duration": 20,
    "start_time": "2023-05-20T13:20:33.809Z"
   },
   {
    "duration": 22,
    "start_time": "2023-05-20T13:20:33.832Z"
   },
   {
    "duration": 8,
    "start_time": "2023-05-20T13:20:33.855Z"
   },
   {
    "duration": 32,
    "start_time": "2023-05-20T13:20:33.864Z"
   },
   {
    "duration": 4,
    "start_time": "2023-05-20T13:20:33.898Z"
   },
   {
    "duration": 37,
    "start_time": "2023-05-20T13:20:33.903Z"
   },
   {
    "duration": 12,
    "start_time": "2023-05-20T13:20:33.941Z"
   },
   {
    "duration": 1341,
    "start_time": "2023-05-20T13:21:25.376Z"
   },
   {
    "duration": 87,
    "start_time": "2023-05-20T13:21:26.718Z"
   },
   {
    "duration": 19,
    "start_time": "2023-05-20T13:21:26.807Z"
   },
   {
    "duration": 27,
    "start_time": "2023-05-20T13:21:26.828Z"
   },
   {
    "duration": 20,
    "start_time": "2023-05-20T13:21:26.857Z"
   },
   {
    "duration": 10,
    "start_time": "2023-05-20T13:21:26.878Z"
   },
   {
    "duration": 13,
    "start_time": "2023-05-20T13:21:26.889Z"
   },
   {
    "duration": 32,
    "start_time": "2023-05-20T13:21:26.903Z"
   },
   {
    "duration": 12,
    "start_time": "2023-05-20T13:21:26.937Z"
   },
   {
    "duration": 346,
    "start_time": "2023-05-20T13:21:26.951Z"
   },
   {
    "duration": 12,
    "start_time": "2023-05-20T13:21:27.298Z"
   },
   {
    "duration": 302,
    "start_time": "2023-05-20T13:21:27.311Z"
   },
   {
    "duration": 11,
    "start_time": "2023-05-20T13:21:27.614Z"
   },
   {
    "duration": 25,
    "start_time": "2023-05-20T13:21:27.629Z"
   },
   {
    "duration": 207,
    "start_time": "2023-05-20T13:21:27.656Z"
   },
   {
    "duration": 154,
    "start_time": "2023-05-20T13:21:27.865Z"
   },
   {
    "duration": 21,
    "start_time": "2023-05-20T13:21:28.026Z"
   },
   {
    "duration": 264,
    "start_time": "2023-05-20T13:21:28.049Z"
   },
   {
    "duration": 195,
    "start_time": "2023-05-20T13:21:28.314Z"
   },
   {
    "duration": 324,
    "start_time": "2023-05-20T13:21:28.510Z"
   },
   {
    "duration": 193,
    "start_time": "2023-05-20T13:21:28.836Z"
   },
   {
    "duration": 289,
    "start_time": "2023-05-20T13:21:29.050Z"
   },
   {
    "duration": 244,
    "start_time": "2023-05-20T13:21:29.341Z"
   },
   {
    "duration": 6,
    "start_time": "2023-05-20T13:21:29.586Z"
   },
   {
    "duration": 175,
    "start_time": "2023-05-20T13:21:29.594Z"
   },
   {
    "duration": 167,
    "start_time": "2023-05-20T13:21:29.773Z"
   },
   {
    "duration": 7,
    "start_time": "2023-05-20T13:21:29.942Z"
   },
   {
    "duration": 254,
    "start_time": "2023-05-20T13:21:29.952Z"
   },
   {
    "duration": 155,
    "start_time": "2023-05-20T13:21:30.207Z"
   },
   {
    "duration": 7,
    "start_time": "2023-05-20T13:21:30.363Z"
   },
   {
    "duration": 111,
    "start_time": "2023-05-20T13:21:30.372Z"
   },
   {
    "duration": 12,
    "start_time": "2023-05-20T13:21:30.485Z"
   },
   {
    "duration": 60,
    "start_time": "2023-05-20T13:21:30.499Z"
   },
   {
    "duration": 41,
    "start_time": "2023-05-20T13:21:30.561Z"
   },
   {
    "duration": 65,
    "start_time": "2023-05-20T13:21:30.604Z"
   },
   {
    "duration": 77,
    "start_time": "2023-05-20T13:21:30.671Z"
   },
   {
    "duration": 59,
    "start_time": "2023-05-20T13:21:30.751Z"
   },
   {
    "duration": 24,
    "start_time": "2023-05-20T13:21:30.812Z"
   },
   {
    "duration": 60,
    "start_time": "2023-05-20T13:21:30.838Z"
   },
   {
    "duration": 117,
    "start_time": "2023-05-20T13:21:30.899Z"
   },
   {
    "duration": 1248,
    "start_time": "2023-05-20T13:21:44.951Z"
   },
   {
    "duration": 74,
    "start_time": "2023-05-20T13:21:46.201Z"
   },
   {
    "duration": 20,
    "start_time": "2023-05-20T13:21:46.277Z"
   },
   {
    "duration": 68,
    "start_time": "2023-05-20T13:21:46.298Z"
   },
   {
    "duration": 15,
    "start_time": "2023-05-20T13:21:46.368Z"
   },
   {
    "duration": 8,
    "start_time": "2023-05-20T13:21:46.385Z"
   },
   {
    "duration": 11,
    "start_time": "2023-05-20T13:21:46.395Z"
   },
   {
    "duration": 14,
    "start_time": "2023-05-20T13:21:46.407Z"
   },
   {
    "duration": 19,
    "start_time": "2023-05-20T13:21:46.422Z"
   },
   {
    "duration": 286,
    "start_time": "2023-05-20T13:21:46.442Z"
   },
   {
    "duration": 14,
    "start_time": "2023-05-20T13:21:46.731Z"
   },
   {
    "duration": 296,
    "start_time": "2023-05-20T13:21:46.747Z"
   },
   {
    "duration": 12,
    "start_time": "2023-05-20T13:21:47.045Z"
   },
   {
    "duration": 16,
    "start_time": "2023-05-20T13:21:47.060Z"
   },
   {
    "duration": 198,
    "start_time": "2023-05-20T13:21:47.077Z"
   },
   {
    "duration": 139,
    "start_time": "2023-05-20T13:21:47.277Z"
   },
   {
    "duration": 34,
    "start_time": "2023-05-20T13:21:47.417Z"
   },
   {
    "duration": 299,
    "start_time": "2023-05-20T13:21:47.453Z"
   },
   {
    "duration": 215,
    "start_time": "2023-05-20T13:21:47.753Z"
   },
   {
    "duration": 292,
    "start_time": "2023-05-20T13:21:47.970Z"
   },
   {
    "duration": 218,
    "start_time": "2023-05-20T13:21:48.264Z"
   },
   {
    "duration": 375,
    "start_time": "2023-05-20T13:21:48.484Z"
   },
   {
    "duration": 224,
    "start_time": "2023-05-20T13:21:48.860Z"
   },
   {
    "duration": 5,
    "start_time": "2023-05-20T13:21:49.086Z"
   },
   {
    "duration": 173,
    "start_time": "2023-05-20T13:21:49.093Z"
   },
   {
    "duration": 167,
    "start_time": "2023-05-20T13:21:49.270Z"
   },
   {
    "duration": 7,
    "start_time": "2023-05-20T13:21:49.440Z"
   },
   {
    "duration": 246,
    "start_time": "2023-05-20T13:21:49.450Z"
   },
   {
    "duration": 149,
    "start_time": "2023-05-20T13:21:49.698Z"
   },
   {
    "duration": 6,
    "start_time": "2023-05-20T13:21:49.850Z"
   },
   {
    "duration": 33,
    "start_time": "2023-05-20T13:21:49.858Z"
   },
   {
    "duration": 4,
    "start_time": "2023-05-20T13:21:49.893Z"
   },
   {
    "duration": 18,
    "start_time": "2023-05-20T13:21:49.898Z"
   },
   {
    "duration": 18,
    "start_time": "2023-05-20T13:21:49.918Z"
   },
   {
    "duration": 28,
    "start_time": "2023-05-20T13:21:49.938Z"
   },
   {
    "duration": 41,
    "start_time": "2023-05-20T13:21:49.968Z"
   },
   {
    "duration": 88,
    "start_time": "2023-05-20T13:21:50.011Z"
   },
   {
    "duration": 3,
    "start_time": "2023-05-20T13:21:50.101Z"
   },
   {
    "duration": 14,
    "start_time": "2023-05-20T13:21:50.106Z"
   },
   {
    "duration": 25,
    "start_time": "2023-05-20T13:21:50.122Z"
   },
   {
    "duration": 53,
    "start_time": "2023-05-22T16:17:16.047Z"
   },
   {
    "duration": 1166,
    "start_time": "2023-05-22T16:17:47.315Z"
   },
   {
    "duration": 198,
    "start_time": "2023-05-22T16:17:48.483Z"
   },
   {
    "duration": 20,
    "start_time": "2023-05-22T16:17:48.682Z"
   },
   {
    "duration": 19,
    "start_time": "2023-05-22T16:17:48.703Z"
   },
   {
    "duration": 15,
    "start_time": "2023-05-22T16:17:48.724Z"
   },
   {
    "duration": 7,
    "start_time": "2023-05-22T16:17:48.741Z"
   },
   {
    "duration": 16,
    "start_time": "2023-05-22T16:17:48.749Z"
   },
   {
    "duration": 10,
    "start_time": "2023-05-22T16:17:48.767Z"
   },
   {
    "duration": 11,
    "start_time": "2023-05-22T16:17:48.778Z"
   },
   {
    "duration": 292,
    "start_time": "2023-05-22T16:17:48.791Z"
   },
   {
    "duration": 11,
    "start_time": "2023-05-22T16:17:49.084Z"
   },
   {
    "duration": 282,
    "start_time": "2023-05-22T16:17:49.097Z"
   },
   {
    "duration": 10,
    "start_time": "2023-05-22T16:17:49.381Z"
   },
   {
    "duration": 9,
    "start_time": "2023-05-22T16:17:49.394Z"
   },
   {
    "duration": 193,
    "start_time": "2023-05-22T16:17:49.405Z"
   },
   {
    "duration": 133,
    "start_time": "2023-05-22T16:17:49.600Z"
   },
   {
    "duration": 33,
    "start_time": "2023-05-22T16:17:49.734Z"
   },
   {
    "duration": 269,
    "start_time": "2023-05-22T16:17:49.768Z"
   },
   {
    "duration": 214,
    "start_time": "2023-05-22T16:17:50.039Z"
   },
   {
    "duration": 312,
    "start_time": "2023-05-22T16:17:50.255Z"
   },
   {
    "duration": 208,
    "start_time": "2023-05-22T16:17:50.569Z"
   },
   {
    "duration": 264,
    "start_time": "2023-05-22T16:17:50.779Z"
   },
   {
    "duration": 238,
    "start_time": "2023-05-22T16:17:51.045Z"
   },
   {
    "duration": 5,
    "start_time": "2023-05-22T16:17:51.286Z"
   },
   {
    "duration": 153,
    "start_time": "2023-05-22T16:17:51.293Z"
   },
   {
    "duration": 159,
    "start_time": "2023-05-22T16:17:51.447Z"
   },
   {
    "duration": 5,
    "start_time": "2023-05-22T16:17:51.608Z"
   },
   {
    "duration": 236,
    "start_time": "2023-05-22T16:17:51.614Z"
   },
   {
    "duration": 126,
    "start_time": "2023-05-22T16:17:51.863Z"
   },
   {
    "duration": 6,
    "start_time": "2023-05-22T16:17:51.991Z"
   },
   {
    "duration": 33,
    "start_time": "2023-05-22T16:17:51.998Z"
   },
   {
    "duration": 4,
    "start_time": "2023-05-22T16:17:52.032Z"
   },
   {
    "duration": 27,
    "start_time": "2023-05-22T16:17:52.037Z"
   },
   {
    "duration": 11,
    "start_time": "2023-05-22T16:17:52.065Z"
   },
   {
    "duration": 11,
    "start_time": "2023-05-22T16:17:52.077Z"
   },
   {
    "duration": 8,
    "start_time": "2023-05-22T16:17:52.089Z"
   },
   {
    "duration": 20,
    "start_time": "2023-05-22T16:17:52.099Z"
   },
   {
    "duration": 5,
    "start_time": "2023-05-22T16:17:52.120Z"
   },
   {
    "duration": 37,
    "start_time": "2023-05-22T16:17:52.127Z"
   },
   {
    "duration": 9,
    "start_time": "2023-05-22T16:17:52.166Z"
   }
  ],
  "kernelspec": {
   "display_name": "Python 3 (ipykernel)",
   "language": "python",
   "name": "python3"
  },
  "language_info": {
   "codemirror_mode": {
    "name": "ipython",
    "version": 3
   },
   "file_extension": ".py",
   "mimetype": "text/x-python",
   "name": "python",
   "nbconvert_exporter": "python",
   "pygments_lexer": "ipython3",
   "version": "3.9.13"
  },
  "toc": {
   "base_numbering": 1,
   "nav_menu": {},
   "number_sections": true,
   "sideBar": true,
   "skip_h1_title": true,
   "title_cell": "Table of Contents",
   "title_sidebar": "Contents",
   "toc_cell": false,
   "toc_position": {},
   "toc_section_display": true,
   "toc_window_display": false
  }
 },
 "nbformat": 4,
 "nbformat_minor": 2
}
